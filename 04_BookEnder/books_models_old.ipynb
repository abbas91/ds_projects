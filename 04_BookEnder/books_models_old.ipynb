{
 "cells": [
  {
   "cell_type": "code",
   "execution_count": 130,
   "metadata": {
    "ExecuteTime": {
     "end_time": "2016-11-09T21:35:34.948889",
     "start_time": "2016-11-09T21:35:34.943660"
    },
    "collapsed": true,
    "run_control": {
     "frozen": false,
     "read_only": false
    }
   },
   "outputs": [],
   "source": [
    "import csv"
   ]
  },
  {
   "cell_type": "code",
   "execution_count": 30,
   "metadata": {
    "ExecuteTime": {
     "end_time": "2016-11-09T19:53:21.653728",
     "start_time": "2016-11-09T19:53:21.635970"
    },
    "collapsed": false,
    "run_control": {
     "frozen": false,
     "read_only": false
    }
   },
   "outputs": [],
   "source": [
    "import pandas as pd\n",
    "import numpy as np\n",
    "import matplotlib.pyplot as plt\n",
    "import re\n",
    "import gensim\n",
    "from nltk.tokenize import word_tokenize\n",
    "from nltk.corpus import stopwords\n",
    "from sklearn.metrics.pairwise import cosine_similarity\n",
    "\n",
    "%matplotlib inline"
   ]
  },
  {
   "cell_type": "code",
   "execution_count": 31,
   "metadata": {
    "ExecuteTime": {
     "end_time": "2016-11-09T19:53:23.189680",
     "start_time": "2016-11-09T19:53:22.668660"
    },
    "collapsed": false,
    "run_control": {
     "frozen": false,
     "read_only": false
    }
   },
   "outputs": [],
   "source": [
    "books = pd.read_json('Projects/4Fletcher/books_data.json')"
   ]
  },
  {
   "cell_type": "code",
   "execution_count": 32,
   "metadata": {
    "ExecuteTime": {
     "end_time": "2016-11-09T19:53:24.102367",
     "start_time": "2016-11-09T19:53:24.092894"
    },
    "collapsed": false,
    "run_control": {
     "frozen": false,
     "read_only": false
    }
   },
   "outputs": [],
   "source": [
    "books = books.reset_index()"
   ]
  },
  {
   "cell_type": "code",
   "execution_count": 33,
   "metadata": {
    "ExecuteTime": {
     "end_time": "2016-11-09T19:53:24.929086",
     "start_time": "2016-11-09T19:53:24.917300"
    },
    "collapsed": true,
    "run_control": {
     "frozen": false,
     "read_only": false
    }
   },
   "outputs": [],
   "source": [
    "books = books.drop('index',axis=1)"
   ]
  },
  {
   "cell_type": "code",
   "execution_count": null,
   "metadata": {
    "ExecuteTime": {
     "end_time": "2016-11-09T21:41:29.852198",
     "start_time": "2016-11-10T05:41:04.454Z"
    },
    "collapsed": false,
    "run_control": {
     "frozen": false,
     "read_only": false
    }
   },
   "outputs": [],
   "source": [
    "books.head()"
   ]
  },
  {
   "cell_type": "code",
   "execution_count": 35,
   "metadata": {
    "ExecuteTime": {
     "end_time": "2016-11-09T19:53:31.283458",
     "start_time": "2016-11-09T19:53:31.275618"
    },
    "collapsed": true,
    "run_control": {
     "frozen": false,
     "read_only": false
    }
   },
   "outputs": [],
   "source": [
    "books = books[books['Summary']!=None]"
   ]
  },
  {
   "cell_type": "code",
   "execution_count": 132,
   "metadata": {
    "ExecuteTime": {
     "end_time": "2016-11-09T21:41:33.884550",
     "start_time": "2016-11-09T21:41:33.839207"
    },
    "collapsed": false,
    "run_control": {
     "frozen": false,
     "read_only": false
    }
   },
   "outputs": [
    {
     "name": "stdout",
     "output_type": "stream",
     "text": [
      "<class 'pandas.core.frame.DataFrame'>\n",
      "Int64Index: 12841 entries, 0 to 12840\n",
      "Data columns (total 5 columns):\n",
      "Author            12841 non-null object\n",
      "Book_Title        12841 non-null object\n",
      "Genre             12841 non-null object\n",
      "Published_date    12841 non-null int64\n",
      "Summary           12841 non-null object\n",
      "dtypes: int64(1), object(4)\n",
      "memory usage: 601.9+ KB\n"
     ]
    }
   ],
   "source": [
    "books.info()"
   ]
  },
  {
   "cell_type": "code",
   "execution_count": 55,
   "metadata": {
    "ExecuteTime": {
     "end_time": "2016-11-09T20:02:30.648281",
     "start_time": "2016-11-09T20:00:44.884451"
    },
    "collapsed": false,
    "run_control": {
     "frozen": false,
     "read_only": false
    }
   },
   "outputs": [],
   "source": [
    "model = gensim.models.Word2Vec.load_word2vec_format('./Projects/4Fletcher/GoogleNews-vectors-negative300.bin', binary=True) "
   ]
  },
  {
   "cell_type": "code",
   "execution_count": null,
   "metadata": {
    "collapsed": true,
    "run_control": {
     "frozen": false,
     "read_only": false
    }
   },
   "outputs": [],
   "source": [
    "w2v = gensim.models.Word2Vec.load_word2vec_format('./Projects/4Fletcher/glove.6B.300d.txt', binary=False) "
   ]
  },
  {
   "cell_type": "code",
   "execution_count": 38,
   "metadata": {
    "ExecuteTime": {
     "end_time": "2016-11-09T19:53:52.712975",
     "start_time": "2016-11-09T19:53:52.708014"
    },
    "collapsed": false,
    "run_control": {
     "frozen": false,
     "read_only": false
    }
   },
   "outputs": [],
   "source": [
    "import re, string\n",
    "from string import maketrans"
   ]
  },
  {
   "cell_type": "code",
   "execution_count": 39,
   "metadata": {
    "ExecuteTime": {
     "end_time": "2016-11-09T19:53:54.728720",
     "start_time": "2016-11-09T19:53:54.720234"
    },
    "collapsed": true,
    "run_control": {
     "frozen": false,
     "read_only": false
    }
   },
   "outputs": [],
   "source": [
    "summ = [row for row in books['Summary']]"
   ]
  },
  {
   "cell_type": "code",
   "execution_count": 127,
   "metadata": {
    "ExecuteTime": {
     "end_time": "2016-11-09T21:34:46.056954",
     "start_time": "2016-11-09T21:34:46.047365"
    },
    "collapsed": false,
    "run_control": {
     "frozen": false,
     "read_only": false
    }
   },
   "outputs": [],
   "source": [
    "def tokenize(column_of_documents): \n",
    "    stoplist = stopwords.words('english')\n",
    "    wordsindoc = []\n",
    "    for v in column_of_documents:\n",
    "        try:\n",
    "            regex = re.compile('[%s]' % re.escape(string.punctuation))\n",
    "            v = str(v)\n",
    "            v = v.lower().split()\n",
    "            words = [regex.sub('',word) for word in v if word not in stoplist]\n",
    "            wordsindoc.append(words)\n",
    "        except:\n",
    "            wordsindoc.append([])\n",
    "    return wordsindoc"
   ]
  },
  {
   "cell_type": "code",
   "execution_count": 160,
   "metadata": {
    "ExecuteTime": {
     "end_time": "2016-11-09T22:28:53.656247",
     "start_time": "2016-11-09T22:28:53.646502"
    },
    "code_folding": [],
    "collapsed": false,
    "run_control": {
     "frozen": false,
     "marked": false,
     "read_only": false
    }
   },
   "outputs": [],
   "source": [
    "def get_doc_vect(model,column_of_documents):\n",
    "    wordtokens = tokenize(column_of_documents)\n",
    "    doc_vects = []\n",
    "    for words in wordtokens:\n",
    "        if words:\n",
    "            words_vecs = []\n",
    "            for word in words:\n",
    "                try:\n",
    "                    words_vecs.append(model[word])\n",
    "                except:\n",
    "                    pass\n",
    "            doc_vects.append(np.array(words_vecs).mean(axis=0))\n",
    "        else:\n",
    "            _ = np.empty((300,))\n",
    "            _[:] = np.NaN\n",
    "            doc_vects.append(_)\n",
    "    return doc_vects"
   ]
  },
  {
   "cell_type": "code",
   "execution_count": 161,
   "metadata": {
    "ExecuteTime": {
     "end_time": "2016-11-09T22:29:29.477963",
     "start_time": "2016-11-09T22:28:54.936327"
    },
    "collapsed": false,
    "run_control": {
     "frozen": false,
     "read_only": false
    }
   },
   "outputs": [],
   "source": [
    "vects = get_doc_vect(model,summ)"
   ]
  },
  {
   "cell_type": "code",
   "execution_count": 163,
   "metadata": {
    "ExecuteTime": {
     "end_time": "2016-11-09T22:29:34.983218",
     "start_time": "2016-11-09T22:29:34.972744"
    },
    "collapsed": false,
    "run_control": {
     "frozen": false,
     "read_only": false
    }
   },
   "outputs": [
    {
     "data": {
      "text/plain": [
       "12841"
      ]
     },
     "execution_count": 163,
     "metadata": {},
     "output_type": "execute_result"
    }
   ],
   "source": [
    "len(vects)"
   ]
  },
  {
   "cell_type": "code",
   "execution_count": 164,
   "metadata": {
    "ExecuteTime": {
     "end_time": "2016-11-09T22:29:39.445386",
     "start_time": "2016-11-09T22:29:39.439995"
    },
    "collapsed": false,
    "run_control": {
     "frozen": false,
     "read_only": false
    }
   },
   "outputs": [
    {
     "data": {
      "text/plain": [
       "(300,)"
      ]
     },
     "execution_count": 164,
     "metadata": {},
     "output_type": "execute_result"
    }
   ],
   "source": [
    "vects[19].shape"
   ]
  },
  {
   "cell_type": "code",
   "execution_count": 166,
   "metadata": {
    "ExecuteTime": {
     "end_time": "2016-11-09T22:31:55.466743",
     "start_time": "2016-11-09T22:31:55.453434"
    },
    "collapsed": true
   },
   "outputs": [],
   "source": [
    "vects_array = np.array(vects)"
   ]
  },
  {
   "cell_type": "code",
   "execution_count": 168,
   "metadata": {
    "ExecuteTime": {
     "end_time": "2016-11-09T22:32:06.843155",
     "start_time": "2016-11-09T22:32:06.837398"
    },
    "collapsed": false,
    "run_control": {
     "frozen": false,
     "read_only": false
    }
   },
   "outputs": [],
   "source": [
    "vectors = pd.DataFrame(data=vects_array)"
   ]
  },
  {
   "cell_type": "code",
   "execution_count": 170,
   "metadata": {
    "ExecuteTime": {
     "end_time": "2016-11-09T22:32:28.823779",
     "start_time": "2016-11-09T22:32:28.770961"
    },
    "collapsed": true
   }
    {
   "source": [
    "\n",
    "new = []\n",
    "\n",
    "for row in vects_test['0']:\n",
    "    print (row)\n",
    "\n",
    "\n"
   ]
  },
  {
   "cell_type": "code",
   "execution_count": 184,
   "metadata": {
    "ExecuteTime": {
     "end_time": "2016-11-09T22:49:51.358969",
     "start_time": "2016-11-09T22:49:51.353035"
    },
    "collapsed": false
   },
   "outputs": [
    {
     "data": {
      "text/plain": [
       "1"
      ]
     },
     "execution_count": 184,
     "metadata": {},
     "output_type": "execute_result"
    }
   ],
   "source": [
    "len(new)"
   ]
  },
  {
   "cell_type": "code",
   "execution_count": 193,
   "metadata": {
    "ExecuteTime": {
     "end_time": "2016-11-09T22:51:56.944689",
     "start_time": "2016-11-09T22:51:56.938041"
    },
    "collapsed": false
   },
   "outputs": [
    {
     "data": {
      "text/plain": [
       "pandas.core.frame.DataFrame"
      ]
     },
     "execution_count": 193,
     "metadata": {},
     "output_type": "execute_result"
    }
   ],
   "source": [
    "type(vects_test)"
   ]
  },
  {
   "cell_type": "code",
   "execution_count": null,
   "metadata": {
    "collapsed": true
   },
   "outputs": [],
   "source": []
  }
 ],
 "metadata": {
  "anaconda-cloud": {},
  "kernelspec": {
   "display_name": "Python [default]",
   "language": "python",
   "name": "python2"
  },
  "language_info": {
   "codemirror_mode": {
    "name": "ipython",
    "version": 2
   },
   "file_extension": ".py",
   "mimetype": "text/x-python",
   "name": "python",
   "nbconvert_exporter": "python",
   "pygments_lexer": "ipython2",
   "version": "2.7.12"
  },
  "toc": {
   "nav_menu": {
    "height": "12px",
    "width": "252px"
   },
   "navigate_menu": true,
   "number_sections": true,
   "sideBar": true,
   "threshold": 4,
   "toc_cell": false,
   "toc_section_display": "block",
   "toc_window_display": false
  }
 },
 "nbformat": 4,
 "nbformat_minor": 1
}
