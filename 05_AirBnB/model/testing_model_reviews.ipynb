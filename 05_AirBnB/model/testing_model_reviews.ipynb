{
 "cells": [
  {
   "cell_type": "markdown",
   "metadata": {
    "run_control": {
     "frozen": false,
     "read_only": false
    }
   },
   "source": [
    "## Imports"
   ]
  },
  {
   "cell_type": "code",
   "execution_count": 2,
   "metadata": {
    "ExecuteTime": {
     "end_time": "2016-12-08T19:54:12.471100",
     "start_time": "2016-12-08T19:54:09.232726"
    },
    "collapsed": false,
    "run_control": {
     "frozen": false,
     "read_only": false
    }
   },
   "outputs": [
    {
     "name": "stderr",
     "output_type": "stream",
     "text": [
      "/Users/veenakumar/anaconda2/lib/python2.7/site-packages/sklearn/cross_validation.py:44: DeprecationWarning: This module was deprecated in version 0.18 in favor of the model_selection module into which all the refactored classes and functions are moved. Also note that the interface of the new CV iterators are different from that of this module. This module will be removed in 0.20.\n",
      "  \"This module will be removed in 0.20.\", DeprecationWarning)\n",
      "/Users/veenakumar/anaconda2/lib/python2.7/site-packages/gensim/utils.py:1015: UserWarning: Pattern library is not installed, lemmatization won't be available.\n",
      "  warnings.warn(\"Pattern library is not installed, lemmatization won't be available.\")\n"
     ]
    }
   ],
   "source": [
    "import pandas as pd\n",
    "import numpy as np\n",
    "import glob\n",
    "import os\n",
    "import seaborn as sns\n",
    "from seaborn import plt\n",
    "\n",
    "from __future__ import division, unicode_literals\n",
    "import re\n",
    "import gensim\n",
    "from nltk.tokenize import word_tokenize\n",
    "from nltk.corpus import stopwords\n",
    "from sklearn.metrics.pairwise import cosine_similarity\n",
    "\n",
    "\n",
    "%matplotlib inline"
   ]
  },
  {
   "cell_type": "code",
   "execution_count": 1,
   "metadata": {
    "ExecuteTime": {
     "end_time": "2016-12-08T19:53:52.029808",
     "start_time": "2016-12-08T19:53:52.018755"
    },
    "collapsed": true,
    "run_control": {
     "frozen": false,
     "read_only": false
    }
   },
   "outputs": [],
   "source": [
    "import pickle"
   ]
  },
  {
   "cell_type": "code",
   "execution_count": 17,
   "metadata": {
    "ExecuteTime": {
     "end_time": "2016-12-08T20:27:50.977034",
     "start_time": "2016-12-08T20:27:42.201023"
    },
    "collapsed": true,
    "run_control": {
     "frozen": false,
     "read_only": false
    }
   },
   "outputs": [],
   "source": [
    "with open(\"./review_matrix_aggreg_final.pkl\", 'rb') as picklefile: \n",
    "    review_index = pickle.load(picklefile)\n",
    "    \n",
    "with open(\"./model_glove_final.pkl\", 'rb') as picklefile: \n",
    "    model = pickle.load(picklefile)"
   ]
  },
  {
   "cell_type": "code",
   "execution_count": 42,
   "metadata": {
    "ExecuteTime": {
     "end_time": "2016-12-08T20:49:19.360029",
     "start_time": "2016-12-08T20:49:19.333432"
    },
    "collapsed": true,
    "run_control": {
     "frozen": false,
     "read_only": false
    }
   },
   "outputs": [],
   "source": [
    "import re, string\n",
    "from string import maketrans\n",
    "from gensim.models import Word2Vec"
   ]
  },
  {
   "cell_type": "code",
   "execution_count": 43,
   "metadata": {
    "ExecuteTime": {
     "end_time": "2016-12-08T20:49:28.693285",
     "start_time": "2016-12-08T20:49:28.689751"
    },
    "collapsed": true,
    "run_control": {
     "frozen": false,
     "read_only": false
    }
   },
   "outputs": [],
   "source": [
    "glove_path = '/Users/veenakumar/ds/metis/metisgh/sf16_ds4/local/Projects/5Kojak/glove.6B/glove.6B.300d.txt'"
   ]
  },
  {
   "cell_type": "code",
   "execution_count": 44,
   "metadata": {
    "ExecuteTime": {
     "end_time": "2016-12-08T20:53:04.621055",
     "start_time": "2016-12-08T20:49:41.909093"
    },
    "collapsed": true,
    "run_control": {
     "frozen": false,
     "read_only": false
    }
   },
   "outputs": [],
   "source": [
    "model = gensim.models.Word2Vec.load_word2vec_format(glove_path) "
   ]
  },
  {
   "cell_type": "code",
   "execution_count": 6,
   "metadata": {
    "ExecuteTime": {
     "end_time": "2016-12-08T20:04:39.420747",
     "start_time": "2016-12-08T20:04:38.305360"
    },
    "collapsed": true,
    "run_control": {
     "frozen": false,
     "read_only": false
    }
   },
   "outputs": [],
   "source": [
    "reviews = pd.read_csv(\"./reviews_clean_FINAL.csv\",index_col=0)\n",
    "listings = pd.read_csv(\"./listings_FINAL.csv\",index_col=0)"
   ]
  },
  {
   "cell_type": "code",
   "execution_count": 7,
   "metadata": {
    "ExecuteTime": {
     "end_time": "2016-12-08T20:04:44.202821",
     "start_time": "2016-12-08T20:04:44.093933"
    },
    "collapsed": false,
    "run_control": {
     "frozen": false,
     "read_only": false
    },
    "scrolled": true
   },
   "outputs": [
    {
     "data": {
      "text/html": [
       "<div>\n",
       "<table border=\"1\" class=\"dataframe\">\n",
       "  <thead>\n",
       "    <tr style=\"text-align: right;\">\n",
       "      <th></th>\n",
       "      <th>listing_id</th>\n",
       "      <th>comments</th>\n",
       "    </tr>\n",
       "  </thead>\n",
       "  <tbody>\n",
       "    <tr>\n",
       "      <th>0</th>\n",
       "      <td>1417398</td>\n",
       "      <td>Catherine and Gabe were away when we arrived. ...</td>\n",
       "    </tr>\n",
       "    <tr>\n",
       "      <th>1</th>\n",
       "      <td>1417398</td>\n",
       "      <td>We had a warm welcome from Catherine, Gabe and...</td>\n",
       "    </tr>\n",
       "    <tr>\n",
       "      <th>2</th>\n",
       "      <td>1417398</td>\n",
       "      <td>Great room. It's nice to share a space but sti...</td>\n",
       "    </tr>\n",
       "    <tr>\n",
       "      <th>3</th>\n",
       "      <td>1417398</td>\n",
       "      <td>The room was perfect for our stay with a priva...</td>\n",
       "    </tr>\n",
       "    <tr>\n",
       "      <th>4</th>\n",
       "      <td>1417398</td>\n",
       "      <td>Everything was perfect! Catherine and Gabe wer...</td>\n",
       "    </tr>\n",
       "  </tbody>\n",
       "</table>\n",
       "</div>"
      ],
      "text/plain": [
       "   listing_id                                           comments\n",
       "0     1417398  Catherine and Gabe were away when we arrived. ...\n",
       "1     1417398  We had a warm welcome from Catherine, Gabe and...\n",
       "2     1417398  Great room. It's nice to share a space but sti...\n",
       "3     1417398  The room was perfect for our stay with a priva...\n",
       "4     1417398  Everything was perfect! Catherine and Gabe wer..."
      ]
     },
     "execution_count": 7,
     "metadata": {},
     "output_type": "execute_result"
    }
   ],
   "source": [
    "reviews.head()"
   ]
  },
  {
   "cell_type": "code",
   "execution_count": 12,
   "metadata": {
    "ExecuteTime": {
     "end_time": "2016-12-08T20:19:04.986527",
     "start_time": "2016-12-08T20:19:04.895775"
    },
    "collapsed": false,
    "run_control": {
     "frozen": false,
     "read_only": false
    }
   },
   "outputs": [
    {
     "data": {
      "text/html": [
       "<div>\n",
       "<table border=\"1\" class=\"dataframe\">\n",
       "  <thead>\n",
       "    <tr style=\"text-align: right;\">\n",
       "      <th></th>\n",
       "      <th>name</th>\n",
       "      <th>id</th>\n",
       "      <th>bedrooms</th>\n",
       "      <th>bathrooms</th>\n",
       "      <th>accommodates</th>\n",
       "      <th>description</th>\n",
       "      <th>listing_url</th>\n",
       "      <th>latitude</th>\n",
       "      <th>longitude</th>\n",
       "      <th>neighbourhood_cleansed</th>\n",
       "      <th>number_of_reviews</th>\n",
       "      <th>picture_url</th>\n",
       "      <th>price</th>\n",
       "      <th>property_type</th>\n",
       "      <th>review_scores_rating</th>\n",
       "      <th>summary</th>\n",
       "      <th>thumbnail_url</th>\n",
       "      <th>xl_picture_url</th>\n",
       "      <th>zipcode</th>\n",
       "    </tr>\n",
       "  </thead>\n",
       "  <tbody>\n",
       "    <tr>\n",
       "      <th>0</th>\n",
       "      <td>Lovely One Bedroom Apartment</td>\n",
       "      <td>1162609</td>\n",
       "      <td>1.0</td>\n",
       "      <td>1.0</td>\n",
       "      <td>2</td>\n",
       "      <td>This is a big well designed space. Our neighbo...</td>\n",
       "      <td>https://www.airbnb.com/rooms/1162609</td>\n",
       "      <td>37.785217</td>\n",
       "      <td>-122.488655</td>\n",
       "      <td>Seacliff</td>\n",
       "      <td>8</td>\n",
       "      <td>https://a2.muscache.com/ac/pictures/104807019/...</td>\n",
       "      <td>350.0</td>\n",
       "      <td>Apartment</td>\n",
       "      <td>89.0</td>\n",
       "      <td>This is a big well designed space. Our neighbo...</td>\n",
       "      <td>https://a2.muscache.com/ac/pictures/104807019/...</td>\n",
       "      <td>https://a2.muscache.com/ac/pictures/104807019/...</td>\n",
       "      <td>94121.0</td>\n",
       "    </tr>\n",
       "    <tr>\n",
       "      <th>1</th>\n",
       "      <td>Cozy Vintage Room, Golden Gate Park</td>\n",
       "      <td>8568925</td>\n",
       "      <td>1.0</td>\n",
       "      <td>1.0</td>\n",
       "      <td>2</td>\n",
       "      <td>Darling room in the heart of a gorgeous SF nei...</td>\n",
       "      <td>https://www.airbnb.com/rooms/8568925</td>\n",
       "      <td>37.774604</td>\n",
       "      <td>-122.450261</td>\n",
       "      <td>Haight Ashbury</td>\n",
       "      <td>1</td>\n",
       "      <td>https://a1.muscache.com/ac/pictures/109547397/...</td>\n",
       "      <td>92.0</td>\n",
       "      <td>Apartment</td>\n",
       "      <td>100.0</td>\n",
       "      <td>Darling room in the heart of a gorgeous SF nei...</td>\n",
       "      <td>https://a1.muscache.com/ac/pictures/109547397/...</td>\n",
       "      <td>https://a1.muscache.com/ac/pictures/109547397/...</td>\n",
       "      <td>94117.0</td>\n",
       "    </tr>\n",
       "    <tr>\n",
       "      <th>2</th>\n",
       "      <td>Sunny Top Floor Family Apt - 3 bdr</td>\n",
       "      <td>288380</td>\n",
       "      <td>3.0</td>\n",
       "      <td>1.5</td>\n",
       "      <td>6</td>\n",
       "      <td>Our apt has been built with love, and all of o...</td>\n",
       "      <td>https://www.airbnb.com/rooms/288380</td>\n",
       "      <td>37.772882</td>\n",
       "      <td>-122.439946</td>\n",
       "      <td>Haight Ashbury</td>\n",
       "      <td>0</td>\n",
       "      <td>https://a2.muscache.com/ac/pictures/96b9a9d0-a...</td>\n",
       "      <td>420.0</td>\n",
       "      <td>Apartment</td>\n",
       "      <td>NaN</td>\n",
       "      <td>Our apt has been built with love, and all of o...</td>\n",
       "      <td>https://a2.muscache.com/ac/pictures/96b9a9d0-a...</td>\n",
       "      <td>https://a2.muscache.com/ac/pictures/96b9a9d0-a...</td>\n",
       "      <td>94117.0</td>\n",
       "    </tr>\n",
       "    <tr>\n",
       "      <th>3</th>\n",
       "      <td>Clean + Quiet + Convenient</td>\n",
       "      <td>8762798</td>\n",
       "      <td>1.0</td>\n",
       "      <td>1.0</td>\n",
       "      <td>3</td>\n",
       "      <td>Clean and quiet (Im rarely home) + large open ...</td>\n",
       "      <td>https://www.airbnb.com/rooms/8762798</td>\n",
       "      <td>37.770441</td>\n",
       "      <td>-122.450553</td>\n",
       "      <td>Haight Ashbury</td>\n",
       "      <td>3</td>\n",
       "      <td>https://a2.muscache.com/ac/pictures/111006173/...</td>\n",
       "      <td>120.0</td>\n",
       "      <td>Apartment</td>\n",
       "      <td>100.0</td>\n",
       "      <td>Clean and quiet (Im rarely home) + large open ...</td>\n",
       "      <td>https://a2.muscache.com/ac/pictures/111006173/...</td>\n",
       "      <td>https://a2.muscache.com/ac/pictures/111006173/...</td>\n",
       "      <td>94117.0</td>\n",
       "    </tr>\n",
       "    <tr>\n",
       "      <th>4</th>\n",
       "      <td>Elegant Room in Victorian Mansion</td>\n",
       "      <td>8428014</td>\n",
       "      <td>1.0</td>\n",
       "      <td>2.0</td>\n",
       "      <td>2</td>\n",
       "      <td>Beautiful master bedroom with lofted ceiling o...</td>\n",
       "      <td>https://www.airbnb.com/rooms/8428014</td>\n",
       "      <td>37.772116</td>\n",
       "      <td>-122.449435</td>\n",
       "      <td>Haight Ashbury</td>\n",
       "      <td>2</td>\n",
       "      <td>https://a2.muscache.com/ac/pictures/107194427/...</td>\n",
       "      <td>180.0</td>\n",
       "      <td>Apartment</td>\n",
       "      <td>90.0</td>\n",
       "      <td>Beautiful master bedroom with lofted ceiling o...</td>\n",
       "      <td>https://a2.muscache.com/ac/pictures/107194427/...</td>\n",
       "      <td>https://a2.muscache.com/ac/pictures/107194427/...</td>\n",
       "      <td>94117.0</td>\n",
       "    </tr>\n",
       "  </tbody>\n",
       "</table>\n",
       "</div>"
      ],
      "text/plain": [
       "                                  name       id  bedrooms  bathrooms  \\\n",
       "0         Lovely One Bedroom Apartment  1162609       1.0        1.0   \n",
       "1  Cozy Vintage Room, Golden Gate Park  8568925       1.0        1.0   \n",
       "2   Sunny Top Floor Family Apt - 3 bdr   288380       3.0        1.5   \n",
       "3           Clean + Quiet + Convenient  8762798       1.0        1.0   \n",
       "4    Elegant Room in Victorian Mansion  8428014       1.0        2.0   \n",
       "\n",
       "   accommodates                                        description  \\\n",
       "0             2  This is a big well designed space. Our neighbo...   \n",
       "1             2  Darling room in the heart of a gorgeous SF nei...   \n",
       "2             6  Our apt has been built with love, and all of o...   \n",
       "3             3  Clean and quiet (Im rarely home) + large open ...   \n",
       "4             2  Beautiful master bedroom with lofted ceiling o...   \n",
       "\n",
       "                            listing_url   latitude   longitude  \\\n",
       "0  https://www.airbnb.com/rooms/1162609  37.785217 -122.488655   \n",
       "1  https://www.airbnb.com/rooms/8568925  37.774604 -122.450261   \n",
       "2   https://www.airbnb.com/rooms/288380  37.772882 -122.439946   \n",
       "3  https://www.airbnb.com/rooms/8762798  37.770441 -122.450553   \n",
       "4  https://www.airbnb.com/rooms/8428014  37.772116 -122.449435   \n",
       "\n",
       "  neighbourhood_cleansed  number_of_reviews  \\\n",
       "0               Seacliff                  8   \n",
       "1         Haight Ashbury                  1   \n",
       "2         Haight Ashbury                  0   \n",
       "3         Haight Ashbury                  3   \n",
       "4         Haight Ashbury                  2   \n",
       "\n",
       "                                         picture_url  price property_type  \\\n",
       "0  https://a2.muscache.com/ac/pictures/104807019/...  350.0     Apartment   \n",
       "1  https://a1.muscache.com/ac/pictures/109547397/...   92.0     Apartment   \n",
       "2  https://a2.muscache.com/ac/pictures/96b9a9d0-a...  420.0     Apartment   \n",
       "3  https://a2.muscache.com/ac/pictures/111006173/...  120.0     Apartment   \n",
       "4  https://a2.muscache.com/ac/pictures/107194427/...  180.0     Apartment   \n",
       "\n",
       "   review_scores_rating                                            summary  \\\n",
       "0                  89.0  This is a big well designed space. Our neighbo...   \n",
       "1                 100.0  Darling room in the heart of a gorgeous SF nei...   \n",
       "2                   NaN  Our apt has been built with love, and all of o...   \n",
       "3                 100.0  Clean and quiet (Im rarely home) + large open ...   \n",
       "4                  90.0  Beautiful master bedroom with lofted ceiling o...   \n",
       "\n",
       "                                       thumbnail_url  \\\n",
       "0  https://a2.muscache.com/ac/pictures/104807019/...   \n",
       "1  https://a1.muscache.com/ac/pictures/109547397/...   \n",
       "2  https://a2.muscache.com/ac/pictures/96b9a9d0-a...   \n",
       "3  https://a2.muscache.com/ac/pictures/111006173/...   \n",
       "4  https://a2.muscache.com/ac/pictures/107194427/...   \n",
       "\n",
       "                                      xl_picture_url  zipcode  \n",
       "0  https://a2.muscache.com/ac/pictures/104807019/...  94121.0  \n",
       "1  https://a1.muscache.com/ac/pictures/109547397/...  94117.0  \n",
       "2  https://a2.muscache.com/ac/pictures/96b9a9d0-a...  94117.0  \n",
       "3  https://a2.muscache.com/ac/pictures/111006173/...  94117.0  \n",
       "4  https://a2.muscache.com/ac/pictures/107194427/...  94117.0  "
      ]
     },
     "execution_count": 12,
     "metadata": {},
     "output_type": "execute_result"
    }
   ],
   "source": [
    "listings.head()"
   ]
  },
  {
   "cell_type": "code",
   "execution_count": 49,
   "metadata": {
    "ExecuteTime": {
     "end_time": "2016-12-08T21:09:01.236874",
     "start_time": "2016-12-08T21:06:08.172797"
    },
    "collapsed": false,
    "run_control": {
     "frozen": false,
     "read_only": false
    }
   },
   "outputs": [
    {
     "name": "stderr",
     "output_type": "stream",
     "text": [
      "/Users/veenakumar/anaconda2/lib/python2.7/site-packages/numpy/core/_methods.py:59: RuntimeWarning: Mean of empty slice.\n",
      "  warnings.warn(\"Mean of empty slice.\", RuntimeWarning)\n"
     ]
    },
    {
     "name": "stdout",
     "output_type": "stream",
     "text": [
      "Failed Doc!\n"
     ]
    }
   ],
   "source": [
    "review_vecs = get_doc_vecs(model, reviews.comments)"
   ]
  },
  {
   "cell_type": "code",
   "execution_count": 51,
   "metadata": {
    "ExecuteTime": {
     "end_time": "2016-12-08T21:11:24.054395",
     "start_time": "2016-12-08T21:11:20.766927"
    },
    "collapsed": true,
    "run_control": {
     "frozen": false,
     "read_only": false
    }
   },
   "outputs": [],
   "source": [
    "vecs = np.empty((len(review_vecs), 300))\n",
    "for i in range(len(review_vecs)):\n",
    "    vecs[i, : ] = review_vecs[i]"
   ]
  },
  {
   "cell_type": "code",
   "execution_count": 50,
   "metadata": {
    "ExecuteTime": {
     "end_time": "2016-12-08T21:09:01.529580",
     "start_time": "2016-12-08T21:09:01.243865"
    },
    "collapsed": true,
    "run_control": {
     "frozen": false,
     "read_only": false
    }
   },
   "outputs": [],
   "source": [
    "from gensim.similarities import MatrixSimilarity "
   ]
  },
  {
   "cell_type": "code",
   "execution_count": 52,
   "metadata": {
    "ExecuteTime": {
     "end_time": "2016-12-08T21:12:13.513575",
     "start_time": "2016-12-08T21:11:25.251593"
    },
    "collapsed": true,
    "run_control": {
     "frozen": false,
     "read_only": false
    }
   },
   "outputs": [],
   "source": [
    "review_index = MatrixSimilarity(gensim.matutils.Dense2Corpus(vecs.transpose()))"
   ]
  },
  {
   "cell_type": "code",
   "execution_count": 5,
   "metadata": {
    "ExecuteTime": {
     "end_time": "2016-12-08T19:56:11.116666",
     "start_time": "2016-12-08T19:56:11.087020"
    },
    "collapsed": true,
    "run_control": {
     "frozen": false,
     "read_only": false
    }
   },
   "outputs": [],
   "source": [
    "def get_doc_vecs(model, docs):\n",
    "    stoplist = stopwords.words('english')\n",
    "    words_counted = 0\n",
    "    words_skipped = 0\n",
    "    docs_vecs = []\n",
    "    for doc in docs:\n",
    "        doc_vecs = []\n",
    "        try:\n",
    "            regex = re.compile('[%s]' % re.escape(string.punctuation))\n",
    "            doc = doc.lower().split()\n",
    "            for word in doc:\n",
    "                if word not in stoplist:\n",
    "                    try:\n",
    "                        word = str(word)\n",
    "                        word = regex.sub('',word)\n",
    "                        doc_vecs.append(model[word])\n",
    "                        words_counted += 1\n",
    "                    except:\n",
    "                        words_skipped += 1\n",
    "                        pass\n",
    "            docs_vecs.append(np.array(doc_vecs).mean(axis=0))\n",
    "        except:\n",
    "            print \"Failed Doc!\"\n",
    "            pass\n",
    "    return docs_vecs"
   ]
  },
  {
   "cell_type": "code",
   "execution_count": 61,
   "metadata": {
    "ExecuteTime": {
     "end_time": "2016-12-09T16:46:51.719507",
     "start_time": "2016-12-09T16:46:51.682620"
    },
    "collapsed": false,
    "run_control": {
     "frozen": false,
     "read_only": false
    }
   },
   "outputs": [],
   "source": [
    "def airbnb_experience(review_index,model,user_input,reviews_df,listings_df):\n",
    "    \n",
    "    #obtaining top thousand comments closest to user input\n",
    "    scores = [score for score in review_index[get_doc_vecs(model,user_input)[0]]]\n",
    "    indexes = range(0,len(review_vecs))\n",
    "    topthousand = sorted(zip(scores, indexes), reverse=True)[:1000]\n",
    "\n",
    "    #getting the indexes and vectors\n",
    "    dfindexes = [tup[1] for tup in topthousand]\n",
    "    dfvectors = [tup[0] for tup in topthousand]\n",
    "\n",
    "    #creating a results df\n",
    "    results = reviews_df.iloc[dfindexes]\n",
    "    results['vectors'] = dfvectors\n",
    "\n",
    "    #sorting the results so highest listings are on top\n",
    "    results_sorted = results.groupby('listing_id').sum().sort('vectors',ascending=False)\n",
    "    results_sorted.reset_index(inplace=True)\n",
    "    results_sorted.listing_id = results_sorted.listing_id.map(int)\n",
    "\n",
    "    #new subset df with listing information for the top listings\n",
    "    results_listings = listings[listings['id'].isin(results_sorted.listing_id.astype(int))]\n",
    "\n",
    "    #merging both df's so the listings df can be sorted by vectors descending\n",
    "    final = pd.merge(results_listings,results_sorted,left_on='id',right_on='listing_id').sort('vectors',ascending=False)\n",
    "    return final"
   ]
  },
  {
   "cell_type": "markdown",
   "metadata": {
    "run_control": {
     "frozen": false,
     "read_only": false
    }
   },
   "source": [
    "## Tests"
   ]
  },
  {
   "cell_type": "markdown",
   "metadata": {
    "run_control": {
     "frozen": false,
     "read_only": false
    }
   },
   "source": [
    "### Test 1"
   ]
  },
  {
   "cell_type": "code",
   "execution_count": 66,
   "metadata": {
    "ExecuteTime": {
     "end_time": "2016-12-09T16:49:02.226504",
     "start_time": "2016-12-09T16:49:01.610219"
    },
    "collapsed": false,
    "run_control": {
     "frozen": false,
     "read_only": false
    },
    "scrolled": false
   },
   "outputs": [
    {
     "name": "stderr",
     "output_type": "stream",
     "text": [
      "/Users/veenakumar/anaconda2/lib/python2.7/site-packages/ipykernel/__main__.py:14: SettingWithCopyWarning: \n",
      "A value is trying to be set on a copy of a slice from a DataFrame.\n",
      "Try using .loc[row_indexer,col_indexer] = value instead\n",
      "\n",
      "See the caveats in the documentation: http://pandas.pydata.org/pandas-docs/stable/indexing.html#indexing-view-versus-copy\n",
      "/Users/veenakumar/anaconda2/lib/python2.7/site-packages/ipykernel/__main__.py:17: FutureWarning: sort(columns=....) is deprecated, use sort_values(by=.....)\n",
      "/Users/veenakumar/anaconda2/lib/python2.7/site-packages/ipykernel/__main__.py:25: FutureWarning: sort(columns=....) is deprecated, use sort_values(by=.....)\n"
     ]
    }
   ],
   "source": [
    "user_input1 = ['near lots of bars and public transportation. cozy beds and great for one or two people.']\n",
    "test1 = airbnb_experience(review_index,model,user_input1,reviews,listings)"
   ]
  },
  {
   "cell_type": "code",
   "execution_count": 67,
   "metadata": {
    "ExecuteTime": {
     "end_time": "2016-12-09T16:49:02.650274",
     "start_time": "2016-12-09T16:49:02.583391"
    },
    "collapsed": false,
    "run_control": {
     "frozen": false,
     "read_only": false
    }
   },
   "outputs": [
    {
     "data": {
      "text/html": [
       "<div>\n",
       "<table border=\"1\" class=\"dataframe\">\n",
       "  <thead>\n",
       "    <tr style=\"text-align: right;\">\n",
       "      <th></th>\n",
       "      <th>name</th>\n",
       "      <th>id</th>\n",
       "      <th>bedrooms</th>\n",
       "      <th>bathrooms</th>\n",
       "      <th>accommodates</th>\n",
       "      <th>description</th>\n",
       "      <th>listing_url</th>\n",
       "      <th>latitude</th>\n",
       "      <th>longitude</th>\n",
       "      <th>neighbourhood_cleansed</th>\n",
       "      <th>...</th>\n",
       "      <th>picture_url</th>\n",
       "      <th>price</th>\n",
       "      <th>property_type</th>\n",
       "      <th>review_scores_rating</th>\n",
       "      <th>summary</th>\n",
       "      <th>thumbnail_url</th>\n",
       "      <th>xl_picture_url</th>\n",
       "      <th>zipcode</th>\n",
       "      <th>listing_id</th>\n",
       "      <th>vectors</th>\n",
       "    </tr>\n",
       "  </thead>\n",
       "  <tbody>\n",
       "    <tr>\n",
       "      <th>511</th>\n",
       "      <td>Classic Russian Hill flat in SF!</td>\n",
       "      <td>734839</td>\n",
       "      <td>2.0</td>\n",
       "      <td>1.0</td>\n",
       "      <td>6</td>\n",
       "      <td>This charming Russian Hill flat, in an Edwardi...</td>\n",
       "      <td>https://www.airbnb.com/rooms/734839</td>\n",
       "      <td>37.801526</td>\n",
       "      <td>-122.409400</td>\n",
       "      <td>North Beach</td>\n",
       "      <td>...</td>\n",
       "      <td>https://a2.muscache.com/ic/pictures/10382187/a...</td>\n",
       "      <td>330.0</td>\n",
       "      <td>Apartment</td>\n",
       "      <td>98.0</td>\n",
       "      <td>This charming Russian Hill flat, in an Edwardi...</td>\n",
       "      <td>https://a2.muscache.com/ic/pictures/10382187/a...</td>\n",
       "      <td>https://a2.muscache.com/ic/pictures/10382187/a...</td>\n",
       "      <td>94109.0</td>\n",
       "      <td>734839</td>\n",
       "      <td>6.122040</td>\n",
       "    </tr>\n",
       "    <tr>\n",
       "      <th>508</th>\n",
       "      <td>CHARMING NORTH BEACH ALLEY HIDEAWAY</td>\n",
       "      <td>1178260</td>\n",
       "      <td>2.0</td>\n",
       "      <td>1.5</td>\n",
       "      <td>4</td>\n",
       "      <td>CHARMING NORTH BEACH ALLEY HIDEAWAY In the hea...</td>\n",
       "      <td>https://www.airbnb.com/rooms/1178260</td>\n",
       "      <td>37.801543</td>\n",
       "      <td>-122.401358</td>\n",
       "      <td>North Beach</td>\n",
       "      <td>...</td>\n",
       "      <td>https://a2.muscache.com/ic/pictures/17888339/f...</td>\n",
       "      <td>250.0</td>\n",
       "      <td>Apartment</td>\n",
       "      <td>99.0</td>\n",
       "      <td>NaN</td>\n",
       "      <td>https://a2.muscache.com/ic/pictures/17888339/f...</td>\n",
       "      <td>https://a2.muscache.com/ic/pictures/17888339/f...</td>\n",
       "      <td>94133.0</td>\n",
       "      <td>1178260</td>\n",
       "      <td>6.116649</td>\n",
       "    </tr>\n",
       "    <tr>\n",
       "      <th>384</th>\n",
       "      <td>Beautiful Upscale House Private BR</td>\n",
       "      <td>38607</td>\n",
       "      <td>1.0</td>\n",
       "      <td>1.0</td>\n",
       "      <td>2</td>\n",
       "      <td>Enjoy one of the absolute best and upscale nei...</td>\n",
       "      <td>https://www.airbnb.com/rooms/38607</td>\n",
       "      <td>37.781975</td>\n",
       "      <td>-122.458092</td>\n",
       "      <td>Presidio Heights</td>\n",
       "      <td>...</td>\n",
       "      <td>https://a1.muscache.com/ic/pictures/844895/8f1...</td>\n",
       "      <td>139.0</td>\n",
       "      <td>House</td>\n",
       "      <td>96.0</td>\n",
       "      <td>NaN</td>\n",
       "      <td>https://a1.muscache.com/ic/pictures/844895/8f1...</td>\n",
       "      <td>https://a1.muscache.com/ic/pictures/844895/8f1...</td>\n",
       "      <td>94118.0</td>\n",
       "      <td>38607</td>\n",
       "      <td>6.115148</td>\n",
       "    </tr>\n",
       "    <tr>\n",
       "      <th>249</th>\n",
       "      <td>GORGEOUS FLAT IN GREAT LOCATION</td>\n",
       "      <td>42572</td>\n",
       "      <td>3.0</td>\n",
       "      <td>1.5</td>\n",
       "      <td>6</td>\n",
       "      <td>I am a painter and my work takes up most of my...</td>\n",
       "      <td>https://www.airbnb.com/rooms/42572</td>\n",
       "      <td>37.762218</td>\n",
       "      <td>-122.425424</td>\n",
       "      <td>Mission</td>\n",
       "      <td>...</td>\n",
       "      <td>https://a0.muscache.com/ic/pictures/238885/ba6...</td>\n",
       "      <td>360.0</td>\n",
       "      <td>Apartment</td>\n",
       "      <td>98.0</td>\n",
       "      <td>I am a painter and my work takes up most of my...</td>\n",
       "      <td>https://a0.muscache.com/ic/pictures/238885/ba6...</td>\n",
       "      <td>https://a0.muscache.com/ic/pictures/238885/ba6...</td>\n",
       "      <td>94110.0</td>\n",
       "      <td>42572</td>\n",
       "      <td>5.265322</td>\n",
       "    </tr>\n",
       "    <tr>\n",
       "      <th>93</th>\n",
       "      <td>Large central 3BR/2BA with parking</td>\n",
       "      <td>930955</td>\n",
       "      <td>3.0</td>\n",
       "      <td>2.0</td>\n",
       "      <td>7</td>\n",
       "      <td>Our home is located almost right in the middle...</td>\n",
       "      <td>https://www.airbnb.com/rooms/930955</td>\n",
       "      <td>37.759827</td>\n",
       "      <td>-122.448205</td>\n",
       "      <td>Haight Ashbury</td>\n",
       "      <td>...</td>\n",
       "      <td>https://a1.muscache.com/ic/pictures/23505927/9...</td>\n",
       "      <td>500.0</td>\n",
       "      <td>Apartment</td>\n",
       "      <td>92.0</td>\n",
       "      <td>Our home is located almost right in the middle...</td>\n",
       "      <td>https://a1.muscache.com/ic/pictures/23505927/9...</td>\n",
       "      <td>https://a1.muscache.com/ic/pictures/23505927/9...</td>\n",
       "      <td>94114.0</td>\n",
       "      <td>930955</td>\n",
       "      <td>5.257318</td>\n",
       "    </tr>\n",
       "  </tbody>\n",
       "</table>\n",
       "<p>5 rows × 21 columns</p>\n",
       "</div>"
      ],
      "text/plain": [
       "                                    name       id  bedrooms  bathrooms  \\\n",
       "511     Classic Russian Hill flat in SF!   734839       2.0        1.0   \n",
       "508  CHARMING NORTH BEACH ALLEY HIDEAWAY  1178260       2.0        1.5   \n",
       "384   Beautiful Upscale House Private BR    38607       1.0        1.0   \n",
       "249      GORGEOUS FLAT IN GREAT LOCATION    42572       3.0        1.5   \n",
       "93    Large central 3BR/2BA with parking   930955       3.0        2.0   \n",
       "\n",
       "     accommodates                                        description  \\\n",
       "511             6  This charming Russian Hill flat, in an Edwardi...   \n",
       "508             4  CHARMING NORTH BEACH ALLEY HIDEAWAY In the hea...   \n",
       "384             2  Enjoy one of the absolute best and upscale nei...   \n",
       "249             6  I am a painter and my work takes up most of my...   \n",
       "93              7  Our home is located almost right in the middle...   \n",
       "\n",
       "                              listing_url   latitude   longitude  \\\n",
       "511   https://www.airbnb.com/rooms/734839  37.801526 -122.409400   \n",
       "508  https://www.airbnb.com/rooms/1178260  37.801543 -122.401358   \n",
       "384    https://www.airbnb.com/rooms/38607  37.781975 -122.458092   \n",
       "249    https://www.airbnb.com/rooms/42572  37.762218 -122.425424   \n",
       "93    https://www.airbnb.com/rooms/930955  37.759827 -122.448205   \n",
       "\n",
       "    neighbourhood_cleansed    ...     \\\n",
       "511            North Beach    ...      \n",
       "508            North Beach    ...      \n",
       "384       Presidio Heights    ...      \n",
       "249                Mission    ...      \n",
       "93          Haight Ashbury    ...      \n",
       "\n",
       "                                           picture_url  price  property_type  \\\n",
       "511  https://a2.muscache.com/ic/pictures/10382187/a...  330.0      Apartment   \n",
       "508  https://a2.muscache.com/ic/pictures/17888339/f...  250.0      Apartment   \n",
       "384  https://a1.muscache.com/ic/pictures/844895/8f1...  139.0          House   \n",
       "249  https://a0.muscache.com/ic/pictures/238885/ba6...  360.0      Apartment   \n",
       "93   https://a1.muscache.com/ic/pictures/23505927/9...  500.0      Apartment   \n",
       "\n",
       "    review_scores_rating                                            summary  \\\n",
       "511                 98.0  This charming Russian Hill flat, in an Edwardi...   \n",
       "508                 99.0                                                NaN   \n",
       "384                 96.0                                                NaN   \n",
       "249                 98.0  I am a painter and my work takes up most of my...   \n",
       "93                  92.0  Our home is located almost right in the middle...   \n",
       "\n",
       "                                         thumbnail_url  \\\n",
       "511  https://a2.muscache.com/ic/pictures/10382187/a...   \n",
       "508  https://a2.muscache.com/ic/pictures/17888339/f...   \n",
       "384  https://a1.muscache.com/ic/pictures/844895/8f1...   \n",
       "249  https://a0.muscache.com/ic/pictures/238885/ba6...   \n",
       "93   https://a1.muscache.com/ic/pictures/23505927/9...   \n",
       "\n",
       "                                        xl_picture_url  zipcode  listing_id  \\\n",
       "511  https://a2.muscache.com/ic/pictures/10382187/a...  94109.0      734839   \n",
       "508  https://a2.muscache.com/ic/pictures/17888339/f...  94133.0     1178260   \n",
       "384  https://a1.muscache.com/ic/pictures/844895/8f1...  94118.0       38607   \n",
       "249  https://a0.muscache.com/ic/pictures/238885/ba6...  94110.0       42572   \n",
       "93   https://a1.muscache.com/ic/pictures/23505927/9...  94114.0      930955   \n",
       "\n",
       "      vectors  \n",
       "511  6.122040  \n",
       "508  6.116649  \n",
       "384  6.115148  \n",
       "249  5.265322  \n",
       "93   5.257318  \n",
       "\n",
       "[5 rows x 21 columns]"
      ]
     },
     "execution_count": 67,
     "metadata": {},
     "output_type": "execute_result"
    }
   ],
   "source": [
    "test1.head()"
   ]
  },
  {
   "cell_type": "code",
   "execution_count": 71,
   "metadata": {
    "ExecuteTime": {
     "end_time": "2016-12-09T16:50:46.936693",
     "start_time": "2016-12-09T16:50:46.400375"
    },
    "collapsed": false,
    "run_control": {
     "frozen": false,
     "read_only": false
    }
   },
   "outputs": [
    {
     "name": "stderr",
     "output_type": "stream",
     "text": [
      "/Users/veenakumar/anaconda2/lib/python2.7/site-packages/ipykernel/__main__.py:12: SettingWithCopyWarning: \n",
      "A value is trying to be set on a copy of a slice from a DataFrame.\n",
      "Try using .loc[row_indexer,col_indexer] = value instead\n",
      "\n",
      "See the caveats in the documentation: http://pandas.pydata.org/pandas-docs/stable/indexing.html#indexing-view-versus-copy\n"
     ]
    }
   ],
   "source": [
    "#obtaining top thousand comments closest to user input\n",
    "scores = [score for score in review_index[get_doc_vecs(model,user_input1)[0]]]\n",
    "indexes = range(0,len(review_vecs))\n",
    "topthousand = sorted(zip(scores, indexes), reverse=True)[:1000]\n",
    "\n",
    "#getting the indexes and vectors\n",
    "dfindexes = [tup[1] for tup in topthousand]\n",
    "dfvectors = [tup[0] for tup in topthousand]\n",
    "\n",
    "#creating a results df\n",
    "results = reviews.iloc[dfindexes]\n",
    "results['vectors'] = dfvectors\n"
   ]
  },
  {
   "cell_type": "code",
   "execution_count": 76,
   "metadata": {
    "ExecuteTime": {
     "end_time": "2016-12-09T16:51:51.390020",
     "start_time": "2016-12-09T16:51:51.382791"
    },
    "collapsed": false,
    "run_control": {
     "frozen": false,
     "read_only": false
    },
    "scrolled": true
   },
   "outputs": [
    {
     "name": "stdout",
     "output_type": "stream",
     "text": [
      "We stayed in Lenore's apartment for two nights.  We had three adults and two small children, and it worked out fine, with the use of the air mattress for one adult.  We brought along a baby crib for one of the children.  The apartment is clean and nicely cared for, artistic, and has great views.  The kitchen was great to cook in.  The apt. is secure, and located in a good neighborhood in the Mission District.  It is close to public transport and the walkability is great.  There is a playground nearby.  The only difficulty we faced was parking, but Lenore made sure we were aware of the streets nearby and the hours in which parking is prohibited.  Once we caught onto the parking situation and routine, it was only a matter of moving the car a couple of times, to avoid ticketing.  Staying in this apartment was much easier than staying in hotel rooms.  I would recommend it.  For small families, it is nice to be able to put the kids to sleep and spend time as adults, together in the dining area until late.  This is not doable in hotel rooms, especially the small hotel rooms in SF.  We had a great time in the city!\n",
      "\n",
      "We stayed in the apartement with four people, two teenagers and parents and enjoyed it a lot. The apartement is spacious, well equipped and the location is just great! It's only a few steps to Northbeach, a couple of blocks to the Ferry Building, Chinatown and public Transportation.  \n",
      "\n",
      "Very well located near public transport to down town and full of bars and restaurants in the area.\n",
      "The room was confortable and very big.\n",
      "The people there was very nice, giving recommendations of what to visit.\n",
      "I will repeat\n",
      "\n",
      "An absolute jewel.  Staying with a friend for a week and Patricia was there when we arrived.  She was an excellent host and showed us around her beautiful apartment and then outside to point out various bars and restaurants.\r\n",
      "The apartment itself was perfectly appointed with 2 spacious ensuite bedrooms and a good sized lounge and kitchen on the lower floor.  There is covered and secure parking at street level under the apartment which is a must if you have a car.  The Hayes Valley area is very vibrant but it seems to be frequented by locals rather than tourists so you get a great feel for the city.  Having stayed in SF before this area is so much better than staying in the main tourist area.  Suggest you buy a MUNI pass to cover the local buses and cable cars as Hayes Street and the surrounding streets are very well served by public transport.  We walked several miles a day but using the occasional bus means you can pack a lot into a day if you wish.  Get a local tourist map as these also show the bus numbers.\r\n",
      "All in all, a great apartment, location and host.  Thanks Patricia.\r\n",
      "\n",
      "\n",
      "Kevin's apartment is perfectly located. There are so many great bars, restaurants etc around Union, Polk and chestnut street that this is an ideal location. The ease of walking down to the marina, or a bus over to the main tourist spots is another added benefit.\n",
      "I stayed for 10 days whilst in SF for work, the apartment has great wifi, is very spacious has everything you need.\n",
      "The bed is very comfy and the shower gets hot and powerful which is something I always like in a place. \n",
      "Would definitely recommend this to others planning on visiting the Bay Area.\n",
      "\n",
      "Great space and location and one of the few places in the area that is ok with babies and small  kids. My husband and I stayed here with our 6month old son.\r\n",
      "Vivian is great host and quick with communication, she went out of her way to provided us with a pack and play which made sleeping arrangements even better.\r\n",
      "The apartment is in a great location close to major bus lines, cafes and restaurants and on street parking. The apartment its self is spacious and has all the essentials for a short stay in the city \r\n",
      "We will be recommending this accommodation to others.\n",
      "\n",
      "The house is located in one of the coolest neighborhoods in San Francisco.\r\n",
      "On the streets of many bars, cafes and shops.\r\n",
      "Prior to downtown on foot to walk 5-10 minutes.\r\n",
      "Very convenient to get anywhere in the city by public transport.\r\n",
      "Location is ideal.\r\n",
      "\r\n",
      "The room in which we live, is very simple. The bed is good. There are two chairs, a table and a cupboard. A lot of hangers (useful). The apartment has three rooms in which they live. We lived in a fourth room with a good view of the street.\r\n",
      "\r\n",
      "We used two laptops and two iPhone. WIFI did not work very well. Perhaps there are limitations. Refine this information from land-lord.\n",
      "\n",
      "Great place for a family vacation. We are a family of five and there was plenty of room for all of us. Even the sofa bed In the living room is very comfortable. We found the place to be very clean!\n",
      "Location is great if you want to be just a little bit out of town. Buses run frequently downtown. Close to the airport too. \n",
      "We used several of Shawn's lokal recommandations for food and drinks, and we liked them all.\n",
      "\n",
      "We found the accommodation neat, tidy and very clean. The decor was great and the bedroom and bathroom had been newly painted. The room was at the rear of the building and was quiet. The 24 hour security on the building made us feel safe. And the location was very close to Union Square and several great cafes and restaurants as well as close to public transport. \n",
      "\n",
      "I stayed here for two weeks. I loved it. Ideal location for people who like being in the city. Close to all the major areas. Plenty of restaurants and coffee shops around. The apartment itself is very clean and new. The bed is large and comfortable. All in all an excellent studio of good size.\n",
      "\n",
      "Overall a good experience. Large clean room and half bath. Decent location downtown, close to BART, cable cars, and local transportation. Building was secure.\r\n",
      "Several restaurants and bars nearby.  Rooms are either a one or two floor walkup.  Older travelers may have difficulty with stairs and luggage.\r\n",
      "\n",
      "\n",
      "I had a good stay at David's place. It is well located for public transport both into the city centre and across the city. Many bus routes run within one and two blocks of David's place. Eating locally is very good. For the best choices I found walking two blocks up and two across on California to offer the best very local choices, my favourite was the burger bar and grill: very friendly, good food and fair prices for the area. A further 4 blocks across gets you plenty of choice on Filmore.\r\n",
      "The apartment is cozy and well presented with a good bathroom and kitchen. I managed well in the small but welcoming and pleasant bedroom come lounge studio arrangement within the normally one bedroom apartment as a solo guest and travelling relatively light on luggage.\r\n",
      "Local grocery shopping on foot is not that well provided for in the area except for the essentials; everything readily accessible on public transport though.\n",
      "\n",
      "This was our first AirBnB experience, and we loved it. The apartment is well located in the geographical center of the city. The neighborhood is very hip, noisy on weekend nights. At 62 and 59, we were the oldest folks--by at least 25 years--in the shops, on the sidewalks, restaurants, and bars on the commercial strip. \r\n",
      "\r\n",
      "The apartment was spacious, clean, well heated, and comfortably furnished, new bathroom fixtures, plenty of hot water, high quality towels and sheets. Only two minor complaints: window shades could be sturdier (one kept falling down) and the coffee maker is too small for more than one person. Otherwise, it was great and we would recommend it to others. Thanks, Darius and Maria! \n",
      "\n",
      "The room is great value for the money you are spending. The location is very good, you have lots of great restaurants and bars, public transport nearby, yet the room is quiet as window goes to the backyard, the atmosphere in the appartment reminds me a bit a studenthouse, there are many young people, they all are very friendly. The room on its own is small so you should plan to spend most of your time outside and the area is great to be outside.\n",
      "\n",
      "We loved this place. Joan was enthusiastic about our visit and could not be more accommodating. there were three of us, two in the bedroom and one on a foldout couch in the living room. All beds were comfortable. Coffee and english muffins and yogurt were in the apartment when we arrived. \r\n",
      "There are many steps to the apartment, so those with walking limitations might be discouraged (our 78 year old mother did the steps just fine!). The house borders St. Francis Wood, a very beautiful residential area. Easy access to shopping for food, restaurants and public transportation. We had a car and there was plenty of safe on street parking.\n",
      "\n",
      "We loved staying at Phyllis' apartment. We are a family of three with a young son, who enjoy cooking for ourselves, having a quiet home space that is nearby family-friendly public spaces. \r\n",
      "\r\n",
      "Here are some reasons why we enjoyed our stay:\r\n",
      "\r\n",
      "GREAT APT: The apt was very clean, well stocked with cleaning supplies, toiletries, linens, pillows, towels, dishes and other cooking implements, and very well-designed for a family of three. The bedroom was spacious with lots of drawers and closet space. The bed was very comfy. The living room had two cozy couches, a beautiful rug, and enough space for our little one to run about. The bathroom was spotless and had lots of space for our toiletries. She even provided a crate we could use as a stool for our little one. The water pressure and heating was great, and the towels were all bright white. The kitchen seemed brand new, with many staples in the cupboards; cane sugar, salt, pepper, cereal, great coffee, spices, etc. I could easily cook a variety of meals, from scratch. The space was well heated. \r\n",
      "\r\n",
      "BACK PATIO: There was a private back patio with greenery, a comfortable table and chair set, and enough room for a little one to explore. It was nice to have a quiet outdoor space to visit without having to leave the apartment.\r\n",
      "\r\n",
      "ECLECTIC NEIGHBOURHOOD: We are familiar with big cities and we were not put off by the eclectic nature of this neighbourhood. If you are put off by poverty and people suffering from mental unhealthiness, then you might be uncomfortable with the 16th and Mission neighbourhood overall. There are many people about the streets, including families, young professionals, panhandlers, hipsters, and homeless people. People were friendly and helpful. We had nice conversations with every store clerk or restaurant server. Even in the evening, there were lots of people about, making the street inviting. \r\n",
      "\r\n",
      "PROXIMITY TO PARKS, TRANSIT, GROCERY STORES, DOWNTOWN: The apartment is located at the end of a dead-end street, so there is little foot traffic and we even got to know the friendly neighbours. It is close to several great kids parks, including Kidpower and Mission Dolores. We could get there from the airport without any difficult, even towing a sleepy child. There are at least two mostly-organic grocery stores nearby, and a dozen produce markets about the block. We took transit everywhere (beach, parks, downtown, pier) and having the BART just one block away was great!\r\n",
      "\r\n",
      "We thoroughly enjoyed our stay at the apt and would stay there again.\r\n",
      "\r\n",
      "The drawback of this apt is that the sound from the apartment above can easily be heard in the bedroom. It was only a problem one night (the last night) when there was a moving out party upstairs late into the night.\r\n",
      "\r\n",
      "Thank you, Phyllis!\n",
      "\n",
      "Hi Lori and Randy\r\n",
      "Staying at your place was a super experience. I would come back anytime with pleasure.\r\n",
      "Your apartment is actually larger than it appears on the pictures. It's in a nice neighbourhood with great coffeebars, bus to the center is very close, and first of all: you are great and caring hosts.\r\n",
      "Thanks a lot!\r\n",
      "Pierre\n",
      "\n",
      "The two beds were wide, clean and very comfortable. We found very comfortable in the morning since the apartment has two bathrooms. Wi-fi worked well in the room too. It is a bit far from down town.  and usually the traffic is not that good, but this apartment is close to golden gate bridge and has a lot of restaurants nearby. We could walk to Baker's beach (25 min)  so I recommend you to go there and see the great view. \n",
      "\n",
      "We stayed with Judy for four wondeful days.  The apartment is very comfortable and very well stocked.  Judy has thought of pretty much everything.  We loved the area!  It is filled with beautiful historic houses and the apartment is only one block away from a great commercial street filled with restaurants and shops.  The public transportation into center city was very convenient.  Highly recommended! \n",
      "\n",
      "We had a great time at Luke and Sue's place. Three bedrooms, two bathrooms, a well equipped kitchen and modern bathrooms, all in all plenty of space for our group of six. The apartment was very clean and the two parking spots made this location even more comfortable for us. Great location and easy too walk around to little stores, coffee shops, public transportation and some touristic sights. We did not meet Luke and Sue in person but check in and out was very easy. \n",
      "\n"
     ]
    }
   ],
   "source": [
    "for c in results.comments[:20]:\n",
    "    print c + \"\\n\""
   ]
  },
  {
   "cell_type": "code",
   "execution_count": null,
   "metadata": {
    "collapsed": true,
    "run_control": {
     "frozen": false,
     "read_only": false
    }
   },
   "outputs": [],
   "source": []
  },
  {
   "cell_type": "code",
   "execution_count": null,
   "metadata": {
    "collapsed": true,
    "run_control": {
     "frozen": false,
     "read_only": false
    }
   },
   "outputs": [],
   "source": []
  },
  {
   "cell_type": "markdown",
   "metadata": {
    "run_control": {
     "frozen": false,
     "read_only": false
    }
   },
   "source": [
    "### Test 2"
   ]
  },
  {
   "cell_type": "code",
   "execution_count": 77,
   "metadata": {
    "ExecuteTime": {
     "end_time": "2016-12-09T16:57:32.627849",
     "start_time": "2016-12-09T16:57:31.296634"
    },
    "collapsed": false,
    "run_control": {
     "frozen": false,
     "read_only": false
    }
   },
   "outputs": [
    {
     "name": "stderr",
     "output_type": "stream",
     "text": [
      "/Users/veenakumar/anaconda2/lib/python2.7/site-packages/ipykernel/__main__.py:14: SettingWithCopyWarning: \n",
      "A value is trying to be set on a copy of a slice from a DataFrame.\n",
      "Try using .loc[row_indexer,col_indexer] = value instead\n",
      "\n",
      "See the caveats in the documentation: http://pandas.pydata.org/pandas-docs/stable/indexing.html#indexing-view-versus-copy\n",
      "/Users/veenakumar/anaconda2/lib/python2.7/site-packages/ipykernel/__main__.py:17: FutureWarning: sort(columns=....) is deprecated, use sort_values(by=.....)\n",
      "/Users/veenakumar/anaconda2/lib/python2.7/site-packages/ipykernel/__main__.py:25: FutureWarning: sort(columns=....) is deprecated, use sort_values(by=.....)\n"
     ]
    }
   ],
   "source": [
    "user_input2 = ['i want to be near local favorites. i like to cook so a large kitchen and something close to a farmers market would be great. i also want to be close to public transportation']\n",
    "test2 = airbnb_experience(review_index,model,user_input2,reviews,listings)"
   ]
  },
  {
   "cell_type": "code",
   "execution_count": 85,
   "metadata": {
    "ExecuteTime": {
     "end_time": "2016-12-11T15:33:07.542753",
     "start_time": "2016-12-11T15:33:07.526486"
    },
    "collapsed": false,
    "run_control": {
     "frozen": false,
     "read_only": false
    }
   },
   "outputs": [
    {
     "name": "stdout",
     "output_type": "stream",
     "text": [
      "<class 'pandas.core.frame.DataFrame'>\n",
      "Int64Index: 613 entries, 25 to 285\n",
      "Data columns (total 21 columns):\n",
      "name                      613 non-null object\n",
      "id                        613 non-null int64\n",
      "bedrooms                  611 non-null float64\n",
      "bathrooms                 604 non-null float64\n",
      "accommodates              613 non-null int64\n",
      "description               613 non-null object\n",
      "listing_url               613 non-null object\n",
      "latitude                  613 non-null float64\n",
      "longitude                 613 non-null float64\n",
      "neighbourhood_cleansed    613 non-null object\n",
      "number_of_reviews         613 non-null int64\n",
      "picture_url               613 non-null object\n",
      "price                     613 non-null float64\n",
      "property_type             612 non-null object\n",
      "review_scores_rating      611 non-null float64\n",
      "summary                   477 non-null object\n",
      "thumbnail_url             550 non-null object\n",
      "xl_picture_url            550 non-null object\n",
      "zipcode                   611 non-null float64\n",
      "listing_id                613 non-null int64\n",
      "vectors                   613 non-null float64\n",
      "dtypes: float64(8), int64(4), object(9)\n",
      "memory usage: 105.4+ KB\n"
     ]
    }
   ],
   "source": [
    "test2.info()"
   ]
  },
  {
   "cell_type": "code",
   "execution_count": 87,
   "metadata": {
    "ExecuteTime": {
     "end_time": "2016-12-11T15:34:04.039732",
     "start_time": "2016-12-11T15:34:03.964357"
    },
    "collapsed": false,
    "run_control": {
     "frozen": false,
     "read_only": false
    }
   },
   "outputs": [
    {
     "data": {
      "text/html": [
       "<div>\n",
       "<table border=\"1\" class=\"dataframe\">\n",
       "  <thead>\n",
       "    <tr style=\"text-align: right;\">\n",
       "      <th></th>\n",
       "      <th>name</th>\n",
       "      <th>id</th>\n",
       "      <th>bedrooms</th>\n",
       "      <th>bathrooms</th>\n",
       "      <th>accommodates</th>\n",
       "      <th>description</th>\n",
       "      <th>listing_url</th>\n",
       "      <th>latitude</th>\n",
       "      <th>longitude</th>\n",
       "      <th>neighbourhood_cleansed</th>\n",
       "      <th>...</th>\n",
       "      <th>picture_url</th>\n",
       "      <th>price</th>\n",
       "      <th>property_type</th>\n",
       "      <th>review_scores_rating</th>\n",
       "      <th>summary</th>\n",
       "      <th>thumbnail_url</th>\n",
       "      <th>xl_picture_url</th>\n",
       "      <th>zipcode</th>\n",
       "      <th>listing_id</th>\n",
       "      <th>vectors</th>\n",
       "    </tr>\n",
       "  </thead>\n",
       "  <tbody>\n",
       "    <tr>\n",
       "      <th>148</th>\n",
       "      <td>Private Cottage in Noe Valley</td>\n",
       "      <td>1898486</td>\n",
       "      <td>2.0</td>\n",
       "      <td>1.5</td>\n",
       "      <td>4</td>\n",
       "      <td>Originally built in the 1915 as a horse barn, ...</td>\n",
       "      <td>https://www.airbnb.com/rooms/1898486</td>\n",
       "      <td>37.744497</td>\n",
       "      <td>-122.42718</td>\n",
       "      <td>Noe Valley</td>\n",
       "      <td>...</td>\n",
       "      <td>https://a1.muscache.com/ic/pictures/28535032/d...</td>\n",
       "      <td>235.0</td>\n",
       "      <td>House</td>\n",
       "      <td>100.0</td>\n",
       "      <td>Originally built in the 1915 as a horse barn, ...</td>\n",
       "      <td>https://a1.muscache.com/ic/pictures/28535032/d...</td>\n",
       "      <td>https://a1.muscache.com/ic/pictures/28535032/d...</td>\n",
       "      <td>94131.0</td>\n",
       "      <td>1898486</td>\n",
       "      <td>3.675032</td>\n",
       "    </tr>\n",
       "  </tbody>\n",
       "</table>\n",
       "<p>1 rows × 21 columns</p>\n",
       "</div>"
      ],
      "text/plain": [
       "                               name       id  bedrooms  bathrooms  \\\n",
       "148  Private Cottage in Noe Valley   1898486       2.0        1.5   \n",
       "\n",
       "     accommodates                                        description  \\\n",
       "148             4  Originally built in the 1915 as a horse barn, ...   \n",
       "\n",
       "                              listing_url   latitude  longitude  \\\n",
       "148  https://www.airbnb.com/rooms/1898486  37.744497 -122.42718   \n",
       "\n",
       "    neighbourhood_cleansed    ...     \\\n",
       "148             Noe Valley    ...      \n",
       "\n",
       "                                           picture_url  price  property_type  \\\n",
       "148  https://a1.muscache.com/ic/pictures/28535032/d...  235.0          House   \n",
       "\n",
       "    review_scores_rating                                            summary  \\\n",
       "148                100.0  Originally built in the 1915 as a horse barn, ...   \n",
       "\n",
       "                                         thumbnail_url  \\\n",
       "148  https://a1.muscache.com/ic/pictures/28535032/d...   \n",
       "\n",
       "                                        xl_picture_url  zipcode  listing_id  \\\n",
       "148  https://a1.muscache.com/ic/pictures/28535032/d...  94131.0     1898486   \n",
       "\n",
       "      vectors  \n",
       "148  3.675032  \n",
       "\n",
       "[1 rows x 21 columns]"
      ]
     },
     "execution_count": 87,
     "metadata": {},
     "output_type": "execute_result"
    }
   ],
   "source": [
    "test2[test2['id']==1898486]"
   ]
  },
  {
   "cell_type": "code",
   "execution_count": 88,
   "metadata": {
    "ExecuteTime": {
     "end_time": "2016-12-11T15:34:34.833423",
     "start_time": "2016-12-11T15:34:34.716730"
    },
    "collapsed": false,
    "run_control": {
     "frozen": false,
     "read_only": false
    }
   },
   "outputs": [
    {
     "data": {
      "text/html": [
       "<div>\n",
       "<table border=\"1\" class=\"dataframe\">\n",
       "  <thead>\n",
       "    <tr style=\"text-align: right;\">\n",
       "      <th></th>\n",
       "      <th>name</th>\n",
       "      <th>id</th>\n",
       "      <th>bedrooms</th>\n",
       "      <th>bathrooms</th>\n",
       "      <th>accommodates</th>\n",
       "      <th>description</th>\n",
       "      <th>listing_url</th>\n",
       "      <th>latitude</th>\n",
       "      <th>longitude</th>\n",
       "      <th>neighbourhood_cleansed</th>\n",
       "      <th>...</th>\n",
       "      <th>picture_url</th>\n",
       "      <th>price</th>\n",
       "      <th>property_type</th>\n",
       "      <th>review_scores_rating</th>\n",
       "      <th>summary</th>\n",
       "      <th>thumbnail_url</th>\n",
       "      <th>xl_picture_url</th>\n",
       "      <th>zipcode</th>\n",
       "      <th>listing_id</th>\n",
       "      <th>vectors</th>\n",
       "    </tr>\n",
       "  </thead>\n",
       "  <tbody>\n",
       "    <tr>\n",
       "      <th>25</th>\n",
       "      <td>Moscone center 3 bedrooms Market St</td>\n",
       "      <td>45900</td>\n",
       "      <td>3.0</td>\n",
       "      <td>1.0</td>\n",
       "      <td>6</td>\n",
       "      <td>Located on 1000 block of market st... St 7 th ...</td>\n",
       "      <td>https://www.airbnb.com/rooms/45900</td>\n",
       "      <td>37.782198</td>\n",
       "      <td>-122.410017</td>\n",
       "      <td>South of Market</td>\n",
       "      <td>...</td>\n",
       "      <td>https://a0.muscache.com/ic/pictures/7195853/b0...</td>\n",
       "      <td>240.0</td>\n",
       "      <td>Apartment</td>\n",
       "      <td>85.0</td>\n",
       "      <td>Located on 1000 block of market st... St 7 th ...</td>\n",
       "      <td>NaN</td>\n",
       "      <td>NaN</td>\n",
       "      <td>94103.0</td>\n",
       "      <td>45900</td>\n",
       "      <td>9.094724</td>\n",
       "    </tr>\n",
       "    <tr>\n",
       "      <th>476</th>\n",
       "      <td>Secluded Studio in Castro/Mission</td>\n",
       "      <td>1407881</td>\n",
       "      <td>0.0</td>\n",
       "      <td>1.0</td>\n",
       "      <td>2</td>\n",
       "      <td>Welcome to our studio! This is a fully furnish...</td>\n",
       "      <td>https://www.airbnb.com/rooms/1407881</td>\n",
       "      <td>37.763613</td>\n",
       "      <td>-122.430629</td>\n",
       "      <td>Castro/Upper Market</td>\n",
       "      <td>...</td>\n",
       "      <td>https://a1.muscache.com/ic/pictures/21166845/0...</td>\n",
       "      <td>160.0</td>\n",
       "      <td>Apartment</td>\n",
       "      <td>97.0</td>\n",
       "      <td>Welcome to our studio! This is a fully furnish...</td>\n",
       "      <td>https://a1.muscache.com/ic/pictures/21166845/0...</td>\n",
       "      <td>https://a1.muscache.com/ic/pictures/21166845/0...</td>\n",
       "      <td>94114.0</td>\n",
       "      <td>1407881</td>\n",
       "      <td>7.254423</td>\n",
       "    </tr>\n",
       "    <tr>\n",
       "      <th>138</th>\n",
       "      <td>Virtually Your Own Apt in Nth Beach</td>\n",
       "      <td>208831</td>\n",
       "      <td>1.0</td>\n",
       "      <td>1.0</td>\n",
       "      <td>2</td>\n",
       "      <td>Classic San Francisco home (Edwardian) in the ...</td>\n",
       "      <td>https://www.airbnb.com/rooms/208831</td>\n",
       "      <td>37.802421</td>\n",
       "      <td>-122.414402</td>\n",
       "      <td>Russian Hill</td>\n",
       "      <td>...</td>\n",
       "      <td>https://a2.muscache.com/ic/pictures/1990594/98...</td>\n",
       "      <td>145.0</td>\n",
       "      <td>House</td>\n",
       "      <td>96.0</td>\n",
       "      <td>Classic San Francisco home (Edwardian) in the ...</td>\n",
       "      <td>https://a2.muscache.com/ic/pictures/1990594/98...</td>\n",
       "      <td>https://a2.muscache.com/ic/pictures/1990594/98...</td>\n",
       "      <td>94133.0</td>\n",
       "      <td>208831</td>\n",
       "      <td>6.376990</td>\n",
       "    </tr>\n",
       "    <tr>\n",
       "      <th>186</th>\n",
       "      <td>Private, cozy studio near nature!</td>\n",
       "      <td>431632</td>\n",
       "      <td>1.0</td>\n",
       "      <td>1.0</td>\n",
       "      <td>2</td>\n",
       "      <td>Come stay in your own artist-decorated, peacef...</td>\n",
       "      <td>https://www.airbnb.com/rooms/431632</td>\n",
       "      <td>37.781354</td>\n",
       "      <td>-122.482656</td>\n",
       "      <td>Outer Richmond</td>\n",
       "      <td>...</td>\n",
       "      <td>https://a1.muscache.com/ic/pictures/5660657/cd...</td>\n",
       "      <td>140.0</td>\n",
       "      <td>Apartment</td>\n",
       "      <td>91.0</td>\n",
       "      <td>Please note that during this summer (July-Augu...</td>\n",
       "      <td>https://a1.muscache.com/ic/pictures/5660657/cd...</td>\n",
       "      <td>https://a1.muscache.com/ic/pictures/5660657/cd...</td>\n",
       "      <td>94121.0</td>\n",
       "      <td>431632</td>\n",
       "      <td>5.447978</td>\n",
       "    </tr>\n",
       "    <tr>\n",
       "      <th>112</th>\n",
       "      <td>Remodeled Cozy Sunny Room! - RED</td>\n",
       "      <td>2047469</td>\n",
       "      <td>1.0</td>\n",
       "      <td>2.0</td>\n",
       "      <td>2</td>\n",
       "      <td>Location:  We are located in the San Francisco...</td>\n",
       "      <td>https://www.airbnb.com/rooms/2047469</td>\n",
       "      <td>37.724915</td>\n",
       "      <td>-122.435155</td>\n",
       "      <td>Outer Mission</td>\n",
       "      <td>...</td>\n",
       "      <td>https://a0.muscache.com/ic/pictures/30923347/1...</td>\n",
       "      <td>79.0</td>\n",
       "      <td>House</td>\n",
       "      <td>92.0</td>\n",
       "      <td>Location:  We are located in the San Francisco...</td>\n",
       "      <td>https://a0.muscache.com/ic/pictures/30923347/1...</td>\n",
       "      <td>https://a0.muscache.com/ic/pictures/30923347/1...</td>\n",
       "      <td>94112.0</td>\n",
       "      <td>2047469</td>\n",
       "      <td>4.576652</td>\n",
       "    </tr>\n",
       "  </tbody>\n",
       "</table>\n",
       "<p>5 rows × 21 columns</p>\n",
       "</div>"
      ],
      "text/plain": [
       "                                    name       id  bedrooms  bathrooms  \\\n",
       "25   Moscone center 3 bedrooms Market St    45900       3.0        1.0   \n",
       "476    Secluded Studio in Castro/Mission  1407881       0.0        1.0   \n",
       "138  Virtually Your Own Apt in Nth Beach   208831       1.0        1.0   \n",
       "186    Private, cozy studio near nature!   431632       1.0        1.0   \n",
       "112     Remodeled Cozy Sunny Room! - RED  2047469       1.0        2.0   \n",
       "\n",
       "     accommodates                                        description  \\\n",
       "25              6  Located on 1000 block of market st... St 7 th ...   \n",
       "476             2  Welcome to our studio! This is a fully furnish...   \n",
       "138             2  Classic San Francisco home (Edwardian) in the ...   \n",
       "186             2  Come stay in your own artist-decorated, peacef...   \n",
       "112             2  Location:  We are located in the San Francisco...   \n",
       "\n",
       "                              listing_url   latitude   longitude  \\\n",
       "25     https://www.airbnb.com/rooms/45900  37.782198 -122.410017   \n",
       "476  https://www.airbnb.com/rooms/1407881  37.763613 -122.430629   \n",
       "138   https://www.airbnb.com/rooms/208831  37.802421 -122.414402   \n",
       "186   https://www.airbnb.com/rooms/431632  37.781354 -122.482656   \n",
       "112  https://www.airbnb.com/rooms/2047469  37.724915 -122.435155   \n",
       "\n",
       "    neighbourhood_cleansed    ...     \\\n",
       "25         South of Market    ...      \n",
       "476    Castro/Upper Market    ...      \n",
       "138           Russian Hill    ...      \n",
       "186         Outer Richmond    ...      \n",
       "112          Outer Mission    ...      \n",
       "\n",
       "                                           picture_url  price  property_type  \\\n",
       "25   https://a0.muscache.com/ic/pictures/7195853/b0...  240.0      Apartment   \n",
       "476  https://a1.muscache.com/ic/pictures/21166845/0...  160.0      Apartment   \n",
       "138  https://a2.muscache.com/ic/pictures/1990594/98...  145.0          House   \n",
       "186  https://a1.muscache.com/ic/pictures/5660657/cd...  140.0      Apartment   \n",
       "112  https://a0.muscache.com/ic/pictures/30923347/1...   79.0          House   \n",
       "\n",
       "    review_scores_rating                                            summary  \\\n",
       "25                  85.0  Located on 1000 block of market st... St 7 th ...   \n",
       "476                 97.0  Welcome to our studio! This is a fully furnish...   \n",
       "138                 96.0  Classic San Francisco home (Edwardian) in the ...   \n",
       "186                 91.0  Please note that during this summer (July-Augu...   \n",
       "112                 92.0  Location:  We are located in the San Francisco...   \n",
       "\n",
       "                                         thumbnail_url  \\\n",
       "25                                                 NaN   \n",
       "476  https://a1.muscache.com/ic/pictures/21166845/0...   \n",
       "138  https://a2.muscache.com/ic/pictures/1990594/98...   \n",
       "186  https://a1.muscache.com/ic/pictures/5660657/cd...   \n",
       "112  https://a0.muscache.com/ic/pictures/30923347/1...   \n",
       "\n",
       "                                        xl_picture_url  zipcode  listing_id  \\\n",
       "25                                                 NaN  94103.0       45900   \n",
       "476  https://a1.muscache.com/ic/pictures/21166845/0...  94114.0     1407881   \n",
       "138  https://a2.muscache.com/ic/pictures/1990594/98...  94133.0      208831   \n",
       "186  https://a1.muscache.com/ic/pictures/5660657/cd...  94121.0      431632   \n",
       "112  https://a0.muscache.com/ic/pictures/30923347/1...  94112.0     2047469   \n",
       "\n",
       "      vectors  \n",
       "25   9.094724  \n",
       "476  7.254423  \n",
       "138  6.376990  \n",
       "186  5.447978  \n",
       "112  4.576652  \n",
       "\n",
       "[5 rows x 21 columns]"
      ]
     },
     "execution_count": 88,
     "metadata": {},
     "output_type": "execute_result"
    }
   ],
   "source": [
    "test2.head()"
   ]
  },
  {
   "cell_type": "code",
   "execution_count": 79,
   "metadata": {
    "ExecuteTime": {
     "end_time": "2016-12-09T16:57:59.992642",
     "start_time": "2016-12-09T16:57:59.138921"
    },
    "collapsed": false,
    "run_control": {
     "frozen": false,
     "read_only": false
    }
   },
   "outputs": [
    {
     "name": "stderr",
     "output_type": "stream",
     "text": [
      "/Users/veenakumar/anaconda2/lib/python2.7/site-packages/ipykernel/__main__.py:11: SettingWithCopyWarning: \n",
      "A value is trying to be set on a copy of a slice from a DataFrame.\n",
      "Try using .loc[row_indexer,col_indexer] = value instead\n",
      "\n",
      "See the caveats in the documentation: http://pandas.pydata.org/pandas-docs/stable/indexing.html#indexing-view-versus-copy\n"
     ]
    }
   ],
   "source": [
    "scores = [score for score in review_index[get_doc_vecs(model,user_input2)[0]]]\n",
    "indexes = range(0,len(review_vecs))\n",
    "topthousand = sorted(zip(scores, indexes), reverse=True)[:1000]\n",
    "\n",
    "#getting the indexes and vectors\n",
    "dfindexes = [tup[1] for tup in topthousand]\n",
    "dfvectors = [tup[0] for tup in topthousand]\n",
    "\n",
    "#creating a results df\n",
    "results2 = reviews.iloc[dfindexes]\n",
    "results2['vectors'] = dfvectors"
   ]
  },
  {
   "cell_type": "code",
   "execution_count": 80,
   "metadata": {
    "ExecuteTime": {
     "end_time": "2016-12-09T16:58:40.823347",
     "start_time": "2016-12-09T16:58:40.813825"
    },
    "collapsed": false,
    "run_control": {
     "frozen": false,
     "read_only": false
    },
    "scrolled": true
   },
   "outputs": [
    {
     "name": "stdout",
     "output_type": "stream",
     "text": [
      "What a great place, and a great neighborhood as well.  My wife and I, as well as two friends, spent a week here.  It's right on a  public transit line that takes you pretty much wherever you need to go, very economically.  Excellent local shopping with a great grocer and butcher right here.  Easy to cook for yourself if you like, with a well-supplied kitchen.  The guest house is in back of the residence, obviously new construction, modern appliances, very private.  Highly recommended.\n",
      "\n",
      "Brenda was very welcoming and willing to meet me earlier than normal check-in time. She had lists of local favorite restaurants for me and a map and umbrella for me to use.  The house was beautiful and looked exactly like the pictures. The neighborhood is great, there is a lot of food and shopping close by. There is Whole Food, Safeway, and Bi-Rite close by for anything you might need in addition to many small retail stores and boutiques. There is ample public transportation near by and I was able to get everywhere I wanted to go using Muni. \n",
      "\n",
      "We stayed here for 3 nights in May 2014.\n",
      "\n",
      "The Urban Rainbow apartment is a true little gem, tucked away in a great part of the city. It's centrally located (close to Union Square, close to transport links, close to many dining options, convenience stores and supermarkets nearby) and has two spacious bedrooms (lots of storage / closet space). The living area / kitchen has two comfy sofas and a little breakfast bar, there is a washer and dryer there and even a dishwasher. Kitchen is well equipped and will have everything you need. The bathroom has a shower over a low bath.\n",
      "\n",
      "For those of you that want to watch TV when you are there, there is a big screen TV in one of the bedrooms (not sure how many channels there are on there - we found there were only a couple but as we did not need the TV it did not bother us one bit and we did not ask Megan or Manny about it).\n",
      "\n",
      "The place is decorated really well with a lot of nice touches (we were especially fond of the pictures in the bathroom) the reflect the travel spirit of the great hosts of this place; Megan and Manny.\n",
      "\n",
      "They ensured that we were well informed before our arrival (ask for their guidebook, great local knowledge and tips in there) and answered any questions and requests we had in a timely manner both via email or text. Megan was there to greet us and make us feel at home, answering further questions and sharing great relevant local knowledge (upcoming events and festivals, places of interest, etc).\n",
      "\n",
      "The apartment is located in Knob Hill, near Tenderloin, which has a relatively high number of homeless people. Tourists are sometimes advised not to venture into Tenderloin at night time. We have found this to be a fair warning if you would normally be the kind of person that would be afraid to go out into a big city center, but nothing more than that. Given we live in London, we never felt the need to avoid this area. Yes there are homeless people around, but they will leave you be and do not harass you (just as in any other big city). Having said that, if this would put you off you might want to stay in a different part of town. If you want more information on this, make sure to ask Megan as she knows a lot about this group of people through work she has done with them.\n",
      "\n",
      "Overall a great place, I would highly recommend it to anyone and will definitely be looking to stay there again on our next San Francisco visit.\n",
      "\n",
      "Excellent space and location!\r\n",
      "There were 5 of us (and a toddler) having a reunion to mostly hang out together and catch up with each others' lives, and this was a perfect space in which to do just that.  The large, open living/dining/kitchen area was most comfortable.\r\n",
      "There is a Whole Foods market very close by, which allowed us to stock up on food so we could eat meals in the flat.  And there's a great, small market just a couple doors down (Hi Beth!) that has lots of basic necessities, coffee in the morning, and a great wine selection in the back.  We made MANY trips there since is was so very close.\r\n",
      "Finally, this place is walking distance to some great restaurants!\r\n",
      "Tom was a great host, and we have absolutely no complaints about this Airbnb location.  Highly recommended!\r\n",
      "\n",
      "\n",
      "I stayed at Arnold and Amy's with my husband and 2 children.  It was exactly what we expected.  The apartment was very clean and had everything we could need for our stay.  Public transportation to get around the city was perfect - just a block away.  The neighborhood was great as well.  There were some good restaurants within a few blocks which worked out well for us on a few of our nights there for the convenience.  Also, there were a few local markets within a few blocks as well as a phenomenal cheese/wine shop which made it extremely convenient to have some food on-hand for breakfast, snacks, etc.  We were visiting family in the area so didn't have a lot of questions however when we did need to reach out with a question, the response time was great.  It is a great place and it is evident they take pride in providing a positive experience for their guests.  \n",
      "\n",
      "Michelle and Jeffrey are wonderful hosts. Both always made sure I felt comfortable and at home. I had a busy week during my stay and was able to come and go as I pleased. There was always fresh coffee and pastries in the morning, as well as good company which was greatly appreciated. There was also the offer of joining them for dinner which sadly I wasn't able to take them up on due to prior plans. They did however take the the time to show me the local area both during an evening and daytime. They have a real insight to the local scene and was always a pleasure talking with them. \r\n",
      "\r\n",
      "The area is walking distance to Haight & Ashbury which has an array of brilliant shops, food and drink. It is also close to Golden Gate park and well connected via public transport to get around the city. \r\n",
      "\r\n",
      "Their home is warm, clean and cosy. It was a great place to come back to after a busy day of running about the city. All in all, it was like staying with good family friends. Could not recommend enough. \n",
      "\n",
      "Ed and Sunny made us feel very welcome and went out of their way to make our stay as enjoyable as possible. They were very friendly and helpful. The information pack was thorough and informative, containing lots of local knowledge. The cottage was finished to an extremely high standard with quality white goods and fittings. The addition of a washer/dryer was invaluable on an active holiday!The cottage felt very much like a home away from home. It was felt very private and peaceful. It definitely surpassed our expectations and we loved staying there. The area is very family orientated with local parks and child-friendly eateries as well as high end restaurants. There are local grocery stores and large supermarkets all within walking distance. The cottage has a Muni streetcar stop right outside which gives quick access to the city centre and from there links to the rest of the city. We travelled for the majority of the time on public transport. We would highly recommend this property to anyone visiting San Francisco. \r\n",
      "The hosts were charming and gracious people and the property stunning.  We would return in an instant!\n",
      "\n",
      "Great private place to stay (our own entrance) that was close to where we needed to be.  Was surprised to find there was also a small kitchen area including a refrigerator.  Very comfortable.\n",
      "\n",
      "Kenix has a great place, comfortable, clean and organized, even though it's not so close from the center, it is well located, with public transport really close. Kenix quickly answered all our questions and even helped us with our laundry! We would definitely come back!\n",
      "\n",
      "This is a very neat basement apartment close to some really good restaurants, and not far from some larger supermarkets. It is also close to two major public transport routes that make it really easy to get down town or to other parts of the city.  I can really recommend the Thai restaurant on Geary - Amphawa - it's got to be the best Thai food we've ever had. \r\n",
      "We did have issues with the internet when we arrived, but after a few calls that was sorted out by the following day. San Francisco is a great place to see, and we were really lucky with the weather. \n",
      "\n",
      "This was a good place to stay and everything listed is very much as advertised. The room was spacious and well lit. The location was within walking distance of may attractions in San Fran and also even closer to public transportation. It's also close to an enterprise rent-a-car for those who want to rent a car for just a day like I did myself and it's also right off of the freeway making it easy to escape the sometimes hazardous city traffic of the city as well. I had a great stay and it really felt like I was staying in a nice small hotel for a good price and in the middle of town. The only downside was the shared bathroom but if you wake up early enough it shouldn't be a problem. I would highly recommend this listing. \n",
      "\n",
      "Outstanding! I travel a lot and have high standards.  I spent five days in this location. It lived up to and exceed expectations. They have thought through and provided everything you need for a great stay.  There is good public transportation nearby but it is a bit of  harsh SF walk (hills). I had a car and drove down to the local MUNI and always found free parking close to the station. There is local shopping including Whole Foods if you want to stock up, good restaurants and shops. The hosts respond to text requests quickly and are helpful. I will return when I next visit SF.\n",
      "\n",
      "This house was a great value compared to hotel costs and other home rentals. This place is spacious, great for large groups. Master bedroom is very large and has a great view. Other two rooms are good size too. Living room has a big sofa bed, if you need it. The house is fully stocked with everyday items you need (iron, kitchen appliances, towels, stereo, etc). The view from the deck is just incredible, great place to have a bbq (which we did) with an easy to use grill. \r\n",
      "\r\n",
      "The only drawback to the location of this house is transportation, if you plan on using your own car through out your stay, then you're good. This place even has a parking space. If you plan on using bus and train, you'll be limited on their schedules and it's very hard to get around late at night on public transportation there. If you plan on taxi, don't even bother, they don't even show up. Both nights we went out, we were stood up by several cab companies and had to walk to bus stop that had a late night route, which was not an easy walk up and down hills in your party clothes. Getting back was just as bad, no taxis wanted to bring us back to this area. Maybe because it's not as central as taxis would like it but this cause a HUGE inconvenience for us. On Sunday afternoon, using the closest bus and using the closest BART was a breaze and great but getting around late at night not so good. It is not owner's fault for this but it is a drawback to this location. \r\n",
      "\r\n",
      "With all that said, we would still stay here again. This is a great house, great value, beautiful view, nice touches by the owner with fresh flowers and pastries. I hope to stay again on my next trip to San Francisco. Thanks Bruce and Lucy! \n",
      "\n",
      "We really enjoyed our stay! Cynthia met us early and allowed us to drop off our bags early while the place was getting cleaned. Very large, clean and has everything you need for any stay in SF. The neighborhood is great, we are at The Grove for lunch and breakfast. A Mediterranean place was down the street that was great. Woodhouse was around the corner and was some of the best fish I have ever had. Across the street is the Fillmore bakery, and everything was delish esp the cronuts! Bus lines were pretty convenient and we used a rental car place we could walk to. All in all the location was great for getting some local flavor!\r\n",
      "The rental was great and Cynthia was more than accommodating even with our late departure to the airport. There is some foot traffic noise due to the family living their lives, and a very cute dog! But didn't really bother us because we got up on the early side to go see the city! Would definitely recommend this place, for all those reasons, plus the great price!\n",
      "\n",
      "Great little room located close to public transit. The whole family is very friendly and they make you feel right at home. The two dogs are also very friendly. I stayed here during the BART strike and was still able to make it into the city on Muni, which was a big plus. Highly recommended.\n",
      "\n",
      "Dawn was a wonderful host, and very flexible about our arrival time.  She greeted us when we arrived, and helped us plan for the two days we would be in San Francisco.  She truly opened her home to us, and treated us like friends or relatives ( the good kind).  The guest suite was exactly what we had wanted, and what was advertised.  She left breakfast for us, as she and the family were out of the house before we were up.  While not modern and glitzy, it was clean and comfortable and spacious.\r\n",
      "\r\n",
      "The  downside is that it is that while it is close to downtown and next to public transportation, it is in a bad part of town, near Bayview/Hunter's point.  Although gentrification is helping it improve, we felt uncomfortable in the area, and did not feel that we were in a safe area.  The iron bars on the doors of the houses and businesses, the scruffy people in the streets, and the proximity to an abandoned industrial area set a chilling tone.  Reviews on Airbnb refer to the quality of the area, but we did not take it seriously enough.  Our cab driver asked \"why would you want to stay in an area like that\"?  That said, if you can accept the nature of the area and don't feel threatened, this is a great place to stay.    \n",
      "\n",
      "Hey, our host katie and Brian and their two lovely boys and dog Mo where a pleasure to stay with, their generosity in helping us out and excepting us into their space was perfect. The location is ideal for the airport and out of town quietness, right on the t line into town (aabout40 miss)  Lacks restaurants for later on in the evening but there is a shop nearby. Thanks guys x\n",
      "\n",
      "This was a great apartment in a wonderful location. It was such a bonus to have a garage and never have to drive the whole time we were there. The multi day transportation pass is all you need. The NJudah line is only a few blocs away. We found great restaurants in the local area and a fabulous market close by. The  apartment had everything we needed to cook and relax. We would definitely return.\n",
      "\n",
      "As I write this review I find myself a bit sad because I already miss staying at Meredith and Patrick's flat.  My husband, son and myself rented the apartment for an extended period and truly enjoyed all of our time there.  They are considerate and accommodating hosts who were there when we needed them and incredibly prompt at helping with any small issue or question we may have encountered . Specifically, for those considering renting this flat I can recommend it for the following reasons 1). Location: the location is excellent - central, safe, lovely and quiet but very close to any of the \"action\" should you desire it. It is especially perfect if you have children as the neighborhood is teeming with them and there are great parks just blocks away. If you do not have children and desire a more adult experience - some of the best restaurants and nightlife in San Francisco are within 25 minutes  of easy (i.e. not hilly) walking (or 10 minutes on a frequent bus).  There are many great places to dine, shop etc within a much closer distance (including a Whole Foods) located only about 10 minutes on foot.  With or without a car, you are covered *which btw, if you do choose to rent/bring a car, there is generally parking nearby and if you would prefer not to have a car - you can use the ample public transportation or Zip Cars/City Car share located nearby.  2). The flat itself is also a wonderful place to stay. High ceilings, big windows, modern amenities and everything you could possibly need to cook, etc.  I never found myself without the right \"tool\" in the kitchen to satisfy my needs. This is particularly helpful for longer term stays and helps you take full advantage of the year round farmer's market located nearby. Their house also has a lovely little backyard where we often enjoyed late afternoons together sipping on drinks with fresh Meyer lemons from their tree:) 3). Finally, the hosts (Meredith and Patrick) really helped to make our stay excellent. They were warm and welcoming and we wish they were our long term neighbors!  Again, we were sad to leave and wish everybody who stays there the same wonderful experience we had. \n",
      "\n",
      "I had a very wonderful stay in Tara's place. The room is comfortable. It is well connected to the places of interest and airport via buses. \r\n",
      "Tara is super nice. She introduced a nice South Indian restaurant to me and other two guests, and we had  wonderful dinner there. She also asked her friend to take me to the airport!\r\n",
      "\n",
      "\n"
     ]
    }
   ],
   "source": [
    "for c in results2.comments[:20]:\n",
    "    print c + \"\\n\""
   ]
  },
  {
   "cell_type": "code",
   "execution_count": 162,
   "metadata": {
    "ExecuteTime": {
     "end_time": "2016-12-11T17:11:51.802855",
     "start_time": "2016-12-11T17:11:51.790739"
    },
    "collapsed": false,
    "run_control": {
     "frozen": false,
     "read_only": false
    }
   },
   "outputs": [],
   "source": [
    "example = test2[test2['id']==4956697]"
   ]
  },
  {
   "cell_type": "code",
   "execution_count": 163,
   "metadata": {
    "ExecuteTime": {
     "end_time": "2016-12-11T17:11:52.259323",
     "start_time": "2016-12-11T17:11:52.177017"
    },
    "collapsed": false,
    "run_control": {
     "frozen": false,
     "read_only": false
    },
    "scrolled": true
   },
   "outputs": [
    {
     "name": "stdout",
     "output_type": "stream",
     "text": [
      "name                                         Sunny 2br/1Ba Garden Apartment\n",
      "id                                                                  4956697\n",
      "bedrooms                                                                  2\n",
      "bathrooms                                                                 1\n",
      "accommodates                                                              3\n",
      "description               Beautiful 2br/1ba apartment with access to wel...\n",
      "listing_url                            https://www.airbnb.com/rooms/4956697\n",
      "latitude                                                            37.7787\n",
      "longitude                                                          -122.476\n",
      "neighbourhood_cleansed                                       Inner Richmond\n",
      "number_of_reviews                                                        29\n",
      "picture_url               https://a1.muscache.com/ic/pictures/64243391/7...\n",
      "price                                                                   119\n",
      "property_type                                                     Apartment\n",
      "review_scores_rating                                                     93\n",
      "summary                   Beautiful 2br/1ba apartment with access to wel...\n",
      "thumbnail_url             https://a1.muscache.com/ic/pictures/64243391/7...\n",
      "xl_picture_url            https://a1.muscache.com/ic/pictures/64243391/7...\n",
      "zipcode                                                               94118\n",
      "listing_id                                                          4956697\n",
      "vectors                                                            0.924449\n",
      "Name: 324, dtype: object \n",
      "\n"
     ]
    },
    {
     "ename": "IndexError",
     "evalue": "single positional indexer is out-of-bounds",
     "output_type": "error",
     "traceback": [
      "\u001b[0;31m---------------------------------------------------------------------------\u001b[0m",
      "\u001b[0;31mIndexError\u001b[0m                                Traceback (most recent call last)",
      "\u001b[0;32m<ipython-input-163-a912d203965a>\u001b[0m in \u001b[0;36m<module>\u001b[0;34m()\u001b[0m\n\u001b[1;32m      1\u001b[0m \u001b[0mcolumns\u001b[0m \u001b[0;34m=\u001b[0m \u001b[0;34m[\u001b[0m\u001b[0;34m'name'\u001b[0m\u001b[0;34m,\u001b[0m\u001b[0;34m'bedrooms'\u001b[0m\u001b[0;34m,\u001b[0m\u001b[0;34m'bathrooms'\u001b[0m\u001b[0;34m,\u001b[0m\u001b[0;34m'accommodates'\u001b[0m\u001b[0;34m,\u001b[0m\u001b[0;34m'description'\u001b[0m\u001b[0;34m,\u001b[0m\u001b[0;34m'listing_url'\u001b[0m\u001b[0;34m]\u001b[0m\u001b[0;34m\u001b[0m\u001b[0m\n\u001b[1;32m      2\u001b[0m \u001b[0;32mfor\u001b[0m \u001b[0mi\u001b[0m\u001b[0;34m,\u001b[0m\u001b[0mc\u001b[0m \u001b[0;32min\u001b[0m \u001b[0menumerate\u001b[0m\u001b[0;34m(\u001b[0m\u001b[0mcolumns\u001b[0m\u001b[0;34m)\u001b[0m\u001b[0;34m:\u001b[0m\u001b[0;34m\u001b[0m\u001b[0m\n\u001b[0;32m----> 3\u001b[0;31m     \u001b[0;32mprint\u001b[0m \u001b[0mexample\u001b[0m\u001b[0;34m.\u001b[0m\u001b[0miloc\u001b[0m\u001b[0;34m[\u001b[0m\u001b[0mi\u001b[0m\u001b[0;34m]\u001b[0m\u001b[0;34m,\u001b[0m\u001b[0;34m\"\\n\"\u001b[0m\u001b[0;34m\u001b[0m\u001b[0m\n\u001b[0m",
      "\u001b[0;32m/Users/veenakumar/anaconda2/lib/python2.7/site-packages/pandas/core/indexing.pyc\u001b[0m in \u001b[0;36m__getitem__\u001b[0;34m(self, key)\u001b[0m\n\u001b[1;32m   1294\u001b[0m             \u001b[0;32mreturn\u001b[0m \u001b[0mself\u001b[0m\u001b[0;34m.\u001b[0m\u001b[0m_getitem_tuple\u001b[0m\u001b[0;34m(\u001b[0m\u001b[0mkey\u001b[0m\u001b[0;34m)\u001b[0m\u001b[0;34m\u001b[0m\u001b[0m\n\u001b[1;32m   1295\u001b[0m         \u001b[0;32melse\u001b[0m\u001b[0;34m:\u001b[0m\u001b[0;34m\u001b[0m\u001b[0m\n\u001b[0;32m-> 1296\u001b[0;31m             \u001b[0;32mreturn\u001b[0m \u001b[0mself\u001b[0m\u001b[0;34m.\u001b[0m\u001b[0m_getitem_axis\u001b[0m\u001b[0;34m(\u001b[0m\u001b[0mkey\u001b[0m\u001b[0;34m,\u001b[0m \u001b[0maxis\u001b[0m\u001b[0;34m=\u001b[0m\u001b[0;36m0\u001b[0m\u001b[0;34m)\u001b[0m\u001b[0;34m\u001b[0m\u001b[0m\n\u001b[0m\u001b[1;32m   1297\u001b[0m \u001b[0;34m\u001b[0m\u001b[0m\n\u001b[1;32m   1298\u001b[0m     \u001b[0;32mdef\u001b[0m \u001b[0m_getitem_axis\u001b[0m\u001b[0;34m(\u001b[0m\u001b[0mself\u001b[0m\u001b[0;34m,\u001b[0m \u001b[0mkey\u001b[0m\u001b[0;34m,\u001b[0m \u001b[0maxis\u001b[0m\u001b[0;34m=\u001b[0m\u001b[0;36m0\u001b[0m\u001b[0;34m)\u001b[0m\u001b[0;34m:\u001b[0m\u001b[0;34m\u001b[0m\u001b[0m\n",
      "\u001b[0;32m/Users/veenakumar/anaconda2/lib/python2.7/site-packages/pandas/core/indexing.pyc\u001b[0m in \u001b[0;36m_getitem_axis\u001b[0;34m(self, key, axis)\u001b[0m\n\u001b[1;32m   1610\u001b[0m \u001b[0;34m\u001b[0m\u001b[0m\n\u001b[1;32m   1611\u001b[0m                 \u001b[0;31m# validate the location\u001b[0m\u001b[0;34m\u001b[0m\u001b[0;34m\u001b[0m\u001b[0m\n\u001b[0;32m-> 1612\u001b[0;31m                 \u001b[0mself\u001b[0m\u001b[0;34m.\u001b[0m\u001b[0m_is_valid_integer\u001b[0m\u001b[0;34m(\u001b[0m\u001b[0mkey\u001b[0m\u001b[0;34m,\u001b[0m \u001b[0maxis\u001b[0m\u001b[0;34m)\u001b[0m\u001b[0;34m\u001b[0m\u001b[0m\n\u001b[0m\u001b[1;32m   1613\u001b[0m \u001b[0;34m\u001b[0m\u001b[0m\n\u001b[1;32m   1614\u001b[0m             \u001b[0;32mreturn\u001b[0m \u001b[0mself\u001b[0m\u001b[0;34m.\u001b[0m\u001b[0m_get_loc\u001b[0m\u001b[0;34m(\u001b[0m\u001b[0mkey\u001b[0m\u001b[0;34m,\u001b[0m \u001b[0maxis\u001b[0m\u001b[0;34m=\u001b[0m\u001b[0maxis\u001b[0m\u001b[0;34m)\u001b[0m\u001b[0;34m\u001b[0m\u001b[0m\n",
      "\u001b[0;32m/Users/veenakumar/anaconda2/lib/python2.7/site-packages/pandas/core/indexing.pyc\u001b[0m in \u001b[0;36m_is_valid_integer\u001b[0;34m(self, key, axis)\u001b[0m\n\u001b[1;32m   1524\u001b[0m         \u001b[0ml\u001b[0m \u001b[0;34m=\u001b[0m \u001b[0mlen\u001b[0m\u001b[0;34m(\u001b[0m\u001b[0max\u001b[0m\u001b[0;34m)\u001b[0m\u001b[0;34m\u001b[0m\u001b[0m\n\u001b[1;32m   1525\u001b[0m         \u001b[0;32mif\u001b[0m \u001b[0mkey\u001b[0m \u001b[0;34m>=\u001b[0m \u001b[0ml\u001b[0m \u001b[0;32mor\u001b[0m \u001b[0mkey\u001b[0m \u001b[0;34m<\u001b[0m \u001b[0;34m-\u001b[0m\u001b[0ml\u001b[0m\u001b[0;34m:\u001b[0m\u001b[0;34m\u001b[0m\u001b[0m\n\u001b[0;32m-> 1526\u001b[0;31m             \u001b[0;32mraise\u001b[0m \u001b[0mIndexError\u001b[0m\u001b[0;34m(\u001b[0m\u001b[0;34m\"single positional indexer is out-of-bounds\"\u001b[0m\u001b[0;34m)\u001b[0m\u001b[0;34m\u001b[0m\u001b[0m\n\u001b[0m\u001b[1;32m   1527\u001b[0m         \u001b[0;32mreturn\u001b[0m \u001b[0mTrue\u001b[0m\u001b[0;34m\u001b[0m\u001b[0m\n\u001b[1;32m   1528\u001b[0m \u001b[0;34m\u001b[0m\u001b[0m\n",
      "\u001b[0;31mIndexError\u001b[0m: single positional indexer is out-of-bounds"
     ]
    }
   ],
   "source": [
    "columns = ['name','bedrooms','bathrooms','accommodates','description','listing_url']\n",
    "for i,c in enumerate(columns):\n",
    "    print example.iloc[i],\"\\n\""
   ]
  },
  {
   "cell_type": "code",
   "execution_count": 122,
   "metadata": {
    "ExecuteTime": {
     "end_time": "2016-12-11T16:41:28.986920",
     "start_time": "2016-12-11T16:41:28.944778"
    },
    "collapsed": false,
    "run_control": {
     "frozen": false,
     "read_only": false
    },
    "scrolled": true
   },
   "outputs": [
    {
     "name": "stdout",
     "output_type": "stream",
     "text": [
      "Listing ID:  1898486 \n",
      "Comments:  What a great place, and a great neighborhood as well.  My wife and I, as well as two friends, spent a week here.  It's right on a  public transit line that takes you pretty much wherever you need to go, very economically.  Excellent local shopping with a great grocer and butcher right here.  Easy to cook for yourself if you like, with a well-supplied kitchen.  The guest house is in back of the residence, obviously new construction, modern appliances, very private.  Highly recommended. \n",
      "Vector:  0.932150363922 \n",
      "*****************************************\n",
      "Listing ID:  12522 \n",
      "Comments:  Brenda was very welcoming and willing to meet me earlier than normal check-in time. She had lists of local favorite restaurants for me and a map and umbrella for me to use.  The house was beautiful and looked exactly like the pictures. The neighborhood is great, there is a lot of food and shopping close by. There is Whole Food, Safeway, and Bi-Rite close by for anything you might need in addition to many small retail stores and boutiques. There is ample public transportation near by and I was able to get everywhere I wanted to go using Muni.  \n",
      "Vector:  0.932150363922 \n",
      "*****************************************\n",
      "Listing ID:  53934 \n",
      "Comments:  We stayed here for 3 nights in May 2014.\n",
      "\n",
      "The Urban Rainbow apartment is a true little gem, tucked away in a great part of the city. It's centrally located (close to Union Square, close to transport links, close to many dining options, convenience stores and supermarkets nearby) and has two spacious bedrooms (lots of storage / closet space). The living area / kitchen has two comfy sofas and a little breakfast bar, there is a washer and dryer there and even a dishwasher. Kitchen is well equipped and will have everything you need. The bathroom has a shower over a low bath.\n",
      "\n",
      "For those of you that want to watch TV when you are there, there is a big screen TV in one of the bedrooms (not sure how many channels there are on there - we found there were only a couple but as we did not need the TV it did not bother us one bit and we did not ask Megan or Manny about it).\n",
      "\n",
      "The place is decorated really well with a lot of nice touches (we were especially fond of the pictures in the bathroom) the reflect the travel spirit of the great hosts of this place; Megan and Manny.\n",
      "\n",
      "They ensured that we were well informed before our arrival (ask for their guidebook, great local knowledge and tips in there) and answered any questions and requests we had in a timely manner both via email or text. Megan was there to greet us and make us feel at home, answering further questions and sharing great relevant local knowledge (upcoming events and festivals, places of interest, etc).\n",
      "\n",
      "The apartment is located in Knob Hill, near Tenderloin, which has a relatively high number of homeless people. Tourists are sometimes advised not to venture into Tenderloin at night time. We have found this to be a fair warning if you would normally be the kind of person that would be afraid to go out into a big city center, but nothing more than that. Given we live in London, we never felt the need to avoid this area. Yes there are homeless people around, but they will leave you be and do not harass you (just as in any other big city). Having said that, if this would put you off you might want to stay in a different part of town. If you want more information on this, make sure to ask Megan as she knows a lot about this group of people through work she has done with them.\n",
      "\n",
      "Overall a great place, I would highly recommend it to anyone and will definitely be looking to stay there again on our next San Francisco visit. \n",
      "Vector:  0.932150363922 \n",
      "*****************************************\n",
      "Listing ID:  1454407 \n",
      "Comments:  Excellent space and location!\r\n",
      "There were 5 of us (and a toddler) having a reunion to mostly hang out together and catch up with each others' lives, and this was a perfect space in which to do just that.  The large, open living/dining/kitchen area was most comfortable.\r\n",
      "There is a Whole Foods market very close by, which allowed us to stock up on food so we could eat meals in the flat.  And there's a great, small market just a couple doors down (Hi Beth!) that has lots of basic necessities, coffee in the morning, and a great wine selection in the back.  We made MANY trips there since is was so very close.\r\n",
      "Finally, this place is walking distance to some great restaurants!\r\n",
      "Tom was a great host, and we have absolutely no complaints about this Airbnb location.  Highly recommended!\r\n",
      "\n",
      "Vector:  0.932150363922 \n",
      "*****************************************\n",
      "Listing ID:  783149 \n",
      "Comments:  I stayed at Arnold and Amy's with my husband and 2 children.  It was exactly what we expected.  The apartment was very clean and had everything we could need for our stay.  Public transportation to get around the city was perfect - just a block away.  The neighborhood was great as well.  There were some good restaurants within a few blocks which worked out well for us on a few of our nights there for the convenience.  Also, there were a few local markets within a few blocks as well as a phenomenal cheese/wine shop which made it extremely convenient to have some food on-hand for breakfast, snacks, etc.  We were visiting family in the area so didn't have a lot of questions however when we did need to reach out with a question, the response time was great.  It is a great place and it is evident they take pride in providing a positive experience for their guests.   \n",
      "Vector:  0.932150363922 \n",
      "*****************************************\n",
      "Listing ID:  1989997 \n",
      "Comments:  Michelle and Jeffrey are wonderful hosts. Both always made sure I felt comfortable and at home. I had a busy week during my stay and was able to come and go as I pleased. There was always fresh coffee and pastries in the morning, as well as good company which was greatly appreciated. There was also the offer of joining them for dinner which sadly I wasn't able to take them up on due to prior plans. They did however take the the time to show me the local area both during an evening and daytime. They have a real insight to the local scene and was always a pleasure talking with them. \r\n",
      "\r\n",
      "The area is walking distance to Haight & Ashbury which has an array of brilliant shops, food and drink. It is also close to Golden Gate park and well connected via public transport to get around the city. \r\n",
      "\r\n",
      "Their home is warm, clean and cosy. It was a great place to come back to after a busy day of running about the city. All in all, it was like staying with good family friends. Could not recommend enough.  \n",
      "Vector:  0.932150363922 \n",
      "*****************************************\n",
      "Listing ID:  1898486 \n",
      "Comments:  Ed and Sunny made us feel very welcome and went out of their way to make our stay as enjoyable as possible. They were very friendly and helpful. The information pack was thorough and informative, containing lots of local knowledge. The cottage was finished to an extremely high standard with quality white goods and fittings. The addition of a washer/dryer was invaluable on an active holiday!The cottage felt very much like a home away from home. It was felt very private and peaceful. It definitely surpassed our expectations and we loved staying there. The area is very family orientated with local parks and child-friendly eateries as well as high end restaurants. There are local grocery stores and large supermarkets all within walking distance. The cottage has a Muni streetcar stop right outside which gives quick access to the city centre and from there links to the rest of the city. We travelled for the majority of the time on public transport. We would highly recommend this property to anyone visiting San Francisco. \r\n",
      "The hosts were charming and gracious people and the property stunning.  We would return in an instant! \n",
      "Vector:  0.932150363922 \n",
      "*****************************************\n",
      "Listing ID:  585326 \n",
      "Comments:  Great private place to stay (our own entrance) that was close to where we needed to be.  Was surprised to find there was also a small kitchen area including a refrigerator.  Very comfortable. \n",
      "Vector:  0.932150363922 \n",
      "*****************************************\n",
      "Listing ID:  2047469 \n",
      "Comments:  Kenix has a great place, comfortable, clean and organized, even though it's not so close from the center, it is well located, with public transport really close. Kenix quickly answered all our questions and even helped us with our laundry! We would definitely come back! \n",
      "Vector:  0.932150363922 \n",
      "*****************************************\n",
      "Listing ID:  4956697 \n",
      "Comments:  This is a very neat basement apartment close to some really good restaurants, and not far from some larger supermarkets. It is also close to two major public transport routes that make it really easy to get down town or to other parts of the city.  I can really recommend the Thai restaurant on Geary - Amphawa - it's got to be the best Thai food we've ever had. \r\n",
      "We did have issues with the internet when we arrived, but after a few calls that was sorted out by the following day. San Francisco is a great place to see, and we were really lucky with the weather.  \n",
      "Vector:  0.932150363922 \n",
      "*****************************************\n"
     ]
    }
   ],
   "source": [
    "for i,v in enumerate(results2.comments[:10]):\n",
    "    print \"Listing ID: \",results2.listing_id.iloc[i],\"\\n\",\"Comments: \",v,\"\\n\",\"Vector: \",results2.vectors.iloc[1],\"\\n\",\"*****************************************\""
   ]
  },
  {
   "cell_type": "code",
   "execution_count": 171,
   "metadata": {
    "ExecuteTime": {
     "end_time": "2016-12-11T17:53:48.731531",
     "start_time": "2016-12-11T17:53:48.721877"
    },
    "collapsed": false,
    "run_control": {
     "frozen": false,
     "read_only": false
    }
   },
   "outputs": [],
   "source": [
    "comments = results2[results2['listing_id']==1898486]"
   ]
  },
  {
   "cell_type": "code",
   "execution_count": 172,
   "metadata": {
    "ExecuteTime": {
     "end_time": "2016-12-11T17:53:50.799769",
     "start_time": "2016-12-11T17:53:50.785459"
    },
    "collapsed": false,
    "run_control": {
     "frozen": false,
     "read_only": false
    }
   },
   "outputs": [
    {
     "name": "stdout",
     "output_type": "stream",
     "text": [
      "Listing ID:  1898486 \n",
      "Comments:  What a great place, and a great neighborhood as well.  My wife and I, as well as two friends, spent a week here.  It's right on a  public transit line that takes you pretty much wherever you need to go, very economically.  Excellent local shopping with a great grocer and butcher right here.  Easy to cook for yourself if you like, with a well-supplied kitchen.  The guest house is in back of the residence, obviously new construction, modern appliances, very private.  Highly recommended. \n",
      "Vector:  0.925220608711 \n",
      "*****************************************\n",
      "Listing ID:  1898486 \n",
      "Comments:  Ed and Sunny made us feel very welcome and went out of their way to make our stay as enjoyable as possible. They were very friendly and helpful. The information pack was thorough and informative, containing lots of local knowledge. The cottage was finished to an extremely high standard with quality white goods and fittings. The addition of a washer/dryer was invaluable on an active holiday!The cottage felt very much like a home away from home. It was felt very private and peaceful. It definitely surpassed our expectations and we loved staying there. The area is very family orientated with local parks and child-friendly eateries as well as high end restaurants. There are local grocery stores and large supermarkets all within walking distance. The cottage has a Muni streetcar stop right outside which gives quick access to the city centre and from there links to the rest of the city. We travelled for the majority of the time on public transport. We would highly recommend this property to anyone visiting San Francisco. \r\n",
      "The hosts were charming and gracious people and the property stunning.  We would return in an instant! \n",
      "Vector:  0.925220608711 \n",
      "*****************************************\n",
      "Listing ID:  1898486 \n",
      "Comments:  Good place to stay for an exploration of San Fran. The location is definitely the biggest plus of Eds cottage, situated in the beautiful Noe Valley which boast its own fabulous bakeries (Le Boulangerie is a must), farmers market, restaurants and tram which goes directly into the heart of Union Square, making the whole of San Fran accessible. The cottage itself is a good size (it accommodated my parents, myself and my 14 month old happily) and set back from the street behind another property which means that its lovely and quiet. Ed was very responsive to messages, particularly when we had an issue with the floor being unclean when we arrived  he organised the cleaner to return within a couple of hours to clean it. The cottage provided us with a good base as a family, and we would recommend it to friends visiting the area.  \n",
      "Vector:  0.925220608711 \n",
      "*****************************************\n",
      "Listing ID:  1898486 \n",
      "Comments:  This was the perfect place for us to stay during our 12 days in SF. We were four people sharing the cottage, and it really exceeded our expectations. Neighbourhood is nice and safe, close to many restaurants, grocery store and public transport. Everything was very clean, It was great to have two bathrooms and a fully equipped kitchen. We had everything we needed: wifi, cable tv, mexican food close by and comfy beds. Ed is a great guy and made us feel very welcome.  We would recommend this for anyone visiting SF.  \n",
      "Vector:  0.925220608711 \n",
      "*****************************************\n"
     ]
    }
   ],
   "source": [
    "for i,v in enumerate(comments.comments[:10]):\n",
    "    print \"Listing ID: \",comments.listing_id.iloc[i],\"\\n\",\"Comments: \",v,\"\\n\",\"Vector: \",comments.vectors.iloc[1],\"\\n\",\"*****************************************\""
   ]
  },
  {
   "cell_type": "code",
   "execution_count": null,
   "metadata": {
    "collapsed": true,
    "run_control": {
     "frozen": false,
     "read_only": false
    }
   },
   "outputs": [],
   "source": []
  },
  {
   "cell_type": "code",
   "execution_count": null,
   "metadata": {
    "collapsed": true,
    "run_control": {
     "frozen": false,
     "read_only": false
    }
   },
   "outputs": [],
   "source": []
  },
  {
   "cell_type": "code",
   "execution_count": null,
   "metadata": {
    "collapsed": true,
    "run_control": {
     "frozen": false,
     "read_only": false
    }
   },
   "outputs": [],
   "source": []
  },
  {
   "cell_type": "markdown",
   "metadata": {
    "run_control": {
     "frozen": false,
     "read_only": false
    }
   },
   "source": [
    "### Test 3"
   ]
  },
  {
   "cell_type": "code",
   "execution_count": null,
   "metadata": {
    "collapsed": true,
    "run_control": {
     "frozen": false,
     "read_only": false
    }
   },
   "outputs": [],
   "source": [
    "user_input3 = ['']\n",
    "test3 = airbnb_experience(review_index,model,user_input3,reviews,listings)"
   ]
  },
  {
   "cell_type": "code",
   "execution_count": null,
   "metadata": {
    "collapsed": true,
    "run_control": {
     "frozen": false,
     "read_only": false
    }
   },
   "outputs": [],
   "source": [
    "scores = [score for score in review_index[get_doc_vecs(model,user_input3)[0]]]\n",
    "indexes = range(0,len(review_vecs))\n",
    "topthousand = sorted(zip(scores, indexes), reverse=True)[:1000]\n",
    "\n",
    "#getting the indexes and vectors\n",
    "dfindexes = [tup[1] for tup in topthousand]\n",
    "dfvectors = [tup[0] for tup in topthousand]\n",
    "\n",
    "#creating a results df\n",
    "results3 = reviews.iloc[dfindexes]\n",
    "results3['vectors'] = dfvectors"
   ]
  },
  {
   "cell_type": "code",
   "execution_count": null,
   "metadata": {
    "collapsed": true,
    "run_control": {
     "frozen": false,
     "read_only": false
    }
   },
   "outputs": [],
   "source": []
  },
  {
   "cell_type": "code",
   "execution_count": null,
   "metadata": {
    "collapsed": true,
    "run_control": {
     "frozen": false,
     "read_only": false
    }
   },
   "outputs": [],
   "source": [
    "for c in results3.comments[:20]:\n",
    "    print c + \"\\n\""
   ]
  },
  {
   "cell_type": "code",
   "execution_count": null,
   "metadata": {
    "collapsed": true,
    "run_control": {
     "frozen": false,
     "read_only": false
    }
   },
   "outputs": [],
   "source": []
  },
  {
   "cell_type": "markdown",
   "metadata": {
    "run_control": {
     "frozen": false,
     "read_only": false
    }
   },
   "source": [
    "### Test 4"
   ]
  },
  {
   "cell_type": "code",
   "execution_count": null,
   "metadata": {
    "collapsed": true,
    "run_control": {
     "frozen": false,
     "read_only": false
    }
   },
   "outputs": [],
   "source": [
    "user_input4 = ['']\n",
    "test4 = airbnb_experience(review_index,model,user_input4,reviews,listings)"
   ]
  },
  {
   "cell_type": "code",
   "execution_count": null,
   "metadata": {
    "collapsed": true,
    "run_control": {
     "frozen": false,
     "read_only": false
    }
   },
   "outputs": [],
   "source": []
  },
  {
   "cell_type": "code",
   "execution_count": null,
   "metadata": {
    "collapsed": true,
    "run_control": {
     "frozen": false,
     "read_only": false
    }
   },
   "outputs": [],
   "source": [
    "scores = [score for score in review_index[get_doc_vecs(model,user_input4)[0]]]\n",
    "indexes = range(0,len(review_vecs))\n",
    "topthousand = sorted(zip(scores, indexes), reverse=True)[:1000]\n",
    "\n",
    "#getting the indexes and vectors\n",
    "dfindexes = [tup[1] for tup in topthousand]\n",
    "dfvectors = [tup[0] for tup in topthousand]\n",
    "\n",
    "#creating a results df\n",
    "results4 = reviews.iloc[dfindexes]\n",
    "results4['vectors'] = dfvectors"
   ]
  },
  {
   "cell_type": "code",
   "execution_count": null,
   "metadata": {
    "collapsed": true,
    "run_control": {
     "frozen": false,
     "read_only": false
    }
   },
   "outputs": [],
   "source": [
    "for c in results4.comments[:20]:\n",
    "    print c + \"\\n\""
   ]
  },
  {
   "cell_type": "code",
   "execution_count": null,
   "metadata": {
    "collapsed": true,
    "run_control": {
     "frozen": false,
     "read_only": false
    }
   },
   "outputs": [],
   "source": []
  },
  {
   "cell_type": "markdown",
   "metadata": {
    "run_control": {
     "frozen": false,
     "read_only": false
    }
   },
   "source": [
    "### Test 5"
   ]
  },
  {
   "cell_type": "code",
   "execution_count": null,
   "metadata": {
    "collapsed": true,
    "run_control": {
     "frozen": false,
     "read_only": false
    }
   },
   "outputs": [],
   "source": [
    "user_input5 = ['']\n",
    "test5 = airbnb_experience(review_index,model,user_input5,reviews,listings)"
   ]
  },
  {
   "cell_type": "code",
   "execution_count": null,
   "metadata": {
    "collapsed": true,
    "run_control": {
     "frozen": false,
     "read_only": false
    }
   },
   "outputs": [],
   "source": []
  },
  {
   "cell_type": "code",
   "execution_count": null,
   "metadata": {
    "collapsed": true,
    "run_control": {
     "frozen": false,
     "read_only": false
    }
   },
   "outputs": [],
   "source": [
    "scores = [score for score in review_index[get_doc_vecs(model,user_input5)[0]]]\n",
    "indexes = range(0,len(review_vecs))\n",
    "topthousand = sorted(zip(scores, indexes), reverse=True)[:1000]\n",
    "\n",
    "#getting the indexes and vectors\n",
    "dfindexes = [tup[1] for tup in topthousand]\n",
    "dfvectors = [tup[0] for tup in topthousand]\n",
    "\n",
    "#creating a results df\n",
    "results5 = reviews.iloc[dfindexes]\n",
    "results5['vectors'] = dfvectors"
   ]
  },
  {
   "cell_type": "code",
   "execution_count": null,
   "metadata": {
    "collapsed": true,
    "run_control": {
     "frozen": false,
     "read_only": false
    }
   },
   "outputs": [],
   "source": [
    "for c in results5.comments[:20]:\n",
    "    print c + \"\\n\""
   ]
  },
  {
   "cell_type": "code",
   "execution_count": null,
   "metadata": {
    "collapsed": true,
    "run_control": {
     "frozen": false,
     "read_only": false
    }
   },
   "outputs": [],
   "source": []
  },
  {
   "cell_type": "markdown",
   "metadata": {
    "run_control": {
     "frozen": false,
     "read_only": false
    }
   },
   "source": [
    "### Test 6"
   ]
  },
  {
   "cell_type": "code",
   "execution_count": null,
   "metadata": {
    "collapsed": true,
    "run_control": {
     "frozen": false,
     "read_only": false
    }
   },
   "outputs": [],
   "source": [
    "user_input = ['']\n",
    "test6 = airbnb_experience(review_index,model,user_input,reviews,listings)"
   ]
  },
  {
   "cell_type": "code",
   "execution_count": null,
   "metadata": {
    "collapsed": true,
    "run_control": {
     "frozen": false,
     "read_only": false
    }
   },
   "outputs": [],
   "source": []
  },
  {
   "cell_type": "code",
   "execution_count": null,
   "metadata": {
    "collapsed": true,
    "run_control": {
     "frozen": false,
     "read_only": false
    }
   },
   "outputs": [],
   "source": []
  },
  {
   "cell_type": "markdown",
   "metadata": {
    "run_control": {
     "frozen": false,
     "read_only": false
    }
   },
   "source": [
    "### Test 7"
   ]
  },
  {
   "cell_type": "code",
   "execution_count": null,
   "metadata": {
    "collapsed": true,
    "run_control": {
     "frozen": false,
     "read_only": false
    }
   },
   "outputs": [],
   "source": [
    "user_input = ['']\n",
    "test7 = airbnb_experience(review_index,model,user_input,reviews,listings)"
   ]
  },
  {
   "cell_type": "code",
   "execution_count": null,
   "metadata": {
    "collapsed": true,
    "run_control": {
     "frozen": false,
     "read_only": false
    }
   },
   "outputs": [],
   "source": []
  },
  {
   "cell_type": "code",
   "execution_count": null,
   "metadata": {
    "collapsed": true,
    "run_control": {
     "frozen": false,
     "read_only": false
    }
   },
   "outputs": [],
   "source": []
  },
  {
   "cell_type": "markdown",
   "metadata": {
    "run_control": {
     "frozen": false,
     "read_only": false
    }
   },
   "source": [
    "### Test 8"
   ]
  },
  {
   "cell_type": "code",
   "execution_count": null,
   "metadata": {
    "collapsed": true,
    "run_control": {
     "frozen": false,
     "read_only": false
    }
   },
   "outputs": [],
   "source": [
    "user_input = ['']\n",
    "test8 = airbnb_experience(review_index,model,user_input,reviews,listings)"
   ]
  },
  {
   "cell_type": "code",
   "execution_count": null,
   "metadata": {
    "collapsed": true,
    "run_control": {
     "frozen": false,
     "read_only": false
    }
   },
   "outputs": [],
   "source": []
  },
  {
   "cell_type": "code",
   "execution_count": null,
   "metadata": {
    "collapsed": true,
    "run_control": {
     "frozen": false,
     "read_only": false
    }
   },
   "outputs": [],
   "source": []
  },
  {
   "cell_type": "markdown",
   "metadata": {
    "run_control": {
     "frozen": false,
     "read_only": false
    }
   },
   "source": [
    "### Test 9"
   ]
  },
  {
   "cell_type": "code",
   "execution_count": null,
   "metadata": {
    "collapsed": true,
    "run_control": {
     "frozen": false,
     "read_only": false
    }
   },
   "outputs": [],
   "source": [
    "user_input = ['']\n",
    "test9 = airbnb_experience(review_index,model,user_input,reviews,listings)"
   ]
  },
  {
   "cell_type": "code",
   "execution_count": null,
   "metadata": {
    "collapsed": true,
    "run_control": {
     "frozen": false,
     "read_only": false
    }
   },
   "outputs": [],
   "source": []
  },
  {
   "cell_type": "code",
   "execution_count": null,
   "metadata": {
    "collapsed": true,
    "run_control": {
     "frozen": false,
     "read_only": false
    }
   },
   "outputs": [],
   "source": []
  },
  {
   "cell_type": "markdown",
   "metadata": {
    "run_control": {
     "frozen": false,
     "read_only": false
    }
   },
   "source": [
    "### Test 10"
   ]
  },
  {
   "cell_type": "code",
   "execution_count": null,
   "metadata": {
    "collapsed": true,
    "run_control": {
     "frozen": false,
     "read_only": false
    }
   },
   "outputs": [],
   "source": [
    "user_input = ['']\n",
    "test10 = airbnb_experience(review_index,model,user_input,reviews,listings)"
   ]
  },
  {
   "cell_type": "code",
   "execution_count": null,
   "metadata": {
    "collapsed": true,
    "run_control": {
     "frozen": false,
     "read_only": false
    }
   },
   "outputs": [],
   "source": []
  },
  {
   "cell_type": "code",
   "execution_count": null,
   "metadata": {
    "collapsed": true,
    "run_control": {
     "frozen": false,
     "read_only": false
    }
   },
   "outputs": [],
   "source": []
  },
  {
   "cell_type": "code",
   "execution_count": null,
   "metadata": {
    "collapsed": true,
    "run_control": {
     "frozen": false,
     "read_only": false
    }
   },
   "outputs": [],
   "source": []
  },
  {
   "cell_type": "code",
   "execution_count": null,
   "metadata": {
    "collapsed": true,
    "run_control": {
     "frozen": false,
     "read_only": false
    }
   },
   "outputs": [],
   "source": []
  }
 ],
 "metadata": {
  "anaconda-cloud": {},
  "kernelspec": {
   "display_name": "Python [conda root]",
   "language": "python",
   "name": "conda-root-py"
  },
  "language_info": {
   "codemirror_mode": {
    "name": "ipython",
    "version": 2
   },
   "file_extension": ".py",
   "mimetype": "text/x-python",
   "name": "python",
   "nbconvert_exporter": "python",
   "pygments_lexer": "ipython2",
   "version": "2.7.12"
  },
  "latex_envs": {
   "bibliofile": "biblio.bib",
   "cite_by": "apalike",
   "current_citInitial": 1,
   "eqLabelWithNumbers": true,
   "eqNumInitial": 0
  },
  "toc": {
   "nav_menu": {
    "height": "233px",
    "width": "252px"
   },
   "navigate_menu": true,
   "number_sections": true,
   "sideBar": true,
   "threshold": 4,
   "toc_cell": false,
   "toc_section_display": "block",
   "toc_window_display": false
  }
 },
 "nbformat": 4,
 "nbformat_minor": 1
}
