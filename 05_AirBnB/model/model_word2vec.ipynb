{
 "cells": [
  {
   "cell_type": "markdown",
   "metadata": {
    "run_control": {
     "frozen": false,
     "read_only": false
    }
   },
   "source": [
    "### Imports"
   ]
  },
  {
   "cell_type": "code",
   "execution_count": 1,
   "metadata": {
    "ExecuteTime": {
     "end_time": "2016-12-08T14:05:51.902432",
     "start_time": "2016-12-08T14:05:49.326617"
    },
    "collapsed": false,
    "run_control": {
     "frozen": false,
     "read_only": false
    }
   },
   "outputs": [
    {
     "name": "stderr",
     "output_type": "stream",
     "text": [
      "/Users/veenakumar/anaconda2/lib/python2.7/site-packages/sklearn/cross_validation.py:44: DeprecationWarning: This module was deprecated in version 0.18 in favor of the model_selection module into which all the refactored classes and functions are moved. Also note that the interface of the new CV iterators are different from that of this module. This module will be removed in 0.20.\n",
      "  \"This module will be removed in 0.20.\", DeprecationWarning)\n",
      "/Users/veenakumar/anaconda2/lib/python2.7/site-packages/gensim/utils.py:1015: UserWarning: Pattern library is not installed, lemmatization won't be available.\n",
      "  warnings.warn(\"Pattern library is not installed, lemmatization won't be available.\")\n"
     ]
    }
   ],
   "source": [
    "import pandas as pd\n",
    "import numpy as np\n",
    "import glob\n",
    "import os\n",
    "import seaborn as sns\n",
    "from seaborn import plt\n",
    "from sklearn.linear_model import LinearRegression\n",
    "from sklearn.cross_validation import train_test_split\n",
    "from sklearn.linear_model import RidgeCV\n",
    "\n",
    "from __future__ import division, unicode_literals\n",
    "import re\n",
    "import gensim\n",
    "from nltk.tokenize import word_tokenize\n",
    "from nltk.corpus import stopwords\n",
    "from sklearn.metrics.pairwise import cosine_similarity\n",
    "\n",
    "\n",
    "%matplotlib inline"
   ]
  },
  {
   "cell_type": "markdown",
   "metadata": {
    "run_control": {
     "frozen": false,
     "read_only": false
    }
   },
   "source": [
    "Combine all **reviews** df's"
   ]
  },
  {
   "cell_type": "code",
   "execution_count": 2,
   "metadata": {
    "ExecuteTime": {
     "end_time": "2016-12-08T14:08:08.520064",
     "start_time": "2016-12-08T14:08:02.035558"
    },
    "collapsed": false,
    "run_control": {
     "frozen": false,
     "read_only": false
    }
   },
   "outputs": [],
   "source": [
    "path = '/Users/veenakumar/ds/metis/metisgh/sf16_ds4/local/Projects/5Kojak/airbnbdata/sanfrancisco/sf_reviews/' \n",
    "all_files = glob.glob(os.path.join(path, \"*.csv\"))\n",
    "\n",
    "df_from_each_file = (pd.read_csv(f) for f in all_files)\n",
    "df = pd.concat(df_from_each_file, ignore_index=True)"
   ]
  },
  {
   "cell_type": "code",
   "execution_count": 256,
   "metadata": {
    "ExecuteTime": {
     "end_time": "2016-12-09T15:40:50.335369",
     "start_time": "2016-12-09T15:40:48.758388"
    },
    "collapsed": false,
    "run_control": {
     "frozen": false,
     "read_only": false
    }
   },
   "outputs": [
    {
     "name": "stdout",
     "output_type": "stream",
     "text": [
      "<class 'pandas.core.frame.DataFrame'>\n",
      "RangeIndex: 706464 entries, 0 to 706463\n",
      "Data columns (total 2 columns):\n",
      "listing_id    706464 non-null int64\n",
      "comments      706293 non-null object\n",
      "dtypes: int64(1), object(1)\n",
      "memory usage: 10.8+ MB\n"
     ]
    }
   ],
   "source": [
    "df.info()"
   ]
  },
  {
   "cell_type": "code",
   "execution_count": 4,
   "metadata": {
    "ExecuteTime": {
     "end_time": "2016-12-08T14:08:30.712956",
     "start_time": "2016-12-08T14:08:30.650512"
    },
    "collapsed": true,
    "run_control": {
     "frozen": false,
     "read_only": false
    }
   },
   "outputs": [],
   "source": [
    "df.drop(['id','date','reviewer_id','reviewer_name'],axis=1,inplace=True)"
   ]
  },
  {
   "cell_type": "code",
   "execution_count": 198,
   "metadata": {
    "ExecuteTime": {
     "end_time": "2016-12-08T19:16:34.849983",
     "start_time": "2016-12-08T19:16:32.869702"
    },
    "collapsed": false,
    "run_control": {
     "frozen": false,
     "read_only": false
    }
   },
   "outputs": [
    {
     "name": "stdout",
     "output_type": "stream",
     "text": [
      "<class 'pandas.core.frame.DataFrame'>\n",
      "RangeIndex: 706464 entries, 0 to 706463\n",
      "Data columns (total 2 columns):\n",
      "listing_id    706464 non-null int64\n",
      "comments      706293 non-null object\n",
      "dtypes: int64(1), object(1)\n",
      "memory usage: 10.8+ MB\n"
     ]
    }
   ],
   "source": [
    "df.info()"
   ]
  },
  {
   "cell_type": "code",
   "execution_count": 199,
   "metadata": {
    "ExecuteTime": {
     "end_time": "2016-12-08T19:16:41.749897",
     "start_time": "2016-12-08T19:16:41.679038"
    },
    "collapsed": false,
    "run_control": {
     "frozen": false,
     "read_only": false
    },
    "scrolled": true
   },
   "outputs": [
    {
     "data": {
      "text/html": [
       "<div>\n",
       "<table border=\"1\" class=\"dataframe\">\n",
       "  <thead>\n",
       "    <tr style=\"text-align: right;\">\n",
       "      <th></th>\n",
       "      <th>listing_id</th>\n",
       "      <th>comments</th>\n",
       "    </tr>\n",
       "  </thead>\n",
       "  <tbody>\n",
       "    <tr>\n",
       "      <th>90720</th>\n",
       "      <td>982029</td>\n",
       "      <td>The location is amazing.  The house is a Victo...</td>\n",
       "    </tr>\n",
       "    <tr>\n",
       "      <th>90721</th>\n",
       "      <td>982029</td>\n",
       "      <td>We had a great time at this lovely apartment t...</td>\n",
       "    </tr>\n",
       "    <tr>\n",
       "      <th>90722</th>\n",
       "      <td>982029</td>\n",
       "      <td>The Pac Heights home was wonderful! Fully stoc...</td>\n",
       "    </tr>\n",
       "    <tr>\n",
       "      <th>90723</th>\n",
       "      <td>982029</td>\n",
       "      <td>Amazing location! Amazing apartment!  Super cl...</td>\n",
       "    </tr>\n",
       "    <tr>\n",
       "      <th>90724</th>\n",
       "      <td>982029</td>\n",
       "      <td>Great, responsive host. Thanks for everything!...</td>\n",
       "    </tr>\n",
       "    <tr>\n",
       "      <th>90725</th>\n",
       "      <td>982029</td>\n",
       "      <td>We stayed at this lovely apartment fr a week w...</td>\n",
       "    </tr>\n",
       "    <tr>\n",
       "      <th>90726</th>\n",
       "      <td>982029</td>\n",
       "      <td>Loved this apartment! It was very spacious and...</td>\n",
       "    </tr>\n",
       "    <tr>\n",
       "      <th>90727</th>\n",
       "      <td>982029</td>\n",
       "      <td>Salima's place was perfect for my team's offsi...</td>\n",
       "    </tr>\n",
       "    <tr>\n",
       "      <th>90728</th>\n",
       "      <td>982029</td>\n",
       "      <td>Salima's apartment is absolutely beautiful, lo...</td>\n",
       "    </tr>\n",
       "    <tr>\n",
       "      <th>90729</th>\n",
       "      <td>982029</td>\n",
       "      <td>We thought this was a great option for the pri...</td>\n",
       "    </tr>\n",
       "    <tr>\n",
       "      <th>90730</th>\n",
       "      <td>982029</td>\n",
       "      <td>Family of 4 from Australia, first experience u...</td>\n",
       "    </tr>\n",
       "    <tr>\n",
       "      <th>90731</th>\n",
       "      <td>982029</td>\n",
       "      <td>非常干净整洁的公寓，房主为我们准备了小吃和咖啡，仿佛回到家一样。地理位置非常便利，步行10分...</td>\n",
       "    </tr>\n",
       "    <tr>\n",
       "      <th>90732</th>\n",
       "      <td>982029</td>\n",
       "      <td>Salima's apartment is comfortable, convenience...</td>\n",
       "    </tr>\n",
       "    <tr>\n",
       "      <th>90733</th>\n",
       "      <td>982029</td>\n",
       "      <td>Very nice, very cozy apartment in a lovely and...</td>\n",
       "    </tr>\n",
       "    <tr>\n",
       "      <th>90734</th>\n",
       "      <td>982029</td>\n",
       "      <td>This is a great place to stay, just two blocks...</td>\n",
       "    </tr>\n",
       "    <tr>\n",
       "      <th>90735</th>\n",
       "      <td>982029</td>\n",
       "      <td>This is a true San Fran experience, a perfect ...</td>\n",
       "    </tr>\n",
       "    <tr>\n",
       "      <th>90736</th>\n",
       "      <td>982029</td>\n",
       "      <td>We definitively loved this authentic SF house....</td>\n",
       "    </tr>\n",
       "    <tr>\n",
       "      <th>90737</th>\n",
       "      <td>982029</td>\n",
       "      <td>We had a super time in SF staying in Salimas l...</td>\n",
       "    </tr>\n",
       "    <tr>\n",
       "      <th>90738</th>\n",
       "      <td>982029</td>\n",
       "      <td>Beautiful flat, well placed in the city center...</td>\n",
       "    </tr>\n",
       "    <tr>\n",
       "      <th>90739</th>\n",
       "      <td>982029</td>\n",
       "      <td>Está muy bien localizado y es muy bonito pero ...</td>\n",
       "    </tr>\n",
       "    <tr>\n",
       "      <th>90740</th>\n",
       "      <td>982029</td>\n",
       "      <td>Honestly, this was the best location and accom...</td>\n",
       "    </tr>\n",
       "    <tr>\n",
       "      <th>90741</th>\n",
       "      <td>982029</td>\n",
       "      <td>The appartment was really nice and in the perf...</td>\n",
       "    </tr>\n",
       "    <tr>\n",
       "      <th>90742</th>\n",
       "      <td>982029</td>\n",
       "      <td>L'appartement de Salima était très bien. Nous ...</td>\n",
       "    </tr>\n",
       "    <tr>\n",
       "      <th>90743</th>\n",
       "      <td>982029</td>\n",
       "      <td>Very nice, clean space in a great location. Su...</td>\n",
       "    </tr>\n",
       "    <tr>\n",
       "      <th>90744</th>\n",
       "      <td>982029</td>\n",
       "      <td>My wife my daughter and my parents spent three...</td>\n",
       "    </tr>\n",
       "    <tr>\n",
       "      <th>90745</th>\n",
       "      <td>982029</td>\n",
       "      <td>The apartment was fabulous and in a great loca...</td>\n",
       "    </tr>\n",
       "    <tr>\n",
       "      <th>90746</th>\n",
       "      <td>982029</td>\n",
       "      <td>Nice apartment! Cute decor, great neighborhood...</td>\n",
       "    </tr>\n",
       "    <tr>\n",
       "      <th>90747</th>\n",
       "      <td>982029</td>\n",
       "      <td>Perfect location, clean and charming rooms, pe...</td>\n",
       "    </tr>\n",
       "    <tr>\n",
       "      <th>90748</th>\n",
       "      <td>982029</td>\n",
       "      <td>I loved the snacks and tea, great bedrooms/bat...</td>\n",
       "    </tr>\n",
       "    <tr>\n",
       "      <th>90749</th>\n",
       "      <td>982029</td>\n",
       "      <td>We loved the apartment! Charming with wooden f...</td>\n",
       "    </tr>\n",
       "    <tr>\n",
       "      <th>...</th>\n",
       "      <td>...</td>\n",
       "      <td>...</td>\n",
       "    </tr>\n",
       "    <tr>\n",
       "      <th>584265</th>\n",
       "      <td>982029</td>\n",
       "      <td>Salima is a great host. The place is really ni...</td>\n",
       "    </tr>\n",
       "    <tr>\n",
       "      <th>584266</th>\n",
       "      <td>982029</td>\n",
       "      <td>Salima was very responsive to any of my questi...</td>\n",
       "    </tr>\n",
       "    <tr>\n",
       "      <th>584267</th>\n",
       "      <td>982029</td>\n",
       "      <td>Great location right near Fillmore. Apartment ...</td>\n",
       "    </tr>\n",
       "    <tr>\n",
       "      <th>584268</th>\n",
       "      <td>982029</td>\n",
       "      <td>Nice functional apartment in great location wi...</td>\n",
       "    </tr>\n",
       "    <tr>\n",
       "      <th>584269</th>\n",
       "      <td>982029</td>\n",
       "      <td>Nice place. Great location and good communicat...</td>\n",
       "    </tr>\n",
       "    <tr>\n",
       "      <th>584270</th>\n",
       "      <td>982029</td>\n",
       "      <td>Salima's apartment is located in an ideal spot...</td>\n",
       "    </tr>\n",
       "    <tr>\n",
       "      <th>584271</th>\n",
       "      <td>982029</td>\n",
       "      <td>Nice appartment, smells a bit old. We arrived ...</td>\n",
       "    </tr>\n",
       "    <tr>\n",
       "      <th>584272</th>\n",
       "      <td>982029</td>\n",
       "      <td>The appartment was wonderful! It looks exactly...</td>\n",
       "    </tr>\n",
       "    <tr>\n",
       "      <th>584273</th>\n",
       "      <td>982029</td>\n",
       "      <td>Nice place, we'd stay there again. Convenient ...</td>\n",
       "    </tr>\n",
       "    <tr>\n",
       "      <th>584274</th>\n",
       "      <td>982029</td>\n",
       "      <td>A charming apartment with perfect SF-air and i...</td>\n",
       "    </tr>\n",
       "    <tr>\n",
       "      <th>584275</th>\n",
       "      <td>982029</td>\n",
       "      <td>The apartment was lovely and in a great locati...</td>\n",
       "    </tr>\n",
       "    <tr>\n",
       "      <th>584276</th>\n",
       "      <td>982029</td>\n",
       "      <td>Salima was a fantastic host and she was very c...</td>\n",
       "    </tr>\n",
       "    <tr>\n",
       "      <th>584277</th>\n",
       "      <td>982029</td>\n",
       "      <td>Logement calme bien situé dans le quartier de ...</td>\n",
       "    </tr>\n",
       "    <tr>\n",
       "      <th>584278</th>\n",
       "      <td>982029</td>\n",
       "      <td>It was great to stay at Salima's place during ...</td>\n",
       "    </tr>\n",
       "    <tr>\n",
       "      <th>584279</th>\n",
       "      <td>982029</td>\n",
       "      <td>We were a group of five staying at the apartme...</td>\n",
       "    </tr>\n",
       "    <tr>\n",
       "      <th>584280</th>\n",
       "      <td>982029</td>\n",
       "      <td>The apartment is in a great location, coffee l...</td>\n",
       "    </tr>\n",
       "    <tr>\n",
       "      <th>584281</th>\n",
       "      <td>982029</td>\n",
       "      <td>The apartment is nice and clean. The decoratio...</td>\n",
       "    </tr>\n",
       "    <tr>\n",
       "      <th>584282</th>\n",
       "      <td>982029</td>\n",
       "      <td>The place was awesome. Salima was available wh...</td>\n",
       "    </tr>\n",
       "    <tr>\n",
       "      <th>584283</th>\n",
       "      <td>982029</td>\n",
       "      <td>For a group of 4 to 5, this apartment is perfe...</td>\n",
       "    </tr>\n",
       "    <tr>\n",
       "      <th>584284</th>\n",
       "      <td>982029</td>\n",
       "      <td>Everyone was perfect!\\r\\n</td>\n",
       "    </tr>\n",
       "    <tr>\n",
       "      <th>584285</th>\n",
       "      <td>982029</td>\n",
       "      <td>A great apartment in a lovely neighbourhood. E...</td>\n",
       "    </tr>\n",
       "    <tr>\n",
       "      <th>584286</th>\n",
       "      <td>982029</td>\n",
       "      <td>Der Kontakt mit Salima und die Übernahme der W...</td>\n",
       "    </tr>\n",
       "    <tr>\n",
       "      <th>584287</th>\n",
       "      <td>982029</td>\n",
       "      <td>Great location, close to the city and any attr...</td>\n",
       "    </tr>\n",
       "    <tr>\n",
       "      <th>584288</th>\n",
       "      <td>982029</td>\n",
       "      <td>Très bons e.contacts préalables avec l'hôte.\\r...</td>\n",
       "    </tr>\n",
       "    <tr>\n",
       "      <th>584289</th>\n",
       "      <td>982029</td>\n",
       "      <td>Our family of 6 had a wonderful time staying i...</td>\n",
       "    </tr>\n",
       "    <tr>\n",
       "      <th>584290</th>\n",
       "      <td>982029</td>\n",
       "      <td>The appartement is very nice and perfectly loc...</td>\n",
       "    </tr>\n",
       "    <tr>\n",
       "      <th>584291</th>\n",
       "      <td>982029</td>\n",
       "      <td>Nice, clean and much space for me and my four ...</td>\n",
       "    </tr>\n",
       "    <tr>\n",
       "      <th>584292</th>\n",
       "      <td>982029</td>\n",
       "      <td>We hadden leuke dagen in SF. Het is een gezell...</td>\n",
       "    </tr>\n",
       "    <tr>\n",
       "      <th>584293</th>\n",
       "      <td>982029</td>\n",
       "      <td>Very nice apartment in a safe neighbourhood lo...</td>\n",
       "    </tr>\n",
       "    <tr>\n",
       "      <th>584294</th>\n",
       "      <td>982029</td>\n",
       "      <td>We spent three days in this San Francisco apar...</td>\n",
       "    </tr>\n",
       "  </tbody>\n",
       "</table>\n",
       "<p>341 rows × 2 columns</p>\n",
       "</div>"
      ],
      "text/plain": [
       "        listing_id                                           comments\n",
       "90720       982029  The location is amazing.  The house is a Victo...\n",
       "90721       982029  We had a great time at this lovely apartment t...\n",
       "90722       982029  The Pac Heights home was wonderful! Fully stoc...\n",
       "90723       982029  Amazing location! Amazing apartment!  Super cl...\n",
       "90724       982029  Great, responsive host. Thanks for everything!...\n",
       "90725       982029  We stayed at this lovely apartment fr a week w...\n",
       "90726       982029  Loved this apartment! It was very spacious and...\n",
       "90727       982029  Salima's place was perfect for my team's offsi...\n",
       "90728       982029  Salima's apartment is absolutely beautiful, lo...\n",
       "90729       982029  We thought this was a great option for the pri...\n",
       "90730       982029  Family of 4 from Australia, first experience u...\n",
       "90731       982029  非常干净整洁的公寓，房主为我们准备了小吃和咖啡，仿佛回到家一样。地理位置非常便利，步行10分...\n",
       "90732       982029  Salima's apartment is comfortable, convenience...\n",
       "90733       982029  Very nice, very cozy apartment in a lovely and...\n",
       "90734       982029  This is a great place to stay, just two blocks...\n",
       "90735       982029  This is a true San Fran experience, a perfect ...\n",
       "90736       982029  We definitively loved this authentic SF house....\n",
       "90737       982029  We had a super time in SF staying in Salimas l...\n",
       "90738       982029  Beautiful flat, well placed in the city center...\n",
       "90739       982029  Está muy bien localizado y es muy bonito pero ...\n",
       "90740       982029  Honestly, this was the best location and accom...\n",
       "90741       982029  The appartment was really nice and in the perf...\n",
       "90742       982029  L'appartement de Salima était très bien. Nous ...\n",
       "90743       982029  Very nice, clean space in a great location. Su...\n",
       "90744       982029  My wife my daughter and my parents spent three...\n",
       "90745       982029  The apartment was fabulous and in a great loca...\n",
       "90746       982029  Nice apartment! Cute decor, great neighborhood...\n",
       "90747       982029  Perfect location, clean and charming rooms, pe...\n",
       "90748       982029  I loved the snacks and tea, great bedrooms/bat...\n",
       "90749       982029  We loved the apartment! Charming with wooden f...\n",
       "...            ...                                                ...\n",
       "584265      982029  Salima is a great host. The place is really ni...\n",
       "584266      982029  Salima was very responsive to any of my questi...\n",
       "584267      982029  Great location right near Fillmore. Apartment ...\n",
       "584268      982029  Nice functional apartment in great location wi...\n",
       "584269      982029  Nice place. Great location and good communicat...\n",
       "584270      982029  Salima's apartment is located in an ideal spot...\n",
       "584271      982029  Nice appartment, smells a bit old. We arrived ...\n",
       "584272      982029  The appartment was wonderful! It looks exactly...\n",
       "584273      982029  Nice place, we'd stay there again. Convenient ...\n",
       "584274      982029  A charming apartment with perfect SF-air and i...\n",
       "584275      982029  The apartment was lovely and in a great locati...\n",
       "584276      982029  Salima was a fantastic host and she was very c...\n",
       "584277      982029  Logement calme bien situé dans le quartier de ...\n",
       "584278      982029  It was great to stay at Salima's place during ...\n",
       "584279      982029  We were a group of five staying at the apartme...\n",
       "584280      982029  The apartment is in a great location, coffee l...\n",
       "584281      982029  The apartment is nice and clean. The decoratio...\n",
       "584282      982029  The place was awesome. Salima was available wh...\n",
       "584283      982029  For a group of 4 to 5, this apartment is perfe...\n",
       "584284      982029                          Everyone was perfect!\\r\\n\n",
       "584285      982029  A great apartment in a lovely neighbourhood. E...\n",
       "584286      982029  Der Kontakt mit Salima und die Übernahme der W...\n",
       "584287      982029  Great location, close to the city and any attr...\n",
       "584288      982029  Très bons e.contacts préalables avec l'hôte.\\r...\n",
       "584289      982029  Our family of 6 had a wonderful time staying i...\n",
       "584290      982029  The appartement is very nice and perfectly loc...\n",
       "584291      982029  Nice, clean and much space for me and my four ...\n",
       "584292      982029  We hadden leuke dagen in SF. Het is een gezell...\n",
       "584293      982029  Very nice apartment in a safe neighbourhood lo...\n",
       "584294      982029  We spent three days in this San Francisco apar...\n",
       "\n",
       "[341 rows x 2 columns]"
      ]
     },
     "execution_count": 199,
     "metadata": {},
     "output_type": "execute_result"
    }
   ],
   "source": [
    "df.loc[df['listing_id']==982029]"
   ]
  },
  {
   "cell_type": "markdown",
   "metadata": {
    "run_control": {
     "frozen": false,
     "read_only": false
    }
   },
   "source": [
    "### Cleaning df"
   ]
  },
  {
   "cell_type": "markdown",
   "metadata": {
    "run_control": {
     "frozen": false,
     "read_only": false
    }
   },
   "source": [
    "Removing duplicate comments, since the data was scraped at different points in time so there maybe some overlap."
   ]
  },
  {
   "cell_type": "code",
   "execution_count": 6,
   "metadata": {
    "ExecuteTime": {
     "end_time": "2016-12-08T14:08:45.842637",
     "start_time": "2016-12-08T14:08:45.183354"
    },
    "collapsed": true,
    "run_control": {
     "frozen": false,
     "read_only": false
    }
   },
   "outputs": [],
   "source": [
    "rvws_count = df.drop_duplicates('comments',keep='last')"
   ]
  },
  {
   "cell_type": "markdown",
   "metadata": {
    "run_control": {
     "frozen": false,
     "read_only": false
    }
   },
   "source": [
    "Looking at reviews by count; only want to use listings that have a large number of reviews"
   ]
  },
  {
   "cell_type": "code",
   "execution_count": 7,
   "metadata": {
    "ExecuteTime": {
     "end_time": "2016-12-08T14:08:48.651571",
     "start_time": "2016-12-08T14:08:48.568364"
    },
    "collapsed": true,
    "run_control": {
     "frozen": false,
     "read_only": false
    }
   },
   "outputs": [],
   "source": [
    "rvws_count = rvws_count.groupby('listing_id').count()"
   ]
  },
  {
   "cell_type": "code",
   "execution_count": 8,
   "metadata": {
    "ExecuteTime": {
     "end_time": "2016-12-08T14:08:50.640327",
     "start_time": "2016-12-08T14:08:50.634060"
    },
    "collapsed": true,
    "run_control": {
     "frozen": false,
     "read_only": false
    }
   },
   "outputs": [],
   "source": [
    "rvws_count = rvws_count[rvws_count['comments']>49]"
   ]
  },
  {
   "cell_type": "code",
   "execution_count": 9,
   "metadata": {
    "ExecuteTime": {
     "end_time": "2016-12-08T14:08:51.825941",
     "start_time": "2016-12-08T14:08:51.817171"
    },
    "collapsed": false,
    "run_control": {
     "frozen": false,
     "read_only": false
    }
   },
   "outputs": [
    {
     "name": "stdout",
     "output_type": "stream",
     "text": [
      "<class 'pandas.core.frame.DataFrame'>\n",
      "Int64Index: 1397 entries, 958 to 10119316\n",
      "Data columns (total 1 columns):\n",
      "comments    1397 non-null int64\n",
      "dtypes: int64(1)\n",
      "memory usage: 21.8 KB\n"
     ]
    }
   ],
   "source": [
    "rvws_count.info()"
   ]
  },
  {
   "cell_type": "code",
   "execution_count": 10,
   "metadata": {
    "ExecuteTime": {
     "end_time": "2016-12-08T14:08:54.815750",
     "start_time": "2016-12-08T14:08:54.809872"
    },
    "collapsed": true,
    "run_control": {
     "frozen": false,
     "read_only": false
    }
   },
   "outputs": [],
   "source": [
    "rvws_count.reset_index(inplace=True)"
   ]
  },
  {
   "cell_type": "markdown",
   "metadata": {
    "run_control": {
     "frozen": false,
     "read_only": false
    }
   },
   "source": [
    "Creating a new df with the listing id's that have 50 or more reviews"
   ]
  },
  {
   "cell_type": "code",
   "execution_count": 228,
   "metadata": {
    "ExecuteTime": {
     "end_time": "2016-12-08T20:00:44.899246",
     "start_time": "2016-12-08T20:00:44.478463"
    },
    "collapsed": false,
    "run_control": {
     "frozen": false,
     "read_only": false
    }
   },
   "outputs": [
    {
     "data": {
      "text/html": [
       "<div>\n",
       "<table border=\"1\" class=\"dataframe\">\n",
       "  <thead>\n",
       "    <tr style=\"text-align: right;\">\n",
       "      <th></th>\n",
       "      <th>listing_id</th>\n",
       "      <th>comments</th>\n",
       "    </tr>\n",
       "  </thead>\n",
       "  <tbody>\n",
       "    <tr>\n",
       "      <th>0</th>\n",
       "      <td>958</td>\n",
       "      <td>52</td>\n",
       "    </tr>\n",
       "    <tr>\n",
       "      <th>1</th>\n",
       "      <td>2822</td>\n",
       "      <td>53</td>\n",
       "    </tr>\n",
       "    <tr>\n",
       "      <th>2</th>\n",
       "      <td>3850</td>\n",
       "      <td>118</td>\n",
       "    </tr>\n",
       "    <tr>\n",
       "      <th>3</th>\n",
       "      <td>5193</td>\n",
       "      <td>241</td>\n",
       "    </tr>\n",
       "    <tr>\n",
       "      <th>4</th>\n",
       "      <td>5858</td>\n",
       "      <td>113</td>\n",
       "    </tr>\n",
       "  </tbody>\n",
       "</table>\n",
       "</div>"
      ],
      "text/plain": [
       "   listing_id  comments\n",
       "0         958        52\n",
       "1        2822        53\n",
       "2        3850       118\n",
       "3        5193       241\n",
       "4        5858       113"
      ]
     },
     "execution_count": 228,
     "metadata": {},
     "output_type": "execute_result"
    }
   ],
   "source": [
    "rvws_count.head()"
   ]
  },
  {
   "cell_type": "code",
   "execution_count": 11,
   "metadata": {
    "ExecuteTime": {
     "end_time": "2016-12-08T14:08:57.911219",
     "start_time": "2016-12-08T14:08:57.793059"
    },
    "collapsed": true,
    "run_control": {
     "frozen": false,
     "read_only": false
    }
   },
   "outputs": [],
   "source": [
    "reviews = df.loc[df['listing_id'].isin(rvws_count.listing_id)]"
   ]
  },
  {
   "cell_type": "code",
   "execution_count": 51,
   "metadata": {
    "ExecuteTime": {
     "end_time": "2016-12-08T15:38:19.886667",
     "start_time": "2016-12-08T15:38:16.114736"
    },
    "collapsed": false,
    "run_control": {
     "frozen": false,
     "read_only": false
    }
   },
   "outputs": [],
   "source": [
    "# Drop rows with null comments\n",
    "reviews = reviews.dropna()\n",
    "reviews = reviews.drop_duplicates('comments',keep='last')"
   ]
  },
  {
   "cell_type": "code",
   "execution_count": 56,
   "metadata": {
    "ExecuteTime": {
     "end_time": "2016-12-08T15:39:11.773734",
     "start_time": "2016-12-08T15:39:11.762354"
    },
    "collapsed": true,
    "run_control": {
     "frozen": false,
     "read_only": false
    }
   },
   "outputs": [],
   "source": [
    "## Convert to Unicode and ignore errors\n",
    "# reviews[\"comments\"] = reviews.comments.apply(lambda val: unicode(val, errors=\"ignore\"))"
   ]
  },
  {
   "cell_type": "code",
   "execution_count": 57,
   "metadata": {
    "ExecuteTime": {
     "end_time": "2016-12-08T15:40:17.217457",
     "start_time": "2016-12-08T15:40:17.197739"
    },
    "collapsed": true,
    "run_control": {
     "frozen": false,
     "read_only": false
    }
   },
   "outputs": [],
   "source": [
    "reviews.reset_index(inplace=True)"
   ]
  },
  {
   "cell_type": "code",
   "execution_count": 233,
   "metadata": {
    "ExecuteTime": {
     "end_time": "2016-12-08T20:02:02.831478",
     "start_time": "2016-12-08T20:02:02.798799"
    },
    "collapsed": false,
    "run_control": {
     "frozen": false,
     "read_only": false
    }
   },
   "outputs": [
    {
     "data": {
      "text/html": [
       "<div>\n",
       "<table border=\"1\" class=\"dataframe\">\n",
       "  <thead>\n",
       "    <tr style=\"text-align: right;\">\n",
       "      <th></th>\n",
       "      <th>listing_id</th>\n",
       "      <th>comments</th>\n",
       "    </tr>\n",
       "  </thead>\n",
       "  <tbody>\n",
       "    <tr>\n",
       "      <th>0</th>\n",
       "      <td>1417398</td>\n",
       "      <td>Catherine and Gabe were away when we arrived. ...</td>\n",
       "    </tr>\n",
       "    <tr>\n",
       "      <th>1</th>\n",
       "      <td>1417398</td>\n",
       "      <td>We had a warm welcome from Catherine, Gabe and...</td>\n",
       "    </tr>\n",
       "    <tr>\n",
       "      <th>2</th>\n",
       "      <td>1417398</td>\n",
       "      <td>Great room. It's nice to share a space but sti...</td>\n",
       "    </tr>\n",
       "    <tr>\n",
       "      <th>3</th>\n",
       "      <td>1417398</td>\n",
       "      <td>The room was perfect for our stay with a priva...</td>\n",
       "    </tr>\n",
       "    <tr>\n",
       "      <th>4</th>\n",
       "      <td>1417398</td>\n",
       "      <td>Everything was perfect! Catherine and Gabe wer...</td>\n",
       "    </tr>\n",
       "  </tbody>\n",
       "</table>\n",
       "</div>"
      ],
      "text/plain": [
       "  listing_id                                           comments\n",
       "0    1417398  Catherine and Gabe were away when we arrived. ...\n",
       "1    1417398  We had a warm welcome from Catherine, Gabe and...\n",
       "2    1417398  Great room. It's nice to share a space but sti...\n",
       "3    1417398  The room was perfect for our stay with a priva...\n",
       "4    1417398  Everything was perfect! Catherine and Gabe wer..."
      ]
     },
     "execution_count": 233,
     "metadata": {},
     "output_type": "execute_result"
    }
   ],
   "source": [
    "reviews.head()"
   ]
  },
  {
   "cell_type": "code",
   "execution_count": 232,
   "metadata": {
    "ExecuteTime": {
     "end_time": "2016-12-08T20:01:51.297693",
     "start_time": "2016-12-08T20:01:51.242979"
    },
    "collapsed": false,
    "run_control": {
     "frozen": false,
     "read_only": false
    }
   },
   "outputs": [
    {
     "name": "stdout",
     "output_type": "stream",
     "text": [
      "<class 'pandas.core.frame.DataFrame'>\n",
      "RangeIndex: 138936 entries, 0 to 138935\n",
      "Data columns (total 2 columns):\n",
      "listing_id    138936 non-null object\n",
      "comments      138936 non-null object\n",
      "dtypes: object(2)\n",
      "memory usage: 2.1+ MB\n"
     ]
    }
   ],
   "source": [
    "reviews.info()"
   ]
  },
  {
   "cell_type": "code",
   "execution_count": 234,
   "metadata": {
    "ExecuteTime": {
     "end_time": "2016-12-08T20:03:16.961345",
     "start_time": "2016-12-08T20:03:14.069062"
    },
    "collapsed": true,
    "run_control": {
     "frozen": false,
     "read_only": false
    }
   },
   "outputs": [],
   "source": [
    "reviews.to_csv(\"./reviews_clean_FINAL.csv\")"
   ]
  },
  {
   "cell_type": "code",
   "execution_count": 231,
   "metadata": {
    "ExecuteTime": {
     "end_time": "2016-12-08T20:01:34.100405",
     "start_time": "2016-12-08T20:01:33.980791"
    },
    "collapsed": false,
    "run_control": {
     "frozen": false,
     "read_only": false
    }
   },
   "outputs": [],
   "source": [
    "reviews.drop('index',axis=1,inplace=True)"
   ]
  },
  {
   "cell_type": "code",
   "execution_count": 60,
   "metadata": {
    "ExecuteTime": {
     "end_time": "2016-12-08T15:40:28.455478",
     "start_time": "2016-12-08T15:40:28.407847"
    },
    "collapsed": false,
    "run_control": {
     "frozen": false,
     "read_only": false
    }
   },
   "outputs": [],
   "source": [
    "reviews.listing_id = reviews.listing_id.map(str)"
   ]
  },
  {
   "cell_type": "markdown",
   "metadata": {
    "run_control": {
     "frozen": false,
     "read_only": false
    }
   },
   "source": [
    "### Word2Vec"
   ]
  },
  {
   "cell_type": "code",
   "execution_count": 20,
   "metadata": {
    "ExecuteTime": {
     "end_time": "2016-12-08T14:11:56.116854",
     "start_time": "2016-12-08T14:11:56.111654"
    },
    "collapsed": false,
    "run_control": {
     "frozen": false,
     "read_only": false
    }
   },
   "outputs": [],
   "source": [
    "import re, string\n",
    "from string import maketrans\n",
    "from gensim.models import Word2Vec"
   ]
  },
  {
   "cell_type": "code",
   "execution_count": 21,
   "metadata": {
    "ExecuteTime": {
     "end_time": "2016-12-08T14:12:05.096231",
     "start_time": "2016-12-08T14:12:05.092015"
    },
    "collapsed": false,
    "run_control": {
     "frozen": false,
     "read_only": false
    }
   },
   "outputs": [],
   "source": [
    "# Note, to use Google Vecs need to set binary=True in load_word2vec_format()\n",
    "google_path = '/Users/veenakumar/ds/metis/metisgh/sf16_ds4/local/Projects/5Kojak/GoogleNews-vectors-negative300.bin'"
   ]
  },
  {
   "cell_type": "code",
   "execution_count": 22,
   "metadata": {
    "ExecuteTime": {
     "end_time": "2016-12-08T14:12:05.868085",
     "start_time": "2016-12-08T14:12:05.864090"
    },
    "collapsed": false,
    "run_control": {
     "frozen": false,
     "read_only": false
    }
   },
   "outputs": [],
   "source": [
    "glove_path = '/Users/veenakumar/ds/metis/metisgh/sf16_ds4/local/Projects/5Kojak/glove.6B/glove.6B.300d.txt'"
   ]
  },
  {
   "cell_type": "code",
   "execution_count": 23,
   "metadata": {
    "ExecuteTime": {
     "end_time": "2016-12-08T14:14:46.513748",
     "start_time": "2016-12-08T14:12:08.615751"
    },
    "collapsed": true,
    "run_control": {
     "frozen": false,
     "read_only": false
    }
   },
   "outputs": [],
   "source": [
    "model = gensim.models.Word2Vec.load_word2vec_format(glove_path) "
   ]
  },
  {
   "cell_type": "code",
   "execution_count": 238,
   "metadata": {
    "ExecuteTime": {
     "end_time": "2016-12-08T20:27:04.150939",
     "start_time": "2016-12-08T20:23:49.222576"
    },
    "collapsed": true,
    "run_control": {
     "frozen": false,
     "read_only": false
    }
   },
   "outputs": [],
   "source": [
    "with open('./model_glove_final.pkl', 'wb') as f:\n",
    "    pickle.dump(model, f)"
   ]
  },
  {
   "cell_type": "code",
   "execution_count": 24,
   "metadata": {
    "ExecuteTime": {
     "end_time": "2016-12-08T14:19:40.667503",
     "start_time": "2016-12-08T14:19:40.595846"
    },
    "collapsed": true,
    "run_control": {
     "frozen": false,
     "read_only": false
    }
   },
   "outputs": [
    {
     "data": {
      "text/plain": [
       "[u'the',\n",
       " u',',\n",
       " u'.',\n",
       " u'of',\n",
       " u'to',\n",
       " u'and',\n",
       " u'in',\n",
       " u'a',\n",
       " u'\"',\n",
       " u\"'s\",\n",
       " u'for',\n",
       " u'-',\n",
       " u'that',\n",
       " u'on',\n",
       " u'is',\n",
       " u'was',\n",
       " u'said',\n",
       " u'with',\n",
       " u'he',\n",
       " u'as',\n",
       " u'it',\n",
       " u'by',\n",
       " u'at',\n",
       " u'(',\n",
       " u')',\n",
       " u'from',\n",
       " u'his',\n",
       " u\"''\",\n",
       " u'``',\n",
       " u'an',\n",
       " u'be',\n",
       " u'has',\n",
       " u'are',\n",
       " u'have',\n",
       " u'but',\n",
       " u'were',\n",
       " u'not',\n",
       " u'this',\n",
       " u'who',\n",
       " u'they',\n",
       " u'had',\n",
       " u'i',\n",
       " u'which',\n",
       " u'will',\n",
       " u'their',\n",
       " u':',\n",
       " u'or',\n",
       " u'its',\n",
       " u'one',\n",
       " u'after',\n",
       " u'new',\n",
       " u'been',\n",
       " u'also',\n",
       " u'we',\n",
       " u'would',\n",
       " u'two',\n",
       " u'more',\n",
       " u\"'\",\n",
       " u'first',\n",
       " u'about',\n",
       " u'up',\n",
       " u'when',\n",
       " u'year',\n",
       " u'there',\n",
       " u'all',\n",
       " u'--',\n",
       " u'out',\n",
       " u'she',\n",
       " u'other',\n",
       " u'people',\n",
       " u\"n't\",\n",
       " u'her',\n",
       " u'percent',\n",
       " u'than',\n",
       " u'over',\n",
       " u'into',\n",
       " u'last',\n",
       " u'some',\n",
       " u'government',\n",
       " u'time',\n",
       " u'$',\n",
       " u'you',\n",
       " u'years',\n",
       " u'if',\n",
       " u'no',\n",
       " u'world',\n",
       " u'can',\n",
       " u'three',\n",
       " u'do',\n",
       " u';',\n",
       " u'president',\n",
       " u'only',\n",
       " u'state',\n",
       " u'million',\n",
       " u'could',\n",
       " u'us',\n",
       " u'most',\n",
       " u'_',\n",
       " u'against',\n",
       " u'u.s.',\n",
       " u'so',\n",
       " u'them',\n",
       " u'what',\n",
       " u'him',\n",
       " u'united',\n",
       " u'during',\n",
       " u'before',\n",
       " u'may',\n",
       " u'since',\n",
       " u'many',\n",
       " u'while',\n",
       " u'where',\n",
       " u'states',\n",
       " u'because',\n",
       " u'now',\n",
       " u'city',\n",
       " u'made',\n",
       " u'like',\n",
       " u'between',\n",
       " u'did',\n",
       " u'just',\n",
       " u'national',\n",
       " u'day',\n",
       " u'country',\n",
       " u'under',\n",
       " u'such',\n",
       " u'second',\n",
       " u'then',\n",
       " u'company',\n",
       " u'group',\n",
       " u'any',\n",
       " u'through',\n",
       " u'china',\n",
       " u'four',\n",
       " u'being',\n",
       " u'down',\n",
       " u'war',\n",
       " u'back',\n",
       " u'off',\n",
       " u'south',\n",
       " u'american',\n",
       " u'minister',\n",
       " u'police',\n",
       " u'well',\n",
       " u'including',\n",
       " u'team',\n",
       " u'international',\n",
       " u'week',\n",
       " u'officials',\n",
       " u'still',\n",
       " u'both',\n",
       " u'even',\n",
       " u'high',\n",
       " u'part',\n",
       " u'told',\n",
       " u'those',\n",
       " u'end',\n",
       " u'former',\n",
       " u'these',\n",
       " u'make',\n",
       " u'billion',\n",
       " u'work',\n",
       " u'our',\n",
       " u'home',\n",
       " u'school',\n",
       " u'party',\n",
       " u'house',\n",
       " u'old',\n",
       " u'later',\n",
       " u'get',\n",
       " u'another',\n",
       " u'tuesday',\n",
       " u'news',\n",
       " u'long',\n",
       " u'five',\n",
       " u'called',\n",
       " u'1',\n",
       " u'wednesday',\n",
       " u'military',\n",
       " u'way',\n",
       " u'used',\n",
       " u'much',\n",
       " u'next',\n",
       " u'monday',\n",
       " u'thursday',\n",
       " u'friday',\n",
       " u'game',\n",
       " u'here',\n",
       " u'?',\n",
       " u'should',\n",
       " u'take',\n",
       " u'very',\n",
       " u'my',\n",
       " u'north',\n",
       " u'security',\n",
       " u'season',\n",
       " u'york',\n",
       " u'how',\n",
       " u'public',\n",
       " u'early',\n",
       " u'according',\n",
       " u'several',\n",
       " u'court',\n",
       " u'say',\n",
       " u'around',\n",
       " u'foreign',\n",
       " u'10',\n",
       " u'until',\n",
       " u'set',\n",
       " u'political',\n",
       " u'says',\n",
       " u'market',\n",
       " u'however',\n",
       " u'family',\n",
       " u'life',\n",
       " u'same',\n",
       " u'general',\n",
       " u'\\u2013',\n",
       " u'left',\n",
       " u'good',\n",
       " u'top',\n",
       " u'university',\n",
       " u'going',\n",
       " u'number',\n",
       " u'major',\n",
       " u'known',\n",
       " u'points',\n",
       " u'won',\n",
       " u'six',\n",
       " u'month',\n",
       " u'dollars',\n",
       " u'bank',\n",
       " u'2',\n",
       " u'iraq',\n",
       " u'use',\n",
       " u'members',\n",
       " u'each',\n",
       " u'area',\n",
       " u'found',\n",
       " u'official',\n",
       " u'sunday',\n",
       " u'place',\n",
       " u'go',\n",
       " u'based',\n",
       " u'among',\n",
       " u'third',\n",
       " u'times',\n",
       " u'took',\n",
       " u'right',\n",
       " u'days',\n",
       " u'local',\n",
       " u'economic',\n",
       " u'countries',\n",
       " u'see',\n",
       " u'best',\n",
       " u'report',\n",
       " u'killed',\n",
       " u'held',\n",
       " u'business',\n",
       " u'west',\n",
       " u'does',\n",
       " u'own',\n",
       " u'%',\n",
       " u'came',\n",
       " u'law',\n",
       " u'months',\n",
       " u'women',\n",
       " u\"'re\",\n",
       " u'power',\n",
       " u'think',\n",
       " u'service',\n",
       " u'children',\n",
       " u'bush',\n",
       " u'show',\n",
       " u'/',\n",
       " u'help',\n",
       " u'chief',\n",
       " u'saturday',\n",
       " u'system',\n",
       " u'john',\n",
       " u'support',\n",
       " u'series',\n",
       " u'play',\n",
       " u'office',\n",
       " u'following',\n",
       " u'me',\n",
       " u'meeting',\n",
       " u'expected',\n",
       " u'late',\n",
       " u'washington',\n",
       " u'games',\n",
       " u'european',\n",
       " u'league',\n",
       " u'reported',\n",
       " u'final',\n",
       " u'added',\n",
       " u'without',\n",
       " u'british',\n",
       " u'white',\n",
       " u'history',\n",
       " u'man',\n",
       " u'men',\n",
       " u'became',\n",
       " u'want',\n",
       " u'march',\n",
       " u'case',\n",
       " u'few',\n",
       " u'run',\n",
       " u'money',\n",
       " u'began',\n",
       " u'open',\n",
       " u'name',\n",
       " u'trade',\n",
       " u'center',\n",
       " u'3',\n",
       " u'israel',\n",
       " u'oil',\n",
       " u'too',\n",
       " u'al',\n",
       " u'film',\n",
       " u'win',\n",
       " u'led',\n",
       " u'east',\n",
       " u'central',\n",
       " u'20',\n",
       " u'air',\n",
       " u'come',\n",
       " u'chinese',\n",
       " u'town',\n",
       " u'leader',\n",
       " u'army',\n",
       " u'line',\n",
       " u'never',\n",
       " u'little',\n",
       " u'played',\n",
       " u'prime',\n",
       " u'death',\n",
       " u'companies',\n",
       " u'least',\n",
       " u'put',\n",
       " u'forces',\n",
       " u'past',\n",
       " u'de',\n",
       " u'half',\n",
       " u'june',\n",
       " u'saying',\n",
       " u'know',\n",
       " u'federal',\n",
       " u'french',\n",
       " u'peace',\n",
       " u'earlier',\n",
       " u'capital',\n",
       " u'force',\n",
       " u'great',\n",
       " u'union',\n",
       " u'near',\n",
       " u'released',\n",
       " u'small',\n",
       " u'department',\n",
       " u'every',\n",
       " u'health',\n",
       " u'japan',\n",
       " u'head',\n",
       " u'ago',\n",
       " u'night',\n",
       " u'big',\n",
       " u'cup',\n",
       " u'election',\n",
       " u'region',\n",
       " u'director',\n",
       " u'talks',\n",
       " u'program',\n",
       " u'far',\n",
       " u'today',\n",
       " u'statement',\n",
       " u'july',\n",
       " u'although',\n",
       " u'district',\n",
       " u'again',\n",
       " u'born',\n",
       " u'development',\n",
       " u'leaders',\n",
       " u'council',\n",
       " u'close',\n",
       " u'record',\n",
       " u'along',\n",
       " u'county',\n",
       " u'france',\n",
       " u'went',\n",
       " u'point',\n",
       " u'must',\n",
       " u'spokesman',\n",
       " u'your',\n",
       " u'member',\n",
       " u'plan',\n",
       " u'financial',\n",
       " u'april',\n",
       " u'recent',\n",
       " u'campaign',\n",
       " u'become',\n",
       " u'troops',\n",
       " u'whether',\n",
       " u'lost',\n",
       " u'music',\n",
       " u'15',\n",
       " u'got',\n",
       " u'israeli',\n",
       " u'30',\n",
       " u'need',\n",
       " u'4',\n",
       " u'lead',\n",
       " u'already',\n",
       " u'russia',\n",
       " u'though',\n",
       " u'might',\n",
       " u'free',\n",
       " u'hit',\n",
       " u'rights',\n",
       " u'11',\n",
       " u'information',\n",
       " u'away',\n",
       " u'12',\n",
       " u'5',\n",
       " u'others',\n",
       " u'control',\n",
       " u'within',\n",
       " u'large',\n",
       " u'economy',\n",
       " u'press',\n",
       " u'agency',\n",
       " u'water',\n",
       " u'died',\n",
       " u'career',\n",
       " u'making',\n",
       " u'...',\n",
       " u'deal',\n",
       " u'attack',\n",
       " u'side',\n",
       " u'seven',\n",
       " u'better',\n",
       " u'less',\n",
       " u'september',\n",
       " u'once',\n",
       " u'clinton',\n",
       " u'main',\n",
       " u'due',\n",
       " u'committee',\n",
       " u'building',\n",
       " u'conference',\n",
       " u'club',\n",
       " u'january',\n",
       " u'decision',\n",
       " u'stock',\n",
       " u'america',\n",
       " u'given',\n",
       " u'give',\n",
       " u'often',\n",
       " u'announced',\n",
       " u'television',\n",
       " u'industry',\n",
       " u'order',\n",
       " u'young',\n",
       " u\"'ve\",\n",
       " u'palestinian',\n",
       " u'age',\n",
       " u'start',\n",
       " u'administration',\n",
       " u'russian',\n",
       " u'prices',\n",
       " u'round',\n",
       " u'december',\n",
       " u'nations',\n",
       " u\"'m\",\n",
       " u'human',\n",
       " u'india',\n",
       " u'defense',\n",
       " u'asked',\n",
       " u'total',\n",
       " u'october',\n",
       " u'players',\n",
       " u'bill',\n",
       " u'important',\n",
       " u'southern',\n",
       " u'move',\n",
       " u'fire',\n",
       " u'population',\n",
       " u'rose',\n",
       " u'november',\n",
       " u'include',\n",
       " u'further',\n",
       " u'nuclear',\n",
       " u'street',\n",
       " u'taken',\n",
       " u'media',\n",
       " u'different',\n",
       " u'issue',\n",
       " u'received',\n",
       " u'secretary',\n",
       " u'return',\n",
       " u'college',\n",
       " u'working',\n",
       " u'community',\n",
       " u'eight',\n",
       " u'groups',\n",
       " u'despite',\n",
       " u'level',\n",
       " u'largest',\n",
       " u'whose',\n",
       " u'attacks',\n",
       " u'germany',\n",
       " u'august',\n",
       " u'change',\n",
       " u'church',\n",
       " u'nation',\n",
       " u'german',\n",
       " u'station',\n",
       " u'london',\n",
       " u'weeks',\n",
       " u'having',\n",
       " u'18',\n",
       " u'research',\n",
       " u'black',\n",
       " u'services',\n",
       " u'story',\n",
       " u'6',\n",
       " u'europe',\n",
       " u'sales',\n",
       " u'policy',\n",
       " u'visit',\n",
       " u'northern',\n",
       " u'lot',\n",
       " u'across',\n",
       " u'per',\n",
       " u'current',\n",
       " u'board',\n",
       " u'football',\n",
       " u'ministry',\n",
       " u'workers',\n",
       " u'vote',\n",
       " u'book',\n",
       " u'fell',\n",
       " u'seen',\n",
       " u'role',\n",
       " u'students',\n",
       " u'shares',\n",
       " u'iran',\n",
       " u'process',\n",
       " u'agreement',\n",
       " u'quarter',\n",
       " u'full',\n",
       " u'match',\n",
       " u'started',\n",
       " u'growth',\n",
       " u'yet',\n",
       " u'moved',\n",
       " u'possible',\n",
       " u'western',\n",
       " u'special',\n",
       " u'100',\n",
       " u'plans',\n",
       " u'interest',\n",
       " u'behind',\n",
       " u'strong',\n",
       " u'england',\n",
       " u'named',\n",
       " u'food',\n",
       " u'period',\n",
       " u'real',\n",
       " u'authorities',\n",
       " u'car',\n",
       " u'term',\n",
       " u'rate',\n",
       " u'race',\n",
       " u'nearly',\n",
       " u'korea',\n",
       " u'enough',\n",
       " u'site',\n",
       " u'opposition',\n",
       " u'keep',\n",
       " u'25',\n",
       " u'call',\n",
       " u'future',\n",
       " u'taking',\n",
       " u'island',\n",
       " u'2008',\n",
       " u'2006',\n",
       " u'road',\n",
       " u'outside',\n",
       " u'really',\n",
       " u'century',\n",
       " u'democratic',\n",
       " u'almost',\n",
       " u'single',\n",
       " u'share',\n",
       " u'leading',\n",
       " u'trying',\n",
       " u'find',\n",
       " u'album',\n",
       " u'senior',\n",
       " u'minutes',\n",
       " u'together',\n",
       " u'congress',\n",
       " u'index',\n",
       " u'australia',\n",
       " u'results',\n",
       " u'hard',\n",
       " u'hours',\n",
       " u'land',\n",
       " u'action',\n",
       " u'higher',\n",
       " u'field',\n",
       " u'cut',\n",
       " u'coach',\n",
       " u'elections',\n",
       " u'san',\n",
       " u'issues',\n",
       " u'executive',\n",
       " u'february',\n",
       " u'production',\n",
       " u'areas',\n",
       " u'river',\n",
       " u'face',\n",
       " u'using',\n",
       " u'japanese',\n",
       " u'province',\n",
       " u'park',\n",
       " u'price',\n",
       " u'commission',\n",
       " u'california',\n",
       " u'father',\n",
       " u'son',\n",
       " u'education',\n",
       " u'7',\n",
       " u'village',\n",
       " u'energy',\n",
       " u'shot',\n",
       " u'short',\n",
       " u'africa',\n",
       " u'key',\n",
       " u'red',\n",
       " u'association',\n",
       " u'average',\n",
       " u'pay',\n",
       " u'exchange',\n",
       " u'eu',\n",
       " u'something',\n",
       " u'gave',\n",
       " u'likely',\n",
       " u'player',\n",
       " u'george',\n",
       " u'2007',\n",
       " u'victory',\n",
       " u'8',\n",
       " u'low',\n",
       " u'things',\n",
       " u'2010',\n",
       " u'pakistan',\n",
       " u'14',\n",
       " u'post',\n",
       " u'social',\n",
       " u'continue',\n",
       " u'ever',\n",
       " u'look',\n",
       " u'chairman',\n",
       " u'job',\n",
       " u'2000',\n",
       " u'soldiers',\n",
       " u'able',\n",
       " u'parliament',\n",
       " u'front',\n",
       " u'himself',\n",
       " u'problems',\n",
       " u'private',\n",
       " u'lower',\n",
       " u'list',\n",
       " u'built',\n",
       " u'13',\n",
       " u'efforts',\n",
       " u'dollar',\n",
       " u'miles',\n",
       " u'included',\n",
       " u'radio',\n",
       " u'live',\n",
       " u'form',\n",
       " u'david',\n",
       " u'african',\n",
       " u'increase',\n",
       " u'reports',\n",
       " u'sent',\n",
       " u'fourth',\n",
       " u'always',\n",
       " u'king',\n",
       " u'50',\n",
       " u'tax',\n",
       " u'taiwan',\n",
       " u'britain',\n",
       " u'16',\n",
       " u'playing',\n",
       " u'title',\n",
       " u'middle',\n",
       " u'meet',\n",
       " u'global',\n",
       " u'wife',\n",
       " u'2009',\n",
       " u'position',\n",
       " u'located',\n",
       " u'clear',\n",
       " u'ahead',\n",
       " u'2004',\n",
       " u'2005',\n",
       " u'iraqi',\n",
       " u'english',\n",
       " u'result',\n",
       " u'release',\n",
       " u'violence',\n",
       " u'goal',\n",
       " u'project',\n",
       " u'closed',\n",
       " u'border',\n",
       " u'body',\n",
       " u'soon',\n",
       " u'crisis',\n",
       " u'division',\n",
       " u'&amp;',\n",
       " u'served',\n",
       " u'tour',\n",
       " u'hospital',\n",
       " u'kong',\n",
       " u'test',\n",
       " u'hong',\n",
       " u'u.n.',\n",
       " u'inc.',\n",
       " u'technology',\n",
       " u'believe',\n",
       " u'organization',\n",
       " u'published',\n",
       " u'weapons',\n",
       " u'agreed',\n",
       " u'why',\n",
       " u'nine',\n",
       " u'summer',\n",
       " u'wanted',\n",
       " u'republican',\n",
       " u'act',\n",
       " u'recently',\n",
       " u'texas',\n",
       " u'course',\n",
       " u'problem',\n",
       " u'senate',\n",
       " u'medical',\n",
       " u'un',\n",
       " u'done',\n",
       " u'reached',\n",
       " u'star',\n",
       " u'continued',\n",
       " u'investors',\n",
       " u'living',\n",
       " u'care',\n",
       " u'signed',\n",
       " u'17',\n",
       " u'art',\n",
       " u'provide',\n",
       " u'worked',\n",
       " u'presidential',\n",
       " u'gold',\n",
       " u'obama',\n",
       " u'morning',\n",
       " u'dead',\n",
       " u'opened',\n",
       " u\"'ll\",\n",
       " u'event',\n",
       " u'previous',\n",
       " u'cost',\n",
       " u'instead',\n",
       " u'canada',\n",
       " u'band',\n",
       " u'teams',\n",
       " u'daily',\n",
       " u'2001',\n",
       " u'available',\n",
       " u'drug',\n",
       " u'coming',\n",
       " u'2003',\n",
       " u'investment',\n",
       " u'\\u2019s',\n",
       " u'michael',\n",
       " u'civil',\n",
       " u'woman',\n",
       " u'training',\n",
       " u'appeared',\n",
       " u'9',\n",
       " u'involved',\n",
       " u'indian',\n",
       " u'similar',\n",
       " u'situation',\n",
       " u'24',\n",
       " u'los',\n",
       " u'running',\n",
       " u'fighting',\n",
       " u'mark',\n",
       " u'40',\n",
       " u'trial',\n",
       " u'hold',\n",
       " u'australian',\n",
       " u'thought',\n",
       " u'!',\n",
       " u'study',\n",
       " u'fall',\n",
       " u'mother',\n",
       " u'met',\n",
       " u'relations',\n",
       " u'anti',\n",
       " u'2002',\n",
       " u'song',\n",
       " u'popular',\n",
       " u'base',\n",
       " u'tv',\n",
       " u'ground',\n",
       " u'markets',\n",
       " u'ii',\n",
       " u'newspaper',\n",
       " u'staff',\n",
       " u'saw',\n",
       " u'hand',\n",
       " u'hope',\n",
       " u'operations',\n",
       " u'pressure',\n",
       " u'americans',\n",
       " u'eastern',\n",
       " u'st.',\n",
       " u'legal',\n",
       " u'asia',\n",
       " u'budget',\n",
       " u'returned',\n",
       " u'considered',\n",
       " u'love',\n",
       " u'wrote',\n",
       " u'stop',\n",
       " u'fight',\n",
       " u'currently',\n",
       " u'charges',\n",
       " u'try',\n",
       " u'aid',\n",
       " u'ended',\n",
       " u'management',\n",
       " u'brought',\n",
       " u'cases',\n",
       " u'decided',\n",
       " u'failed',\n",
       " u'network',\n",
       " u'works',\n",
       " u'gas',\n",
       " u'turned',\n",
       " u'fact',\n",
       " u'vice',\n",
       " u'ca',\n",
       " u'mexico',\n",
       " u'trading',\n",
       " u'especially',\n",
       " u'reporters',\n",
       " u'afghanistan',\n",
       " u'common',\n",
       " u'looking',\n",
       " u'space',\n",
       " u'rates',\n",
       " u'manager',\n",
       " u'loss',\n",
       " u'2011',\n",
       " u'justice',\n",
       " u'thousands',\n",
       " u'james',\n",
       " u'rather',\n",
       " u'fund',\n",
       " u'thing',\n",
       " u'republic',\n",
       " u'opening',\n",
       " u'accused',\n",
       " u'winning',\n",
       " u'scored',\n",
       " u'championship',\n",
       " u'example',\n",
       " u'getting',\n",
       " u'biggest',\n",
       " u'performance',\n",
       " u'sports',\n",
       " u'1998',\n",
       " u'let',\n",
       " u'allowed',\n",
       " u'schools',\n",
       " u'means',\n",
       " u'turn',\n",
       " u'leave',\n",
       " u'no.',\n",
       " u'robert',\n",
       " u'personal',\n",
       " u'stocks',\n",
       " u'showed',\n",
       " u'light',\n",
       " u'arrested',\n",
       " u'person',\n",
       " u'either',\n",
       " u'offer',\n",
       " u'majority',\n",
       " u'battle',\n",
       " u'19',\n",
       " u'class',\n",
       " u'evidence',\n",
       " u'makes',\n",
       " u'society',\n",
       " u'products',\n",
       " u'regional',\n",
       " u'needed',\n",
       " u'stage',\n",
       " u'am',\n",
       " u'doing',\n",
       " u'families',\n",
       " u'construction',\n",
       " u'various',\n",
       " u'1996',\n",
       " u'sold',\n",
       " u'independent',\n",
       " u'kind',\n",
       " u'airport',\n",
       " u'paul',\n",
       " u'judge',\n",
       " u'internet',\n",
       " u'movement',\n",
       " u'room',\n",
       " u'followed',\n",
       " u'original',\n",
       " u'angeles',\n",
       " u'italy',\n",
       " u'`',\n",
       " u'data',\n",
       " u'comes',\n",
       " u'parties',\n",
       " u'nothing',\n",
       " u'sea',\n",
       " u'bring',\n",
       " u'2012',\n",
       " u'annual',\n",
       " u'officer',\n",
       " u'beijing',\n",
       " u'present',\n",
       " u'remain',\n",
       " u'nato',\n",
       " u'1999',\n",
       " u'22',\n",
       " u'remains',\n",
       " u'allow',\n",
       " u'florida',\n",
       " u'computer',\n",
       " u'21',\n",
       " u'contract',\n",
       " u'coast',\n",
       " u'created',\n",
       " u'demand',\n",
       " u'operation',\n",
       " u'events',\n",
       " u'islamic',\n",
       " u'beat',\n",
       " u'analysts',\n",
       " u'interview',\n",
       " u'helped',\n",
       " u'child',\n",
       " u'probably',\n",
       " u'spent',\n",
       " u'asian',\n",
       " u'effort',\n",
       " u'cooperation',\n",
       " u'shows',\n",
       " u'calls',\n",
       " u'investigation',\n",
       " u'lives',\n",
       " u'video',\n",
       " u'yen',\n",
       " u'runs',\n",
       " u'tried',\n",
       " u'bad',\n",
       " u'described',\n",
       " u'1994',\n",
       " u'toward',\n",
       " u'written',\n",
       " u'throughout',\n",
       " u'established',\n",
       " u'mission',\n",
       " u'associated',\n",
       " u'buy',\n",
       " u'growing',\n",
       " u'green',\n",
       " u'forward',\n",
       " u'competition',\n",
       " u'poor',\n",
       " u'latest',\n",
       " u'banks',\n",
       " u'question',\n",
       " u'1997',\n",
       " u'prison',\n",
       " u'feel',\n",
       " u'attention',\n",
       " ...]"
      ]
     },
     "execution_count": 24,
     "metadata": {},
     "output_type": "execute_result"
    }
   ],
   "source": [
    "model.index2word"
   ]
  },
  {
   "cell_type": "code",
   "execution_count": 25,
   "metadata": {
    "ExecuteTime": {
     "end_time": "2016-12-08T14:19:47.551021",
     "start_time": "2016-12-08T14:19:47.518248"
    },
    "collapsed": false,
    "run_control": {
     "frozen": false,
     "read_only": false
    }
   },
   "outputs": [],
   "source": [
    "def get_doc_vecs(model, docs):\n",
    "    stoplist = stopwords.words('english')\n",
    "    words_counted = 0\n",
    "    words_skipped = 0\n",
    "    docs_vecs = []\n",
    "    for doc in docs:\n",
    "        doc_vecs = []\n",
    "        try:\n",
    "            regex = re.compile('[%s]' % re.escape(string.punctuation))\n",
    "            doc = doc.lower().split()\n",
    "            for word in doc:\n",
    "                if word not in stoplist:\n",
    "                    try:\n",
    "                        word = str(word)\n",
    "                        word = regex.sub('',word)\n",
    "                        doc_vecs.append(model[word])\n",
    "                        words_counted += 1\n",
    "                    except:\n",
    "                        words_skipped += 1\n",
    "                        pass\n",
    "            docs_vecs.append(np.array(doc_vecs).mean(axis=0))\n",
    "        except:\n",
    "            print \"Failed Doc!\"\n",
    "            pass\n",
    "    return docs_vecs"
   ]
  },
  {
   "cell_type": "code",
   "execution_count": 61,
   "metadata": {
    "ExecuteTime": {
     "end_time": "2016-12-08T15:41:52.996066",
     "start_time": "2016-12-08T15:40:39.023476"
    },
    "collapsed": false,
    "run_control": {
     "frozen": false,
     "marked": true,
     "read_only": false
    }
   },
   "outputs": [],
   "source": [
    "review_vecs = get_doc_vecs(model, reviews.comments)"
   ]
  },
  {
   "cell_type": "code",
   "execution_count": 28,
   "metadata": {
    "ExecuteTime": {
     "end_time": "2016-12-08T15:18:30.613417",
     "start_time": "2016-12-08T15:18:30.344311"
    },
    "collapsed": false,
    "run_control": {
     "frozen": false,
     "read_only": false
    }
   },
   "outputs": [],
   "source": [
    "from gensim.similarities import MatrixSimilarity "
   ]
  },
  {
   "cell_type": "code",
   "execution_count": 62,
   "metadata": {
    "ExecuteTime": {
     "end_time": "2016-12-08T15:41:54.845012",
     "start_time": "2016-12-08T15:41:53.001993"
    },
    "collapsed": false,
    "run_control": {
     "frozen": false,
     "read_only": false
    }
   },
   "outputs": [],
   "source": [
    "vecs = np.empty((len(review_vecs), 300))\n",
    "for i in range(len(review_vecs)):\n",
    "    vecs[i, : ] = review_vecs[i]"
   ]
  },
  {
   "cell_type": "code",
   "execution_count": 63,
   "metadata": {
    "ExecuteTime": {
     "end_time": "2016-12-08T15:42:41.431850",
     "start_time": "2016-12-08T15:41:54.847412"
    },
    "collapsed": false,
    "run_control": {
     "frozen": false,
     "read_only": false
    }
   },
   "outputs": [],
   "source": [
    "review_index = MatrixSimilarity(gensim.matutils.Dense2Corpus(vecs.transpose()))"
   ]
  },
  {
   "cell_type": "markdown",
   "metadata": {
    "run_control": {
     "frozen": false,
     "read_only": false
    }
   },
   "source": [
    "Pickling model"
   ]
  },
  {
   "cell_type": "code",
   "execution_count": 237,
   "metadata": {
    "ExecuteTime": {
     "end_time": "2016-12-08T20:23:07.008358",
     "start_time": "2016-12-08T20:22:39.804527"
    },
    "collapsed": false,
    "run_control": {
     "frozen": false,
     "read_only": false
    }
   },
   "outputs": [],
   "source": [
    "import pickle\n",
    "\n",
    "with open('./review_matrix_aggreg_final.pkl', 'wb') as f:\n",
    "    pickle.dump(review_index, f)"
   ]
  },
  {
   "cell_type": "markdown",
   "metadata": {},
   "source": [
    "Getting the top scores for the input text"
   ]
  },
  {
   "cell_type": "code",
   "execution_count": 240,
   "metadata": {
    "ExecuteTime": {
     "end_time": "2016-12-08T20:34:10.631641",
     "start_time": "2016-12-08T20:34:08.673056"
    },
    "collapsed": false,
    "run_control": {
     "frozen": false,
     "read_only": false
    }
   },
   "outputs": [],
   "source": [
    "scores = [score for score in review_index[get_doc_vecs(model, ['near lots of bars and public transportation. cozy beds and great for one or two people.'])[0]]]\n",
    "indexes = range(0,len(review_vecs))\n",
    "topthousand = sorted(zip(scores, indexes), reverse=True)[:1000]"
   ]
  },
  {
   "cell_type": "code",
   "execution_count": 241,
   "metadata": {
    "ExecuteTime": {
     "end_time": "2016-12-08T20:34:17.266849",
     "start_time": "2016-12-08T20:34:17.245337"
    },
    "collapsed": false,
    "run_control": {
     "frozen": false,
     "read_only": false
    }
   },
   "outputs": [],
   "source": [
    "dfindexes = [tup[1] for tup in topthousand]"
   ]
  },
  {
   "cell_type": "code",
   "execution_count": 242,
   "metadata": {
    "ExecuteTime": {
     "end_time": "2016-12-08T20:34:17.945163",
     "start_time": "2016-12-08T20:34:17.937957"
    },
    "collapsed": true,
    "run_control": {
     "frozen": false,
     "read_only": false
    }
   },
   "outputs": [],
   "source": [
    "dfvectors = [tup[0] for tup in topthousand]"
   ]
  },
  {
   "cell_type": "code",
   "execution_count": 244,
   "metadata": {
    "ExecuteTime": {
     "end_time": "2016-12-08T20:34:32.791442",
     "start_time": "2016-12-08T20:34:32.664485"
    },
    "collapsed": false,
    "run_control": {
     "frozen": false,
     "read_only": false
    }
   },
   "outputs": [],
   "source": [
    "results = reviews.iloc[dfindexes]\n",
    "# results.drop('index',axis=1,inplace=True)"
   ]
  },
  {
   "cell_type": "code",
   "execution_count": 245,
   "metadata": {
    "ExecuteTime": {
     "end_time": "2016-12-08T20:34:33.896759",
     "start_time": "2016-12-08T20:34:33.869639"
    },
    "collapsed": false,
    "run_control": {
     "frozen": false,
     "read_only": false
    }
   },
   "outputs": [
    {
     "data": {
      "text/html": [
       "<div>\n",
       "<table border=\"1\" class=\"dataframe\">\n",
       "  <thead>\n",
       "    <tr style=\"text-align: right;\">\n",
       "      <th></th>\n",
       "      <th>listing_id</th>\n",
       "      <th>comments</th>\n",
       "    </tr>\n",
       "  </thead>\n",
       "  <tbody>\n",
       "    <tr>\n",
       "      <th>127190</th>\n",
       "      <td>934264</td>\n",
       "      <td>We stayed in Lenore's apartment for two nights...</td>\n",
       "    </tr>\n",
       "    <tr>\n",
       "      <th>2715</th>\n",
       "      <td>1910794</td>\n",
       "      <td>We stayed in the apartement with four people, ...</td>\n",
       "    </tr>\n",
       "    <tr>\n",
       "      <th>23393</th>\n",
       "      <td>1292198</td>\n",
       "      <td>Very well located near public transport to dow...</td>\n",
       "    </tr>\n",
       "    <tr>\n",
       "      <th>28330</th>\n",
       "      <td>307891</td>\n",
       "      <td>An absolute jewel.  Staying with a friend for ...</td>\n",
       "    </tr>\n",
       "    <tr>\n",
       "      <th>107534</th>\n",
       "      <td>450551</td>\n",
       "      <td>Kevin's apartment is perfectly located. There ...</td>\n",
       "    </tr>\n",
       "  </tbody>\n",
       "</table>\n",
       "</div>"
      ],
      "text/plain": [
       "       listing_id                                           comments\n",
       "127190     934264  We stayed in Lenore's apartment for two nights...\n",
       "2715      1910794  We stayed in the apartement with four people, ...\n",
       "23393     1292198  Very well located near public transport to dow...\n",
       "28330      307891  An absolute jewel.  Staying with a friend for ...\n",
       "107534     450551  Kevin's apartment is perfectly located. There ..."
      ]
     },
     "execution_count": 245,
     "metadata": {},
     "output_type": "execute_result"
    }
   ],
   "source": [
    "results.head()"
   ]
  },
  {
   "cell_type": "code",
   "execution_count": 246,
   "metadata": {
    "ExecuteTime": {
     "end_time": "2016-12-08T20:34:39.755906",
     "start_time": "2016-12-08T20:34:38.033093"
    },
    "collapsed": false,
    "run_control": {
     "frozen": false,
     "read_only": false
    }
   },
   "outputs": [
    {
     "name": "stderr",
     "output_type": "stream",
     "text": [
      "/Users/veenakumar/anaconda2/lib/python2.7/site-packages/ipykernel/__main__.py:1: SettingWithCopyWarning: \n",
      "A value is trying to be set on a copy of a slice from a DataFrame.\n",
      "Try using .loc[row_indexer,col_indexer] = value instead\n",
      "\n",
      "See the caveats in the documentation: http://pandas.pydata.org/pandas-docs/stable/indexing.html#indexing-view-versus-copy\n",
      "  if __name__ == '__main__':\n"
     ]
    }
   ],
   "source": [
    "results['vectors'] = dfvectors"
   ]
  },
  {
   "cell_type": "code",
   "execution_count": 218,
   "metadata": {
    "ExecuteTime": {
     "end_time": "2016-12-08T19:25:13.155048",
     "start_time": "2016-12-08T19:25:13.147768"
    },
    "collapsed": false,
    "run_control": {
     "frozen": false,
     "read_only": false
    }
   },
   "outputs": [
    {
     "name": "stdout",
     "output_type": "stream",
     "text": [
      "Cozy, warm room and close to many good cafes and restaurants.\n",
      "Great neighborhood.  Loved how there was much to do within walking distance; park, bars, restaurants, and shopping! Room was spacious, clean and beds were comfortable. Thank you again\n",
      "Great space. Very comfortable bed, full kitchen and nice little eating area. So appreciated the coffee and tea supplied. Lots of restaurants within walking distance. My sister and I felt entirely safe walking at night in the neighborhood. \n",
      "Eduardo was a great host. The cottage was very cozy and within walking distance of several nice restaurants and coffee shops. 10/10 would recommend!\n",
      "Great location, very spacious room with everything you'll need during your time here, and comfy bed and comforter/blankets. The hosts are very attentive and provide you with goodies like water, coffee, beer, wine, toiletries, SF pamphlets, and restaurant menus. They have a very cute cat. Lovely place! \n",
      "We had a warm welcome from Kate and her family. The room is quiet, and the bed is very comfortable. There is a beautiful view of the patio and garden with many plants. The Glen Park area has a park with walking trails within walking distance of the studio. There are pleasant coffee shops for breakfast nearby. \n",
      "The place and host are great.  Very clean, very comfy bed.  Large private bathroom.  Mini fridge, toaster oven and blender in room.  Quiet, safe neighborhood with lots of parking.  The neighborhood is out of the way but wonderful. It is only eight blocks from a lovely beach and there is an abundance of excellent stores.  Great coffee, organic groceries, a vegan cafe and more are all within walking distance.  \r\n",
      "Traffic is very light in this neighborhood making for quiet sleeping and it would be a great place for biking as well.\r\n",
      "Highly recommended.\n",
      "This place is amazing!  It's centrally located in the heart of the the Mission and Dolores Park.  Walking distance to plenty of cafes, bars, shops and restaurants.  The bed and couches are very comfortable.  The private outdoor patio is very nice too. I would recommend staying here to everyone.   \n",
      "Lots of restaurants, small markets, bars and coffee shops within steps of the apartment. Comfy bed and fluffy towels. Good size apartment. \n",
      "I has such a great stay at Linda's place. I had to come to SF for business and all of the hotels were full, but luckily I found this awesome spot on Airbnb. The bed was super cozy and I used the living room as a yoga room. The neighborhood is gorgeous and the apartment is within walking distance of many restaurants, coffee shops and more. \n"
     ]
    }
   ],
   "source": [
    "for c in results.comments[:10]:\n",
    "    print c"
   ]
  },
  {
   "cell_type": "code",
   "execution_count": 247,
   "metadata": {
    "ExecuteTime": {
     "end_time": "2016-12-08T20:34:54.700784",
     "start_time": "2016-12-08T20:34:54.634625"
    },
    "collapsed": false,
    "run_control": {
     "frozen": false,
     "read_only": false
    }
   },
   "outputs": [
    {
     "name": "stderr",
     "output_type": "stream",
     "text": [
      "/Users/veenakumar/anaconda2/lib/python2.7/site-packages/ipykernel/__main__.py:1: FutureWarning: sort(columns=....) is deprecated, use sort_values(by=.....)\n",
      "  if __name__ == '__main__':\n"
     ]
    }
   ],
   "source": [
    "results_sorted = results.groupby('listing_id').sum().sort('vectors',ascending=False)"
   ]
  },
  {
   "cell_type": "code",
   "execution_count": 248,
   "metadata": {
    "ExecuteTime": {
     "end_time": "2016-12-08T20:34:55.909381",
     "start_time": "2016-12-08T20:34:55.899403"
    },
    "collapsed": false,
    "run_control": {
     "frozen": false,
     "read_only": false
    }
   },
   "outputs": [],
   "source": [
    "results_sorted.reset_index(inplace=True)"
   ]
  },
  {
   "cell_type": "code",
   "execution_count": 250,
   "metadata": {
    "ExecuteTime": {
     "end_time": "2016-12-08T20:35:11.859189",
     "start_time": "2016-12-08T20:35:11.847563"
    },
    "collapsed": true,
    "run_control": {
     "frozen": false,
     "read_only": false
    }
   },
   "outputs": [],
   "source": [
    "#changing the data type of listing_id to match the data type of 'id' in results_listings table\n",
    "#so that I can successfully merge them later on.\n",
    "\n",
    "results_sorted.listing_id = results_sorted.listing_id.map(int)"
   ]
  },
  {
   "cell_type": "code",
   "execution_count": 251,
   "metadata": {
    "ExecuteTime": {
     "end_time": "2016-12-08T20:35:12.727563",
     "start_time": "2016-12-08T20:35:12.717076"
    },
    "collapsed": false,
    "run_control": {
     "frozen": false,
     "read_only": false
    },
    "scrolled": false
   },
   "outputs": [
    {
     "name": "stdout",
     "output_type": "stream",
     "text": [
      "<class 'pandas.core.frame.DataFrame'>\n",
      "RangeIndex: 614 entries, 0 to 613\n",
      "Data columns (total 2 columns):\n",
      "listing_id    614 non-null int64\n",
      "vectors       614 non-null float64\n",
      "dtypes: float64(1), int64(1)\n",
      "memory usage: 9.7 KB\n"
     ]
    }
   ],
   "source": [
    "results_sorted.info()"
   ]
  },
  {
   "cell_type": "code",
   "execution_count": 252,
   "metadata": {
    "ExecuteTime": {
     "end_time": "2016-12-08T20:35:18.900482",
     "start_time": "2016-12-08T20:35:18.750912"
    },
    "collapsed": false,
    "run_control": {
     "frozen": false,
     "read_only": false
    }
   },
   "outputs": [],
   "source": [
    "results_listings = listings[listings['id'].isin(results_sorted.listing_id.astype(int))]"
   ]
  },
  {
   "cell_type": "markdown",
   "metadata": {
    "run_control": {
     "frozen": false,
     "read_only": false
    }
   },
   "source": [
    "I want to sort the listings by the 'vectors' column, since a sum means more reviews for that listing i.e. high chance that it is most closely related to text input by user.\n",
    "\n",
    "\n",
    "I tried to merge results_listings and results_sorted several different ways in order to add the vectors column but I kept getting an empty dataframe! After many such trials I finally looked at \".info\" for each df and found that the id and listing_id were of different *data types*!!! Once I changed them to the same data type I was able to successfully merge them. Lesson here is to never take the smallest things for granted; the mistake might appear in the simplest areas!"
   ]
  },
  {
   "cell_type": "code",
   "execution_count": 253,
   "metadata": {
    "ExecuteTime": {
     "end_time": "2016-12-08T20:35:22.965096",
     "start_time": "2016-12-08T20:35:22.938722"
    },
    "collapsed": false,
    "run_control": {
     "frozen": false,
     "read_only": false
    },
    "scrolled": false
   },
   "outputs": [
    {
     "name": "stderr",
     "output_type": "stream",
     "text": [
      "/Users/veenakumar/anaconda2/lib/python2.7/site-packages/ipykernel/__main__.py:1: FutureWarning: sort(columns=....) is deprecated, use sort_values(by=.....)\n",
      "  if __name__ == '__main__':\n"
     ]
    }
   ],
   "source": [
    "final = pd.merge(results_listings,results_sorted,left_on='id',right_on='listing_id').sort('vectors',ascending=False)"
   ]
  },
  {
   "cell_type": "code",
   "execution_count": 254,
   "metadata": {
    "ExecuteTime": {
     "end_time": "2016-12-08T20:35:23.978707",
     "start_time": "2016-12-08T20:35:23.862634"
    },
    "collapsed": true,
    "run_control": {
     "frozen": false,
     "read_only": false
    }
   },
   "outputs": [
    {
     "data": {
      "text/html": [
       "<div>\n",
       "<table border=\"1\" class=\"dataframe\">\n",
       "  <thead>\n",
       "    <tr style=\"text-align: right;\">\n",
       "      <th></th>\n",
       "      <th>name</th>\n",
       "      <th>id</th>\n",
       "      <th>bedrooms</th>\n",
       "      <th>bathrooms</th>\n",
       "      <th>accommodates</th>\n",
       "      <th>description</th>\n",
       "      <th>listing_url</th>\n",
       "      <th>latitude</th>\n",
       "      <th>longitude</th>\n",
       "      <th>neighbourhood_cleansed</th>\n",
       "      <th>...</th>\n",
       "      <th>picture_url</th>\n",
       "      <th>price</th>\n",
       "      <th>property_type</th>\n",
       "      <th>review_scores_rating</th>\n",
       "      <th>summary</th>\n",
       "      <th>thumbnail_url</th>\n",
       "      <th>xl_picture_url</th>\n",
       "      <th>zipcode</th>\n",
       "      <th>listing_id</th>\n",
       "      <th>vectors</th>\n",
       "    </tr>\n",
       "  </thead>\n",
       "  <tbody>\n",
       "    <tr>\n",
       "      <th>511</th>\n",
       "      <td>Classic Russian Hill flat in SF!</td>\n",
       "      <td>734839</td>\n",
       "      <td>2.0</td>\n",
       "      <td>1.0</td>\n",
       "      <td>6</td>\n",
       "      <td>This charming Russian Hill flat, in an Edwardi...</td>\n",
       "      <td>https://www.airbnb.com/rooms/734839</td>\n",
       "      <td>37.801526</td>\n",
       "      <td>-122.409400</td>\n",
       "      <td>North Beach</td>\n",
       "      <td>...</td>\n",
       "      <td>https://a2.muscache.com/ic/pictures/10382187/a...</td>\n",
       "      <td>330.0</td>\n",
       "      <td>Apartment</td>\n",
       "      <td>98.0</td>\n",
       "      <td>This charming Russian Hill flat, in an Edwardi...</td>\n",
       "      <td>https://a2.muscache.com/ic/pictures/10382187/a...</td>\n",
       "      <td>https://a2.muscache.com/ic/pictures/10382187/a...</td>\n",
       "      <td>94109.0</td>\n",
       "      <td>734839</td>\n",
       "      <td>6.122040</td>\n",
       "    </tr>\n",
       "    <tr>\n",
       "      <th>508</th>\n",
       "      <td>CHARMING NORTH BEACH ALLEY HIDEAWAY</td>\n",
       "      <td>1178260</td>\n",
       "      <td>2.0</td>\n",
       "      <td>1.5</td>\n",
       "      <td>4</td>\n",
       "      <td>CHARMING NORTH BEACH ALLEY HIDEAWAY In the hea...</td>\n",
       "      <td>https://www.airbnb.com/rooms/1178260</td>\n",
       "      <td>37.801543</td>\n",
       "      <td>-122.401358</td>\n",
       "      <td>North Beach</td>\n",
       "      <td>...</td>\n",
       "      <td>https://a2.muscache.com/ic/pictures/17888339/f...</td>\n",
       "      <td>250.0</td>\n",
       "      <td>Apartment</td>\n",
       "      <td>99.0</td>\n",
       "      <td>NaN</td>\n",
       "      <td>https://a2.muscache.com/ic/pictures/17888339/f...</td>\n",
       "      <td>https://a2.muscache.com/ic/pictures/17888339/f...</td>\n",
       "      <td>94133.0</td>\n",
       "      <td>1178260</td>\n",
       "      <td>6.116649</td>\n",
       "    </tr>\n",
       "    <tr>\n",
       "      <th>384</th>\n",
       "      <td>Beautiful Upscale House Private BR</td>\n",
       "      <td>38607</td>\n",
       "      <td>1.0</td>\n",
       "      <td>1.0</td>\n",
       "      <td>2</td>\n",
       "      <td>Enjoy one of the absolute best and upscale nei...</td>\n",
       "      <td>https://www.airbnb.com/rooms/38607</td>\n",
       "      <td>37.781975</td>\n",
       "      <td>-122.458092</td>\n",
       "      <td>Presidio Heights</td>\n",
       "      <td>...</td>\n",
       "      <td>https://a1.muscache.com/ic/pictures/844895/8f1...</td>\n",
       "      <td>139.0</td>\n",
       "      <td>House</td>\n",
       "      <td>96.0</td>\n",
       "      <td>NaN</td>\n",
       "      <td>https://a1.muscache.com/ic/pictures/844895/8f1...</td>\n",
       "      <td>https://a1.muscache.com/ic/pictures/844895/8f1...</td>\n",
       "      <td>94118.0</td>\n",
       "      <td>38607</td>\n",
       "      <td>6.115148</td>\n",
       "    </tr>\n",
       "    <tr>\n",
       "      <th>249</th>\n",
       "      <td>GORGEOUS FLAT IN GREAT LOCATION</td>\n",
       "      <td>42572</td>\n",
       "      <td>3.0</td>\n",
       "      <td>1.5</td>\n",
       "      <td>6</td>\n",
       "      <td>I am a painter and my work takes up most of my...</td>\n",
       "      <td>https://www.airbnb.com/rooms/42572</td>\n",
       "      <td>37.762218</td>\n",
       "      <td>-122.425424</td>\n",
       "      <td>Mission</td>\n",
       "      <td>...</td>\n",
       "      <td>https://a0.muscache.com/ic/pictures/238885/ba6...</td>\n",
       "      <td>360.0</td>\n",
       "      <td>Apartment</td>\n",
       "      <td>98.0</td>\n",
       "      <td>I am a painter and my work takes up most of my...</td>\n",
       "      <td>https://a0.muscache.com/ic/pictures/238885/ba6...</td>\n",
       "      <td>https://a0.muscache.com/ic/pictures/238885/ba6...</td>\n",
       "      <td>94110.0</td>\n",
       "      <td>42572</td>\n",
       "      <td>5.265322</td>\n",
       "    </tr>\n",
       "    <tr>\n",
       "      <th>93</th>\n",
       "      <td>Large central 3BR/2BA with parking</td>\n",
       "      <td>930955</td>\n",
       "      <td>3.0</td>\n",
       "      <td>2.0</td>\n",
       "      <td>7</td>\n",
       "      <td>Our home is located almost right in the middle...</td>\n",
       "      <td>https://www.airbnb.com/rooms/930955</td>\n",
       "      <td>37.759827</td>\n",
       "      <td>-122.448205</td>\n",
       "      <td>Haight Ashbury</td>\n",
       "      <td>...</td>\n",
       "      <td>https://a1.muscache.com/ic/pictures/23505927/9...</td>\n",
       "      <td>500.0</td>\n",
       "      <td>Apartment</td>\n",
       "      <td>92.0</td>\n",
       "      <td>Our home is located almost right in the middle...</td>\n",
       "      <td>https://a1.muscache.com/ic/pictures/23505927/9...</td>\n",
       "      <td>https://a1.muscache.com/ic/pictures/23505927/9...</td>\n",
       "      <td>94114.0</td>\n",
       "      <td>930955</td>\n",
       "      <td>5.257318</td>\n",
       "    </tr>\n",
       "  </tbody>\n",
       "</table>\n",
       "<p>5 rows × 21 columns</p>\n",
       "</div>"
      ],
      "text/plain": [
       "                                    name       id  bedrooms  bathrooms  \\\n",
       "511     Classic Russian Hill flat in SF!   734839       2.0        1.0   \n",
       "508  CHARMING NORTH BEACH ALLEY HIDEAWAY  1178260       2.0        1.5   \n",
       "384   Beautiful Upscale House Private BR    38607       1.0        1.0   \n",
       "249      GORGEOUS FLAT IN GREAT LOCATION    42572       3.0        1.5   \n",
       "93    Large central 3BR/2BA with parking   930955       3.0        2.0   \n",
       "\n",
       "     accommodates                                        description  \\\n",
       "511             6  This charming Russian Hill flat, in an Edwardi...   \n",
       "508             4  CHARMING NORTH BEACH ALLEY HIDEAWAY In the hea...   \n",
       "384             2  Enjoy one of the absolute best and upscale nei...   \n",
       "249             6  I am a painter and my work takes up most of my...   \n",
       "93              7  Our home is located almost right in the middle...   \n",
       "\n",
       "                              listing_url   latitude   longitude  \\\n",
       "511   https://www.airbnb.com/rooms/734839  37.801526 -122.409400   \n",
       "508  https://www.airbnb.com/rooms/1178260  37.801543 -122.401358   \n",
       "384    https://www.airbnb.com/rooms/38607  37.781975 -122.458092   \n",
       "249    https://www.airbnb.com/rooms/42572  37.762218 -122.425424   \n",
       "93    https://www.airbnb.com/rooms/930955  37.759827 -122.448205   \n",
       "\n",
       "    neighbourhood_cleansed    ...     \\\n",
       "511            North Beach    ...      \n",
       "508            North Beach    ...      \n",
       "384       Presidio Heights    ...      \n",
       "249                Mission    ...      \n",
       "93          Haight Ashbury    ...      \n",
       "\n",
       "                                           picture_url  price  property_type  \\\n",
       "511  https://a2.muscache.com/ic/pictures/10382187/a...  330.0      Apartment   \n",
       "508  https://a2.muscache.com/ic/pictures/17888339/f...  250.0      Apartment   \n",
       "384  https://a1.muscache.com/ic/pictures/844895/8f1...  139.0          House   \n",
       "249  https://a0.muscache.com/ic/pictures/238885/ba6...  360.0      Apartment   \n",
       "93   https://a1.muscache.com/ic/pictures/23505927/9...  500.0      Apartment   \n",
       "\n",
       "    review_scores_rating                                            summary  \\\n",
       "511                 98.0  This charming Russian Hill flat, in an Edwardi...   \n",
       "508                 99.0                                                NaN   \n",
       "384                 96.0                                                NaN   \n",
       "249                 98.0  I am a painter and my work takes up most of my...   \n",
       "93                  92.0  Our home is located almost right in the middle...   \n",
       "\n",
       "                                         thumbnail_url  \\\n",
       "511  https://a2.muscache.com/ic/pictures/10382187/a...   \n",
       "508  https://a2.muscache.com/ic/pictures/17888339/f...   \n",
       "384  https://a1.muscache.com/ic/pictures/844895/8f1...   \n",
       "249  https://a0.muscache.com/ic/pictures/238885/ba6...   \n",
       "93   https://a1.muscache.com/ic/pictures/23505927/9...   \n",
       "\n",
       "                                        xl_picture_url  zipcode  listing_id  \\\n",
       "511  https://a2.muscache.com/ic/pictures/10382187/a...  94109.0      734839   \n",
       "508  https://a2.muscache.com/ic/pictures/17888339/f...  94133.0     1178260   \n",
       "384  https://a1.muscache.com/ic/pictures/844895/8f1...  94118.0       38607   \n",
       "249  https://a0.muscache.com/ic/pictures/238885/ba6...  94110.0       42572   \n",
       "93   https://a1.muscache.com/ic/pictures/23505927/9...  94114.0      930955   \n",
       "\n",
       "      vectors  \n",
       "511  6.122040  \n",
       "508  6.116649  \n",
       "384  6.115148  \n",
       "249  5.265322  \n",
       "93   5.257318  \n",
       "\n",
       "[5 rows x 21 columns]"
      ]
     },
     "execution_count": 254,
     "metadata": {},
     "output_type": "execute_result"
    }
   ],
   "source": [
    "final.head()"
   ]
  },
  {
   "cell_type": "code",
   "execution_count": 255,
   "metadata": {
    "ExecuteTime": {
     "end_time": "2016-12-08T20:35:34.229728",
     "start_time": "2016-12-08T20:35:34.219221"
    },
    "collapsed": true,
    "run_control": {
     "frozen": false,
     "read_only": false
    }
   },
   "outputs": [
    {
     "name": "stdout",
     "output_type": "stream",
     "text": [
      "This charming Russian Hill flat, in an Edwardian building built in 1907, is the perfect location for your San Francisco get-away. The building is located on a quiet street in the delightful Russian Hill neighborhood that is full of old world charm. 日本語でのご案内は英語の後にあります。 SAN FRANCISCO SHORT-TERM RESIDENTIAL RENTAL RESISTRATION NUMBER: STR-0000091 Possession of a San FranciscoShort-Term Rental Certificate certifies that the registration certificate holder has agreed to comply with the terms of the San Francisco Short-Term Residential Rental Ordinance (San Francisco Administrative Code Section 41A. This ordinance does not require an inspection of the unit by the City for potential Building, Housing, Fire, or other Code Violations. This charming Russian Hill property, in an Edwardian building built in 1907, is the perfect location for your San Francisco get-away. The building is located on a quiet street in the delightful Russian Hill neighborhood that is full of old world charm, and is conv\n",
      "CHARMING NORTH BEACH ALLEY HIDEAWAY In the heart of San Francisco's renowned North Beach is our inviting alley hideaway situated in a 1908 building. This upscale flat has just been completely renovated and includes:  - 2 bedrooms with a queen size bed in each - 1 full bath with tub/shower  - PLUS a spacious 1/2 bath off the master bedroom - Kitchen and living room share one enjoyable communal space - Full kitchen complete with gas stove, full refrigerator with ice maker, dishwasher, garbage disposal, pantry and a friendly island that seats 4. It also has contemporary cabinets and Caesarstone quartz counter tops - Comfortable living room with 40\" flat screen cable HDTV - Wireless internet - Your own washer and dryer too!  - Original wood fir floors throughout the flat - There is a handy health food/grocery store just around the corner  - Fabulous restaurants – Italian, Greek, Chinese, Vietnamese, Thai cuisine, and great American hamburgers all within a block or two. In just a short jaun\n",
      "Enjoy one of the absolute best and upscale neighborhoods in all of San Francisco - Jordan Park, featured as one of the best neighborhoods in the U.S. by Town and Country magazine.  Extremely quiet and peaceful neighborhood in the heart of the city.  Offering an exquisite private bedroom, private full bathroom and small kitchenette area, including mini refrigerator, microwave, coffee maker and sink.  The queen size bed is luxurious and very comfortable.   Located in a 3000 sq ft private residence in an upscale area of San Francisco.  Hardwood floors throughout.  Brand New Flat Panel TV with cable in the bedroom. No smoking inside the unit.  Shared main entrance from my front door.  Quiet hours after 10pm on weeknights. On street parking is available (and plentiful!) for evenings.  Otherwise during business hours, there is 2 hour free parking on the street without a local resident permit. Parking in driveway may be available for an additional $20 per day.  Based on availability.  No truc\n",
      "I am a painter and my work takes up most of my time. I often travel with connection to my work. I have my little room with a bathroom and a kitchenette downstairs, so you'll have a 100% privacy. I work for a non-profit and I have to travel occasionally. When I'm out of town I rent my beautiful flat in the Dolores Park area of The Mission and Castro. My flat features: - Wood grain moldings, doors, etc. - Huge kitchen, new - Fireplace - Formal dining room - There is a single staircase to get up to the flat - Backyard with a BBQ - Free WIFI - Computer + Printer  - PARKING - 48\" Flat screen HD TV in Living Room - HBO You will have access to the entire flat, I keep my personal belongings out of the way, in one of the closets. Located in the thriving \"Valencia Street Corridor\"... this area has become one of San Francisco's most exciting neighborhoods and likely the hottest nightspot and restaurant area. This area has been featured in articles in the NY Times and elsewhere. The neighborhood b\n",
      "Our home is located almost right in the middle of the San Francisco peninsula. It is one unit in a two unit building. The condo was recently remodeled less than two years ago with all new stainless appliances and bathroom fixtures. Newly remodeled 3BR/2BA located right in the middle of San Francisco. Second floor unit in a 2 unit building with approximately 1500 sq ft. consists of a large master bedroom suite and 2 good sized bedrooms. Kitchen and 2 full baths are newly remodeled with all new Stainless Steel appliances and Grohe fixtures. The living room in the back of the flat has 2 large sliding doors which open to a nice deck, great for having a coffee or tea in the morning. From the deck, you will also have a partial view of some of the neighborhoods as well as Golden Gate Park and the San Francisco Bay in the distance. On a clear day, you can see the Golden Gate Bridge. Parking is available for one vehicle but must let me know prior to booking to secure. Street parking is also rel\n",
      "Charm abounds in this 1890 renovated Victorian,  3 bedrooms,  2 baths, fully equipped kitchen, living & dining rooms, laundry, patio.  Quiet street, central location, multiple public transport and exciting neighborhoods nearby. Free parking at house! What better way to experience San Francisco than staying in an authentic and renovated 1890 Victorian (one of those tourists come here to gaze at), in a central location yet on a safe, quiet and charming street, with attractions, food, shopping and public transportation within walking distance? Furthermore, the luxury of 3 bedrooms and two baths at this price point is very rare in a top rated location in town. While our street is quiet, it's one block from Haight. Lots of fun shopping, cafes and restaurants within short walking distance.  The house built as a duplex,  the flat offered is the whole first floor.  Located between two popular city parks, Buena Vista Park and Duboce Park.  High ceilings, wood floors, period moldings. Bathrooms \n",
      "Beautiful  2 bed, 1 bath apartment in the Parkside neighborhood of San Francisco.  Comfortable living room with working fireplace, formal dining room and gourmet kitchen.  Original Art-deco interior with beautiful hard wood floors.  Great views.  Close to Ocean Beach, Golden Gate Park, UCSF, USF and SFSU.  One block to Muni L train line.  Park, library, shops, restaurants and public swimming pool all in walking distance (1-3 blocks).   Apartment has one queen bedroom, one double bedroom.  The living room has one queen and one single sleeper couch, which can be closed off into another private bedroom.  Full laundry with washer and dryer, also ironing board and iron, fast WiFi -Internet and cable TV.  There is plenty of street parking to the front and side of the house. Only 5 minutes to both 280 and 101 freeways.  Easy 15 minute drive to San Francisco Airport (SFO).   All towels and linens are supplied. \n",
      "Bottom floor apartment, only used by vacationers, located in the heart of the Inner Sunset in San Francisco, a very popular local neighborhood with great restaurants. One of San Francisco's safest neighborhoods! One block from 9th & Irving, a great area with all the amenities needed. Just two blocks from Golden Gate Park with all the central attractions, including the Academy of Sciences, De Young Museum, Botanical Gardens, Japanese Tea Garden and more. Over forty restaurants, including the city's best sushi, Thai, and Indian, all within three blocks walking distance. MUNI (rail car and buses) only 1 block away with city car share rental sites close by as well. Beach is a short drive or train ride away. 2 full bedrooms, that share a wall as well as a comfortable sleeper sofa for two. There is accessibility to a Pack N Play for infants and one full bathroom. High-speed wifi and full cable TV: you can surf the net or watch your favorite shows. Super kid-friendly (we have a 1st grader) wi\n",
      "Greetings! Please also check out our Luxury Haight Hot Tub rental (also in the same building) https://www.airbnb.com/rooms/1726171 And our new 3rd unit is now available in the same building https://www.airbnb.com/rooms/2094237 Welcome to one of the nicest 1 Bedrooms in San Francisco! San Francisco is 7 miles wide by 7 miles long, in fact a very popular San Francisco lifestyle magazine you should check out while you are in town is called 7x7. Well now that you know this interesting fact about our wonderful city picture a SQUARE that is 7 miles wide and 7 miles long. Now look at the dead center of that square, the most center point, equidistant to any location on that square, in San Francisco that most center point is exactly where our amazing AirBnb rental is located! It doesn't get any better than this if you want a great spot to explore the city. Don't believe me, well....click the MAP tab above! Anyway onto the listing: The building is unique in that we as are not only owners who ren\n",
      "New renovated Garden Suite with separated entrance, private Living room, private Bathroom Newly renovated Garden Suite with separated entrance, private living room, bed room, bathroom. You have total privacy during your stay. Our house is in Central Richmond, San Francisco which is close to the Golden Gate Bridge and Golden Gate Park.  It is a safe, peaceful residential neighborhood with excellent access to SF's urban center.  Your lovely garden suite has a private entrance, with  - Access to garden - Private Bathroom (attached) - Private Entrance - Fast WiFi (Wireless Internet)  - Queen-sized bed - sofa bed (69 in / 175 cm long) - alternatively, an aerobed is provided upon request.  - Table and Chairs - Microwave and Refrigerator - Hairdryer - Iron and iron board upon request - Laundromat half a block away YOUR LOCATION  3 minutes walking to Golden Gate Park. 10 minutes driving to Golden Gate Bridge Public transportation goes to downtown, Union Square, Chinatown, museums,  beaches, ma\n"
     ]
    }
   ],
   "source": [
    "for c in final.description[:10]:\n",
    "    print c\n"
   ]
  },
  {
   "cell_type": "markdown",
   "metadata": {
    "collapsed": true,
    "run_control": {
     "frozen": false,
     "read_only": false
    }
   },
   "source": [
    "Workflow"
   ]
  },
  {
   "cell_type": "markdown",
   "metadata": {
    "run_control": {
     "frozen": false,
     "read_only": false
    }
   },
   "source": [
    "1. User enters text\n",
    "2. Vectorize the text --> run it through get_doc_vecs function\n",
    "3. Matrix similarity and return top50 results\n",
    "4. Listing table to show top50 listings with info\n",
    "5. App --> Display top 50 results and on map"
   ]
  }
 ],
 "metadata": {
  "anaconda-cloud": {},
  "kernelspec": {
   "display_name": "Python [conda root]",
   "language": "python",
   "name": "conda-root-py"
  },
  "language_info": {
   "codemirror_mode": {
    "name": "ipython",
    "version": 2
   },
   "file_extension": ".py",
   "mimetype": "text/x-python",
   "name": "python",
   "nbconvert_exporter": "python",
   "pygments_lexer": "ipython2",
   "version": "2.7.12"
  },
  "latex_envs": {
   "bibliofile": "biblio.bib",
   "cite_by": "apalike",
   "current_citInitial": 1,
   "eqLabelWithNumbers": true,
   "eqNumInitial": 0
  },
  "toc": {
   "nav_menu": {
    "height": "12px",
    "width": "252px"
   },
   "navigate_menu": true,
   "number_sections": true,
   "sideBar": true,
   "threshold": 4,
   "toc_cell": false,
   "toc_section_display": "block",
   "toc_window_display": false
  }
 },
 "nbformat": 4,
 "nbformat_minor": 1
}
