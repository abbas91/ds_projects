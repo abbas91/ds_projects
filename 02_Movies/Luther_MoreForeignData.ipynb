{
 "cells": [
  {
   "cell_type": "code",
   "execution_count": 1,
   "metadata": {
    "collapsed": false
   },
   "outputs": [
    {
     "name": "stdout",
     "output_type": "stream",
     "text": [
      "Fetching package metadata .......\n",
      "Solving package specifications: ..........\n",
      "\n",
      "# All requested packages already installed.\n",
      "# packages in environment at /Users/veenakumar/anaconda2:\n",
      "#\n",
      "beautifulsoup4            4.5.1                    py27_0  \n",
      "Fetching package metadata .......\n",
      "Solving package specifications: ..........\n",
      "\n",
      "# All requested packages already installed.\n",
      "# packages in environment at /Users/veenakumar/anaconda2:\n",
      "#\n",
      "requests                  2.11.1                   py27_0  \n"
     ]
    }
   ],
   "source": [
    "import pandas as pd\n",
    "import numpy as np\n",
    "import matplotlib.pyplot as plt\n",
    "!conda install beautifulsoup4 --yes\n",
    "from bs4 import BeautifulSoup\n",
    "!conda install requests --yes\n",
    "import requests\n",
    "import os\n",
    "import re\n",
    "\n",
    "%matplotlib inline"
   ]
  },
  {
   "cell_type": "code",
   "execution_count": 26,
   "metadata": {
    "collapsed": false
   },
   "outputs": [
    {
     "name": "stdout",
     "output_type": "stream",
     "text": [
      "<b>\n",
      "<a href=\"/movies/?page=intl&amp;country=00&amp;id=junglebook2015.htm\">\n",
      "                   FOREIGN TOTAL\n",
      "                  </a>\n",
      "</b>\n"
     ]
    }
   ],
   "source": [
    "path = '/Users/veenakumar/Desktop/Projects/Luther/BomForeign/'\n",
    "import re\n",
    "foreign = []\n",
    "\n",
    "\n",
    "# def get_table(path):\n",
    "# for filename in os.listdir(path):\n",
    "#     if filename.endswith('htm'): \n",
    "datafile = path+'junglebook2015.htm'\n",
    "soup = BeautifulSoup(open(datafile))\n",
    "all_tables = soup.find('table').find(text=re.compile('FOREIGN TOTAL')).parent.parent\n",
    "print all_tables\n",
    "\n",
    "# all_trs = all_tables.findAll('tr')\n",
    "# for i,tr in enumerate(all_trs):\n",
    "#     if i <= 4:\n",
    "#         pass\n",
    "#     else:\n",
    "#         tds = \n",
    "# #         f_data= all_trs.findAll('td')[:5]\n",
    "# #         foreign.append(f_data)\n",
    "\n",
    "\n"
   ]
  },
  {
   "cell_type": "code",
   "execution_count": 18,
   "metadata": {
    "collapsed": true
   },
   "outputs": [
    {
     "name": "stdout",
     "output_type": "stream",
     "text": [
      "[<tr>\\n<td>\\n<center>\\n<table bgcolor=\"#dcdcdc\" border=\"0\" cellpadding=\"4\" cellspacing=\"1\" width=\"95%\">\\n<tr bgcolor=\"#ffffff\">\\n<td align=\"center\" colspan=\"2\">\\n<font size=\"4\">\\n                     Domestic Total Gross:\\n                     <b>\\n                      $364,001,123\\n                     </b>\\n</font>\\n</td>\\n</tr>\\n<tr bgcolor=\"#ffffff\">\\n<td valign=\"top\">\\n                    Distributor:\\n                    <b>\\n<a href=\"/studio/chart/?studio=buenavista.htm\">\\n                      Buena Vista\\n                     </a>\\n</b>\\n</td>\\n<td valign=\"top\">\\n                    Release Date:\\n                    <b>\\n<nobr>\\n<a href=\"/schedule/?view=bydate&amp;release=theatrical&amp;date=2016-04-15&amp;p=.htm\">\\n                       April 15, 2016\\n                      </a>\\n</nobr>\\n</b>\\n</td>\\n</tr>\\n<tr bgcolor=\"#ffffff\">\\n<td valign=\"top\">\\n                    Genre:\\n                    <b>\\n                     Adventure\\n                    </b>\\n</td>\\n<td valign=\"top\">\\n                    Runtime:\\n                    <b>\\n                     1 hrs. 45 min.\\n                    </b>\\n</td>\\n</tr>\\n<tr bgcolor=\"#ffffff\">\\n<td valign=\"top\">\\n                    MPAA Rating:\\n                    <b>\\n                     PG\\n                    </b>\\n</td>\\n<td valign=\"top\">\\n                    Production Budget:\\n                    <b>\\n                     $175 million\\n                    </b>\\n</td>\\n</tr>\\n</table>\\n<table border=\"0\" cellpadding=\"2\" cellspacing=\"0\" width=\"95%\">\\n<form action=\"/showtimes/savelocation.php\" method=\"POST\" name=\"movietimesbox\">\\n<input name=\"return\" type=\"hidden\" value=\"bymovie|junglebook2015.htm\"/>\\n<tr>\\n<td nowrap=\"\" style=\"padding-top: 10px\">\\n<a href=\"http://www.imdb.com/showtimes?ref_=mojo\">\\n<img src=\"/images/mojo_imdb_med.png\" style=\"vertical-align:middle\"/>\\n</a>\\n<a href=\"http://www.imdb.com/showtimes?ref_=mojo\">\\n                      Get local showtimes at IMDb\\n                     </a>\\n</td>\\n</tr>\\n</form>\\n</table>\\n</center>\\n</td>\\n</tr>, <tr bgcolor=\"#ffffff\">\\n<td align=\"center\" colspan=\"2\">\\n<font size=\"4\">\\n                     Domestic Total Gross:\\n                     <b>\\n                      $364,001,123\\n                     </b>\\n</font>\\n</td>\\n</tr>, <tr bgcolor=\"#ffffff\">\\n<td valign=\"top\">\\n                    Distributor:\\n                    <b>\\n<a href=\"/studio/chart/?studio=buenavista.htm\">\\n                      Buena Vista\\n                     </a>\\n</b>\\n</td>\\n<td valign=\"top\">\\n                    Release Date:\\n                    <b>\\n<nobr>\\n<a href=\"/schedule/?view=bydate&amp;release=theatrical&amp;date=2016-04-15&amp;p=.htm\">\\n                       April 15, 2016\\n                      </a>\\n</nobr>\\n</b>\\n</td>\\n</tr>, <tr bgcolor=\"#ffffff\">\\n<td valign=\"top\">\\n                    Genre:\\n                    <b>\\n                     Adventure\\n                    </b>\\n</td>\\n<td valign=\"top\">\\n                    Runtime:\\n                    <b>\\n                     1 hrs. 45 min.\\n                    </b>\\n</td>\\n</tr>, <tr bgcolor=\"#ffffff\">\\n<td valign=\"top\">\\n                    MPAA Rating:\\n                    <b>\\n                     PG\\n                    </b>\\n</td>\\n<td valign=\"top\">\\n                    Production Budget:\\n                    <b>\\n                     $175 million\\n                    </b>\\n</td>\\n</tr>, <tr>\\n<td nowrap=\"\" style=\"padding-top: 10px\">\\n<a href=\"http://www.imdb.com/showtimes?ref_=mojo\">\\n<img src=\"/images/mojo_imdb_med.png\" style=\"vertical-align:middle\"/>\\n</a>\\n<a href=\"http://www.imdb.com/showtimes?ref_=mojo\">\\n                      Get local showtimes at IMDb\\n                     </a>\\n</td>\\n</tr>]\n"
     ]
    }
   ],
   "source": [
    "print all_trs\n",
    "all_trs = soup.findAll('table')[4].findAll('tr')[4].findAll('td')[:5]\n"
   ]
  },
  {
   "cell_type": "code",
   "execution_count": null,
   "metadata": {
    "collapsed": true
   },
   "outputs": [],
   "source": [
    "\n",
    "\n",
    "\n",
    "#Step 2: \"get\" the webpage --> run it through beautifulsoup to make it a soup object --> find\n",
    "#all of the places that have \"table\" and the class type as \"wikitable\" and set it to a list.\n",
    "response = requests.get(\"https://en.wikipedia.org/wiki/List_of_film_remakes_(A%E2%80%93M)\")\n",
    "soup = BeautifulSoup(response.text)\n",
    "movie_list = soup.findAll(\"table\",{ \"class\" : \"wikitable\" })\n",
    "movie_list\n",
    "\n",
    "#Step 3a: Making the dataframe of the above data.\n",
    "movies = []\n",
    "\n",
    "header = ['Remakes','Original Version']\n",
    "for row in movie_list: #for every line in movie_list,\n",
    "    for s in row.findAll('tr'): #for every item in that line, find the tag \"tr\",\n",
    "        row_dict = {}\n",
    "        for i,cell in enumerate(s.findAll(\"td\")): \n",
    "            if i == 0:\n",
    "                row_dict[header[i]] = cell.findAll(text=True)\n",
    "            if i == 1:\n",
    "                row_dict[header[i]] = cell.findAll(text=True)\n",
    "        movies.append(row_dict) #add all elements to the list to make the below df\n",
    "    \n",
    "\n",
    "\n",
    "# In[195]:\n",
    "\n",
    "#Step 3b: Repeating the step for the other half of the alphabet, which is on another page.\n",
    "response = requests.get(\"https://en.wikipedia.org/wiki/List_of_film_remakes_(N%E2%80%93Z)\")\n",
    "soup2 = BeautifulSoup(response.text)\n",
    "movie_list2 = soup2.findAll(\"table\",{ \"class\" : \"wikitable\" })\n",
    "movie_list2\n",
    "\n",
    "\n",
    "# In[196]:\n",
    "\n",
    "for row in movie_list2:\n",
    "    for s in row.findAll('tr'): #for every item in that line, find the tag \"tr\",\n",
    "        row_dict2={}\n",
    "        for i,cell in enumerate(s.findAll(\"td\")): \n",
    "            if i == 0:\n",
    "                row_dict2[header[i]] = cell.findAll(text=True)\n",
    "            if i == 1:\n",
    "                row_dict2[header[i]] = cell.findAll(text=True)\n",
    "        movies.append(row_dict2) #add all elements to the list to make the below df\n",
    "\n",
    "\n",
    "# In[213]:\n",
    "\n",
    "#turn the dictionary into dataframe\n",
    "movies_df = pd.DataFrame(movies)\n",
    "#remove null values\n",
    "movies_df = movies_df.dropna()\n",
    "#reset the index\n",
    "movies_df.reset_index(drop=True)\n",
    "\n",
    "\n",
    "# In[214]:\n",
    "\n",
    "#Parsing out titles and years into separate columns.\n",
    "titles_o = []\n",
    "years_o = []\n",
    "titles_r = []\n",
    "years_r = []\n",
    "\n",
    "for row in movies_df['Original Version']:\n",
    "    titles_o.append(row[0])\n",
    "    if row[1]:\n",
    "        years_o.append(row[1])\n",
    "for row in movies_df['Remakes']:\n",
    "    titles_r.append(row[0])\n",
    "    if row[1]:\n",
    "        years_r.append(row[1])\n",
    "\n",
    "movies_df['Original'] = titles_o\n",
    "movies_df['Original Yr'] = years_o\n",
    "movies_df['Remake'] = titles_r\n",
    "movies_df['Remake Yr'] = years_r\n",
    "\n",
    "\n",
    "# In[215]:\n",
    "\n",
    "movies_df = movies_df[['Original','Original Yr','Remake','Remake Yr']]\n",
    "movies_df.reset_index(drop=True)\n",
    "\n",
    "\n",
    "# In[246]:\n",
    "\n",
    "def clean_year(val):\n",
    "    years = val.split(\"dir\")\n",
    "    if len(years) > 1:\n",
    "        val = years[0]\n",
    "    val = val.replace(\"(\", \"\").replace(\")\", \"\").strip()\n",
    "    if val.isdigit():\n",
    "        val = int(val)\n",
    "    else:\n",
    "        val = 0\n",
    "    return val\n",
    "\n",
    "movies_df[\"Original Yr\"] = movies_df[\"Original Yr\"].map(clean_year)\n",
    "movies_df[\"Remake Yr\"] = movies_df[\"Remake Yr\"].map(clean_year)\n",
    "\n",
    "\n",
    "# In[247]:\n",
    "\n",
    "movies_df.reset_index(inplace=True,drop=True)\n",
    "movies_df = movies_df[['Original','Original Yr','Remake','Remake Yr']]\n",
    "\n",
    "movies_df.to_csv('/Users/veenakumar/Desktop/Projects/Luther/wiki_remakes.csv',encoding = 'utf-8')\n",
    "\n",
    "\n"
   ]
  },
  {
   "cell_type": "code",
   "execution_count": null,
   "metadata": {
    "collapsed": true
   },
   "outputs": [],
   "source": []
  },
  {
   "cell_type": "code",
   "execution_count": null,
   "metadata": {
    "collapsed": true
   },
   "outputs": [],
   "source": []
  }
 ],
 "metadata": {
  "anaconda-cloud": {},
  "kernelspec": {
   "display_name": "Python [Root]",
   "language": "python",
   "name": "Python [Root]"
  },
  "language_info": {
   "codemirror_mode": {
    "name": "ipython",
    "version": 2
   },
   "file_extension": ".py",
   "mimetype": "text/x-python",
   "name": "python",
   "nbconvert_exporter": "python",
   "pygments_lexer": "ipython2",
   "version": "2.7.12"
  }
 },
 "nbformat": 4,
 "nbformat_minor": 0
}
